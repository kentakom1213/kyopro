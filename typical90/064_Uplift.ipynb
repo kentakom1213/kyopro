{
 "cells": [
  {
   "cell_type": "markdown",
   "id": "6d5d3c8e-63d1-4ef6-af07-c285284934b5",
   "metadata": {},
   "source": [
    "# [064 - Uplift（★3）](https://atcoder.jp/contests/typical90/tasks/typical90_bl)\n",
    "\n",
    "### 方針\n",
    "いもす法っぽい感じがする\n",
    "\n",
    "### [解説](https://twitter.com/e869120/status/1403483256234799105/photo/1)\n",
    "難しい...\n",
    "\n",
    "いもす + 尺取り(差分を取る)\n",
    "\n",
    "### 感想/反省\n",
    "- 計算量をしっかり考える\n",
    "- こだわらない\n",
    "- 配列/ベクトルの範囲は大きめに取る"
   ]
  },
  {
   "cell_type": "code",
   "execution_count": 1,
   "id": "994ecf98-ddcf-4703-8992-31ef27515968",
   "metadata": {},
   "outputs": [],
   "source": [
    "#include <bits/stdc++.h>\n",
    "using namespace std;\n",
    "typedef long long ll;\n",
    "#define rep(i, n) for (int i = 0; i < (int)(n); i++)\n",
    "#define ALL(a) (a).begin(), (a).end()"
   ]
  },
  {
   "cell_type": "code",
   "execution_count": 2,
   "id": "88281d2d-9581-4bc0-8cac-8859e235f2f6",
   "metadata": {},
   "outputs": [],
   "source": [
    "template <typename T>\n",
    "void print_vector(vector<T>& vec) {\n",
    "  cerr << \"[ \";\n",
    "  for (int i = 0; i < vec.size(); i++) {\n",
    "    if (i < vec.size() - 1) cerr << vec.at(i) << \" \";\n",
    "    else cerr << vec.at(i);\n",
    "  }\n",
    "  cerr << \" ]\" << endl;\n",
    "}"
   ]
  },
  {
   "cell_type": "code",
   "execution_count": 3,
   "id": "ac447605-62bd-4b68-954d-a563e4ecf868",
   "metadata": {},
   "outputs": [],
   "source": [
    "int main() {\n",
    "    int N, Q;\n",
    "    cin >> N >> Q;\n",
    "    vector<ll> A(N, 0), diff(N, 0);\n",
    "    rep(i, N) cin >> A[i];\n",
    "    ll ans = 0;\n",
    "    for (int i = 0; i < N-1; i++) {\n",
    "        diff[i] = A[i+1] - A[i];\n",
    "        ans += abs(diff[i]);\n",
    "    }\n",
    "    print_vector(diff);\n",
    "    rep(i, Q) {\n",
    "        int l, r, v;\n",
    "        cin >> l >> r >> v;\n",
    "        ll mae = abs(diff[l-2]) + abs(diff[r-1]);\n",
    "        if (0 <= l-2) diff[l-2] += v;\n",
    "        if (r-1 < N-1) diff[r-1] -= v;\n",
    "        ll ato = abs(diff[l-2]) + abs(diff[r-1]);\n",
    "        \n",
    "        print_vector(diff);\n",
    "        ans += (ato - mae);\n",
    "        cout << ans << endl;\n",
    "    }\n",
    "}"
   ]
  },
  {
   "cell_type": "code",
   "execution_count": 4,
   "id": "c785c8be-684f-4845-9d91-0c3d2e2fb64e",
   "metadata": {},
   "outputs": [],
   "source": [
    "// int main() {\n",
    "//     int N, Q;\n",
    "//     cin >> N >> Q;\n",
    "//     vector<ll> A(N, 0), diff(N-1, 0);\n",
    "//     rep(i, N) cin >> A[i];\n",
    "//     for (int i = 0; i < N-1; i++) {\n",
    "//         diff[i] = A[i+1] - A[i];\n",
    "//     }\n",
    "//     print_vector(diff);\n",
    "//     rep(i, Q) {\n",
    "//         int l, r, v;\n",
    "//         cin >> l >> r >> v;\n",
    "//         if (0 <= l-2) diff[l-2] += v;\n",
    "//         if (r-1 < N-1) diff[r-1] -= v;\n",
    "        \n",
    "//         print_vector(diff);\n",
    "//         ll res = 0;\n",
    "//         rep(j, N-1) res += abs(diff[j]);\n",
    "//         cout << res << endl;\n",
    "//     }\n",
    "// }"
   ]
  },
  {
   "cell_type": "code",
   "execution_count": 5,
   "id": "6b4d8c1d-dfe0-4de7-87ee-202a0f507de4",
   "metadata": {},
   "outputs": [
    {
     "name": "stdin",
     "output_type": "stream",
     "text": [
      " 3 3 1 2 3 2 3 1 1 2 -1 1 3 2\n"
     ]
    },
    {
     "name": "stderr",
     "output_type": "stream",
     "text": [
      "[ 1 1 0 ]\n",
      "[ 2 1 0 ]\n"
     ]
    },
    {
     "name": "stdout",
     "output_type": "stream",
     "text": [
      "3\n"
     ]
    },
    {
     "name": "stderr",
     "output_type": "stream",
     "text": [
      "[ 2 2 0 ]\n"
     ]
    },
    {
     "name": "stdout",
     "output_type": "stream",
     "text": [
      "4\n"
     ]
    },
    {
     "name": "stderr",
     "output_type": "stream",
     "text": [
      "[ 2 2 0 ]\n"
     ]
    },
    {
     "name": "stdout",
     "output_type": "stream",
     "text": [
      "4\n"
     ]
    }
   ],
   "source": [
    "main();"
   ]
  },
  {
   "cell_type": "code",
   "execution_count": 6,
   "id": "ec3a3cf6-1ff5-4f6e-9e30-b982a568e4fd",
   "metadata": {},
   "outputs": [
    {
     "name": "stdin",
     "output_type": "stream",
     "text": [
      " 20 10 61 51 92 -100 -89 -65 -89 -64 -74 7 87 -2 51 -39 -50 63 -23 36 74 37 2 2 -45 6 19 82 2 9 36 7 13 71 16 20 90 18 20 -24 14 17 -78 10 11 -55 7 19 -26 20 20 -7\n"
     ]
    },
    {
     "name": "stderr",
     "output_type": "stream",
     "text": [
      "[ -10 41 -192 11 24 -24 25 -10 81 80 -89 53 -90 -11 113 -86 59 38 -37 0 ]\n",
      "[ -55 86 -192 11 24 -24 25 -10 81 80 -89 53 -90 -11 113 -86 59 38 -37 0 ]\n"
     ]
    },
    {
     "name": "stdout",
     "output_type": "stream",
     "text": [
      "1164\n"
     ]
    },
    {
     "name": "stderr",
     "output_type": "stream",
     "text": [
      "[ -55 86 -192 11 106 -24 25 -10 81 80 -89 53 -90 -11 113 -86 59 38 -119 0 ]\n"
     ]
    },
    {
     "name": "stdout",
     "output_type": "stream",
     "text": [
      "1328\n"
     ]
    },
    {
     "name": "stderr",
     "output_type": "stream",
     "text": [
      "[ -19 86 -192 11 106 -24 25 -10 45 80 -89 53 -90 -11 113 -86 59 38 -119 0 ]\n"
     ]
    },
    {
     "name": "stdout",
     "output_type": "stream",
     "text": [
      "1256\n"
     ]
    },
    {
     "name": "stderr",
     "output_type": "stream",
     "text": [
      "[ -19 86 -192 11 106 47 25 -10 45 80 -89 53 -161 -11 113 -86 59 38 -119 0 ]\n"
     ]
    },
    {
     "name": "stdout",
     "output_type": "stream",
     "text": [
      "1350\n"
     ]
    },
    {
     "name": "stderr",
     "output_type": "stream",
     "text": [
      "[ -19 86 -192 11 106 47 25 -10 45 80 -89 53 -161 -11 203 -86 59 38 -119 0 ]\n"
     ]
    },
    {
     "name": "stdout",
     "output_type": "stream",
     "text": [
      "1440\n"
     ]
    },
    {
     "name": "stderr",
     "output_type": "stream",
     "text": [
      "[ -19 86 -192 11 106 47 25 -10 45 80 -89 53 -161 -11 203 -86 35 38 -119 0 ]\n"
     ]
    },
    {
     "name": "stdout",
     "output_type": "stream",
     "text": [
      "1416\n"
     ]
    },
    {
     "name": "stderr",
     "output_type": "stream",
     "text": [
      "[ -19 86 -192 11 106 47 25 -10 45 80 -89 53 -239 -11 203 -86 113 38 -119 0 ]\n"
     ]
    },
    {
     "name": "stdout",
     "output_type": "stream",
     "text": [
      "1572\n"
     ]
    },
    {
     "name": "stderr",
     "output_type": "stream",
     "text": [
      "[ -19 86 -192 11 106 47 25 -10 -10 80 -34 53 -239 -11 203 -86 113 38 -119 0 ]\n"
     ]
    },
    {
     "name": "stdout",
     "output_type": "stream",
     "text": [
      "1482\n"
     ]
    },
    {
     "name": "stderr",
     "output_type": "stream",
     "text": [
      "[ -19 86 -192 11 106 21 25 -10 -10 80 -34 53 -239 -11 203 -86 113 38 -93 0 ]\n"
     ]
    },
    {
     "name": "stdout",
     "output_type": "stream",
     "text": [
      "1430\n"
     ]
    },
    {
     "name": "stderr",
     "output_type": "stream",
     "text": [
      "[ -19 86 -192 11 106 21 25 -10 -10 80 -34 53 -239 -11 203 -86 113 38 -100 0 ]\n"
     ]
    },
    {
     "name": "stdout",
     "output_type": "stream",
     "text": [
      "1437\n"
     ]
    }
   ],
   "source": [
    "main();"
   ]
  },
  {
   "cell_type": "code",
   "execution_count": 7,
   "id": "5b41dfd1-2897-4aae-a241-6376a584115e",
   "metadata": {},
   "outputs": [
    {
     "name": "stdin",
     "output_type": "stream",
     "text": [
      " 1 1 0 1 1 0\n"
     ]
    },
    {
     "name": "stderr",
     "output_type": "stream",
     "text": [
      "[ 0 ]\n",
      "[ 0 ]\n"
     ]
    },
    {
     "name": "stdout",
     "output_type": "stream",
     "text": [
      "0\n"
     ]
    }
   ],
   "source": [
    "// hand_01.txt\n",
    "main();"
   ]
  }
 ],
 "metadata": {
  "kernelspec": {
   "display_name": "C++17",
   "language": "C++17",
   "name": "xcpp17"
  },
  "language_info": {
   "codemirror_mode": "text/x-c++src",
   "file_extension": ".cpp",
   "mimetype": "text/x-c++src",
   "name": "c++",
   "version": "17"
  }
 },
 "nbformat": 4,
 "nbformat_minor": 5
}
