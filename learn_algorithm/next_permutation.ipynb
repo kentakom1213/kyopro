{
 "cells": [
  {
   "cell_type": "markdown",
   "metadata": {},
   "source": [
    "# next_permutaionの実装\n",
    "\n",
    "参考\n",
    "- [next_permutationがイマイチよくわからなかったのでまとめてみた](https://qiita.com/Nikkely/items/0ddca51b3c0e60afbaab)\n",
    "\n",
    "### 仕組み\n",
    "> 結論から言えば、\n",
    "> 配列arrayのインデックスi, jを、\n",
    "> iはarray[l] < array[l+1]を満たすlのうち最大のもの\n",
    "> jは末尾から探索して初めて現れるarray[i]より大きい要素のインデックス\n",
    "> としたときに、\n",
    "> \n",
    "> iとjを入れ替え、\n",
    "> その後i+1以降の順番を反転させる\n",
    "> と次の数列を求めることができます。"
   ]
  },
  {
   "cell_type": "code",
   "execution_count": 32,
   "metadata": {},
   "outputs": [
    {
     "data": {
      "text/plain": [
       "[0, 1, 2, 3, 4, 5, 6, 7, 8, 9]"
      ]
     },
     "execution_count": 32,
     "metadata": {},
     "output_type": "execute_result"
    }
   ],
   "source": [
    "import random\n",
    "\n",
    "# arr = list(range(10))\n",
    "# random.shuffle(arr)\n",
    "# print(arr)\n",
    "\n",
    "arr = list(range(10))\n",
    "len_arr = len(arr)\n",
    "\n",
    "arr"
   ]
  },
  {
   "cell_type": "code",
   "execution_count": 33,
   "metadata": {},
   "outputs": [
    {
     "data": {
      "text/plain": [
       "8"
      ]
     },
     "execution_count": 33,
     "metadata": {},
     "output_type": "execute_result"
    }
   ],
   "source": [
    "# lを求める\n",
    "l = -1\n",
    "for i in range(len_arr-1):\n",
    "    if arr[i] < arr[i+1]:\n",
    "        l = i\n",
    "\n",
    "l"
   ]
  },
  {
   "cell_type": "code",
   "execution_count": 34,
   "metadata": {},
   "outputs": [
    {
     "data": {
      "text/plain": [
       "9"
      ]
     },
     "execution_count": 34,
     "metadata": {},
     "output_type": "execute_result"
    }
   ],
   "source": [
    "# rを求める\n",
    "r = 0\n",
    "for j in range(len_arr-1, -1, -1):\n",
    "    if arr[j] > arr[l]:\n",
    "        r = j\n",
    "        break\n",
    "\n",
    "r"
   ]
  },
  {
   "cell_type": "code",
   "execution_count": 35,
   "metadata": {},
   "outputs": [
    {
     "data": {
      "text/plain": [
       "[0, 1, 2, 3, 4, 5, 6, 7, 9, 8]"
      ]
     },
     "execution_count": 35,
     "metadata": {},
     "output_type": "execute_result"
    }
   ],
   "source": [
    "# arr[l] <=> arr[r]\n",
    "arr[l], arr[r] = arr[r], arr[l]\n",
    "arr"
   ]
  },
  {
   "cell_type": "code",
   "execution_count": 36,
   "metadata": {},
   "outputs": [
    {
     "data": {
      "text/plain": [
       "[0, 1, 2, 3, 4, 5, 6, 7, 9, 8]"
      ]
     },
     "execution_count": 36,
     "metadata": {},
     "output_type": "execute_result"
    }
   ],
   "source": [
    "# それ以降を反転\n",
    "max_ = (l+1 + len_arr) // 2\n",
    "for i in range(l+1, max_):\n",
    "    arr[i], arr[len_arr - i] = arr[len_arr - i], arr[i]\n",
    "\n",
    "arr"
   ]
  },
  {
   "cell_type": "code",
   "execution_count": 43,
   "metadata": {},
   "outputs": [],
   "source": [
    "# 関数にする\n",
    "def next_permutation(arr):\n",
    "    la = len(arr)\n",
    "    l, r = 0, 0\n",
    "    for i in range(la-1):\n",
    "        if arr[i] < arr[i+1]:\n",
    "            l = i\n",
    "    for j in range(la-1, -1, -1):\n",
    "        if arr[j] > arr[l]:\n",
    "            r = j\n",
    "            break\n",
    "    arr[l], arr[r] = arr[r], arr[l]\n",
    "    max_ = (l+1 + la) // 2\n",
    "    for i in range(l+1, max_):\n",
    "        arr[i], arr[la - i] = arr[la - i], arr[i]\n"
   ]
  },
  {
   "cell_type": "code",
   "execution_count": 65,
   "metadata": {},
   "outputs": [
    {
     "data": {
      "text/plain": [
       "[4, 2, 3, 1]"
      ]
     },
     "execution_count": 65,
     "metadata": {},
     "output_type": "execute_result"
    }
   ],
   "source": [
    "next_permutation(arr)\n",
    "arr"
   ]
  },
  {
   "cell_type": "code",
   "execution_count": 38,
   "metadata": {},
   "outputs": [
    {
     "name": "stdout",
     "output_type": "stream",
     "text": [
      "[0, 1, 2, 3, 4, 5, 6, 7, 9, 8]\n",
      "[0, 1, 9, 3, 4, 5, 6, 8, 2, 7]\n",
      "[0, 1, 9, 3, 4, 5, 6, 8, 7, 2]\n",
      "[0, 1, 9, 8, 4, 5, 7, 3, 6, 2]\n",
      "[0, 1, 3, 8, 4, 5, 7, 6, 9, 2]\n",
      "[0, 1, 6, 8, 4, 5, 7, 9, 3, 2]\n",
      "[0, 1, 6, 7, 4, 5, 9, 8, 3, 2]\n",
      "[0, 1, 6, 5, 9, 8, 4, 7, 3, 2]\n",
      "[0, 1, 6, 4, 9, 8, 7, 5, 3, 2]\n",
      "[0, 1, 6, 5, 9, 8, 7, 4, 3, 2]\n",
      "[0, 1, 6, 7, 9, 8, 5, 4, 3, 2]\n",
      "[0, 1, 6, 8, 9, 7, 5, 4, 3, 2]\n",
      "[0, 1, 6, 9, 8, 7, 5, 4, 3, 2]\n",
      "[0, 1, 7, 4, 5, 6, 8, 9, 3, 2]\n",
      "[0, 1, 7, 8, 5, 6, 9, 4, 3, 2]\n",
      "[0, 1, 7, 4, 6, 9, 5, 8, 3, 2]\n",
      "[0, 1, 7, 5, 6, 9, 8, 4, 3, 2]\n",
      "[0, 1, 7, 5, 6, 9, 8, 4, 3, 2]\n",
      "[0, 1, 7, 5, 6, 9, 8, 4, 3, 2]\n",
      "[0, 1, 7, 5, 6, 9, 8, 4, 3, 2]\n"
     ]
    }
   ],
   "source": [
    "arr = list(range(10))\n",
    "\n",
    "for i in range(20):\n",
    "    next_permutation(arr)\n",
    "    print(arr)"
   ]
  }
 ],
 "metadata": {
  "interpreter": {
   "hash": "2f394aca7ca06fed1e6064aef884364492d7cdda3614a461e02e6407fc40ba69"
  },
  "kernelspec": {
   "display_name": "Python 3.9.0 64-bit ('base': conda)",
   "language": "python",
   "name": "python3"
  },
  "language_info": {
   "codemirror_mode": {
    "name": "ipython",
    "version": 3
   },
   "file_extension": ".py",
   "mimetype": "text/x-python",
   "name": "python",
   "nbconvert_exporter": "python",
   "pygments_lexer": "ipython3",
   "version": "3.9.0"
  },
  "orig_nbformat": 4
 },
 "nbformat": 4,
 "nbformat_minor": 2
}
