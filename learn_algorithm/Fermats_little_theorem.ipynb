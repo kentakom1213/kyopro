{
 "cells": [
  {
   "cell_type": "markdown",
   "metadata": {},
   "source": [
    "# フェルマーの小定理\n",
    "> #### フェルマーの小定理\n",
    "> 任意の整数 $a$ と素数 $p$ に関して、\n",
    "> $$\n",
    "> a^{p-1} \\equiv 1 \\quad (mod\\ p)\n",
    "> $$\n",
    "> が成立する。\n",
    "\n",
    "\n",
    "\n",
    "### 証明\n",
    "\n",
    "以下、合同式の法を $p$ とする。\n",
    "\n",
    "> #### 補題\n",
    ">\n",
    "> $(m+1)^p$ を $p$ で割ったあまりは $m^p+1$ を $p$ で割ったあまりと等しい。\n",
    "\n",
    "#### 補題の証明\n",
    "\n",
    "$$\n",
    "\\begin{align*}\n",
    "  (m+1)^p &= \\sum_{k=0}^{p} \\ _pC_k\\cdot m^k\\\\\n",
    "          &= m^p + \\ _pC_1\\cdot m^{p-1} + \\ _pC_2\\cdot m^{p-2} + \\cdots + \\ _pC_{p-1}\\cdot m + 1\\\\\n",
    "          &\\equiv m^p + 1\n",
    "\\end{align*}\n",
    "$$\n",
    "\n",
    "> #### 命題\n",
    ">\n",
    "> $$\n",
    "> a^p \\equiv a\\quad (mod\\ p)\n",
    "> $$\n",
    ">\n",
    "> を $a$ に関しての数学的帰納法で示す。\n",
    "\n",
    "補題に $m=1$ を代入すると、\n",
    "$$\n",
    "2^p = (1+1)^p \\equiv 1^p + 1 = 2\n",
    "$$\n",
    "したがって、 $a=2$ のとき成り立つ。\n",
    "\n",
    "命題が $a=k$ のときに成り立つと仮定すると、 $a=k+1$  のとき\n",
    "$$\n",
    "(k+1)^p \\equiv k^p + 1 \\quad\\cdots (補題より)\\\\\n",
    "\t\t\t\t\\equiv k+1 \\quad\\cdots (仮定より)\n",
    "$$\n",
    "したがって、命題は $a=k+1$ のときも成り立つ。\n",
    "\n",
    "数学的帰納法によって、命題は $a \\ge 2$ について成り立つ。また、 $a=0, 1$ のときは代入することにより明らかに成り立つことがわかる。よって、命題は $a\\ge 0$ に関して成り立つ。\n"
   ]
  }
 ],
 "metadata": {
  "interpreter": {
   "hash": "2f394aca7ca06fed1e6064aef884364492d7cdda3614a461e02e6407fc40ba69"
  },
  "kernelspec": {
   "display_name": "Python 3.9.9 ('base')",
   "language": "python",
   "name": "python3"
  },
  "language_info": {
   "name": "python",
   "version": "3.9.9"
  },
  "orig_nbformat": 4
 },
 "nbformat": 4,
 "nbformat_minor": 2
}
