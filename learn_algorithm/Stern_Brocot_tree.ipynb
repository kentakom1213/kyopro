{
 "cells": [
  {
   "cell_type": "markdown",
   "metadata": {},
   "source": [
    "## Stern-Brocot 木\n",
    "\n",
    "参考\n",
    "\n",
    "- [Stern-Brocot Tree](https://tjkendev.github.io/procon-library/python/math/stern-brocot-tree.html)\n",
    "\n",
    "---\n",
    "\n",
    "```mermaid\n",
    "graph TD;\n",
    "    a1(a／b, c／d)\n",
    "    a2(a／b, a+c／b+d)\n",
    "    a3(a+c／b+d, c／d)\n",
    "    a4(a／b, a+a+c／b+b+d)\n",
    "    a5(a+a+c／b+b+d, a+c／b+d)\n",
    "    a6(a+c／b+d, a+c+c／b+d+d)\n",
    "    a7(a+c+c／b+d+d, c／d)\n",
    "    a1 --> a2\n",
    "    a1 --> a3\n",
    "    a2 --> a4\n",
    "    a2 --> a5\n",
    "    a3 --> a6\n",
    "    a3 --> a7\n",
    "```\n"
   ]
  },
  {
   "cell_type": "markdown",
   "metadata": {},
   "source": [
    "初期値を $(a/b, c/d) = (0/1, 1/0)$ とすると，\n",
    "\n",
    "```mermaid\n",
    "graph TD;\n",
    "    a1(0/1, 1/0 → 1/1)\n",
    "    a2(0/1, 1/1 → 1/2)\n",
    "    a3(1/1, 1/0 → 2/1)\n",
    "    a4(0/1, 1/2 → 1/3)\n",
    "    a5(1/2, 1/1 → 2/3)\n",
    "    a6(1/1, 2/1 → 3/2)\n",
    "    a7(2/1, 1/0 → 3/1)\n",
    "\n",
    "    a1 --> a2\n",
    "    a1 --> a3\n",
    "    a2 --> a4\n",
    "    a2 --> a5\n",
    "    a3 --> a6\n",
    "    a3 --> a7\n",
    "```"
   ]
  },
  {
   "cell_type": "markdown",
   "metadata": {},
   "source": [
    "こんな感じで，全部の有理数を列挙できる．\n",
    "\n",
    "\n",
    "<details>\n",
    "<summary>すべての有理数がStern-Brocot木に現れることの証明</summary>\n",
    "<div>\n",
    "\n",
    "思いついたら書きます．\n",
    "\n",
    "</div>\n",
    "</details>\n"
   ]
  },
  {
   "cell_type": "code",
   "execution_count": 8,
   "metadata": {},
   "outputs": [],
   "source": [
    "def enum_stern_brocot(a = 0, b = 1, c = 1, d = 0, limit = 5, depth = 0):\n",
    "    if depth == limit:\n",
    "        return\n",
    "    # 左側\n",
    "    enum_stern_brocot(a, b, a + c, b + d, limit, depth + 1)\n",
    "    # 自分\n",
    "    print(f\"{'  ' * depth}{a + c}/{b + d}\")\n",
    "    # 右側\n",
    "    enum_stern_brocot(a + c, b + d, c, d, limit, depth + 1)"
   ]
  },
  {
   "cell_type": "code",
   "execution_count": 12,
   "metadata": {},
   "outputs": [
    {
     "name": "stdout",
     "output_type": "stream",
     "text": [
      "        1/5\n",
      "      1/4\n",
      "        2/7\n",
      "    1/3\n",
      "        3/8\n",
      "      2/5\n",
      "        3/7\n",
      "  1/2\n",
      "        4/7\n",
      "      3/5\n",
      "        5/8\n",
      "    2/3\n",
      "        5/7\n",
      "      3/4\n",
      "        4/5\n",
      "1/1\n",
      "        5/4\n",
      "      4/3\n",
      "        7/5\n",
      "    3/2\n",
      "        8/5\n",
      "      5/3\n",
      "        7/4\n",
      "  2/1\n",
      "        7/3\n",
      "      5/2\n",
      "        8/3\n",
      "    3/1\n",
      "        7/2\n",
      "      4/1\n",
      "        5/1\n"
     ]
    }
   ],
   "source": [
    "enum_stern_brocot(limit=5)"
   ]
  },
  {
   "cell_type": "markdown",
   "metadata": {},
   "source": [
    "### 有理数上の二分探索"
   ]
  },
  {
   "cell_type": "code",
   "execution_count": 13,
   "metadata": {},
   "outputs": [],
   "source": [
    "def fractional_approximation(x: float, n: int) -> tuple[int, int]:\n",
    "    \"\"\"浮動小数点数を分母，分子がn以下の分数で近似する\n",
    "\n",
    "    Args:\n",
    "        x (float): 近似する分数\n",
    "\n",
    "    Returns:\n",
    "        tuple[int, int]: x <= a/b なる最小の (a, b)\n",
    "    \"\"\"\n",
    "    ng = (0, 1)\n",
    "    ok = (1, 0)\n",
    "    while True:\n",
    "        mid = (ng[0] + ok[0], ng[1] + ok[1])\n",
    "        "
   ]
  }
 ],
 "metadata": {
  "kernelspec": {
   "display_name": "Python 3",
   "language": "python",
   "name": "python3"
  },
  "language_info": {
   "codemirror_mode": {
    "name": "ipython",
    "version": 3
   },
   "file_extension": ".py",
   "mimetype": "text/x-python",
   "name": "python",
   "nbconvert_exporter": "python",
   "pygments_lexer": "ipython3",
   "version": "3.10.12"
  }
 },
 "nbformat": 4,
 "nbformat_minor": 2
}
