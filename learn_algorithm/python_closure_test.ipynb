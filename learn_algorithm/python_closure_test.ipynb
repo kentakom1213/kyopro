{
 "cells": [
  {
   "cell_type": "markdown",
   "metadata": {},
   "source": [
    "# ライブラリをクロージャで書いてみる\n",
    "\n",
    "Pythonだとクラスより軽いと聞いたので..."
   ]
  },
  {
   "cell_type": "markdown",
   "metadata": {},
   "source": [
    "## 累積和\n",
    "ライブラリにするほどでもないんだけど..."
   ]
  },
  {
   "cell_type": "code",
   "execution_count": 19,
   "metadata": {},
   "outputs": [],
   "source": [
    "# クラスで記述\n",
    "\n",
    "class Sum_class:\n",
    "    \"\"\"\n",
    "    size      : int\n",
    "        元配列の大きさ\n",
    "    arr       : [int]\n",
    "        元配列\n",
    "    s         : [int]\n",
    "        累積和配列\n",
    "    \"\"\"\n",
    "\n",
    "    def __init__(self, arr):\n",
    "        self.size = len(arr)\n",
    "        self.arr = arr\n",
    "        self.s = [0] * (self.size + 1)\n",
    "        for i in range(self.size):\n",
    "            self.s[i+1] = self.s[i] + self.arr[i]\n",
    "    \n",
    "    def sum(self, x, y):\n",
    "        \"\"\"\n",
    "        x <= i < y を満たすiに対して、sum a_i を求める。\n",
    "        \"\"\"\n",
    "        return self.s[y] - self.s[x]"
   ]
  },
  {
   "cell_type": "code",
   "execution_count": 20,
   "metadata": {},
   "outputs": [],
   "source": [
    "# クロージャで記述\n",
    "\n",
    "def Sum_closure(arr):\n",
    "    n = len(arr)\n",
    "    s = [0] * (n+1)\n",
    "    for i in range(n):\n",
    "        s[i+1] = s[i] + arr[i]\n",
    "    \n",
    "    def sum_(x, y):\n",
    "        return s[y] - s[x]\n",
    "    \n",
    "    return sum_"
   ]
  },
  {
   "cell_type": "markdown",
   "metadata": {},
   "source": [
    "### テスト"
   ]
  },
  {
   "cell_type": "code",
   "execution_count": 14,
   "metadata": {},
   "outputs": [],
   "source": [
    "import random\n",
    "random.seed(0)\n",
    "\n",
    "def get_random_range(N):\n",
    "    x, y = random.randint(0, N), random.randint(0, N)\n",
    "    if x > y:\n",
    "        x, y = y, x\n",
    "    return (x, y)"
   ]
  },
  {
   "cell_type": "code",
   "execution_count": 15,
   "metadata": {},
   "outputs": [],
   "source": [
    "N = 100000\n",
    "Q = 100000\n",
    "\n",
    "arr = [random.randint(0, 100000) for _ in range(N)]\n",
    "queries = [get_random_range(N) for _ in range(Q)]"
   ]
  },
  {
   "cell_type": "code",
   "execution_count": 17,
   "metadata": {},
   "outputs": [
    {
     "name": "stdout",
     "output_type": "stream",
     "text": [
      "15.5 ms ± 1.19 ms per loop (mean ± std. dev. of 7 runs, 10 loops each)\n"
     ]
    }
   ],
   "source": [
    "%%timeit\n",
    "\n",
    "# 普通の累積和\n",
    "s1 = [0] * (N + 1)\n",
    "for i in range(N):\n",
    "    s1[i+1] = s1[i] + arr[i]\n",
    "\n",
    "for x, y in queries:\n",
    "    s1[y] - s1[x]"
   ]
  },
  {
   "cell_type": "code",
   "execution_count": 21,
   "metadata": {},
   "outputs": [
    {
     "name": "stdout",
     "output_type": "stream",
     "text": [
      "24.1 ms ± 883 µs per loop (mean ± std. dev. of 7 runs, 10 loops each)\n"
     ]
    }
   ],
   "source": [
    "%%timeit\n",
    "\n",
    "# class版累積和\n",
    "s2 = Sum_class(arr)\n",
    "\n",
    "for x, y in queries:\n",
    "    s2.sum(x, y)"
   ]
  },
  {
   "cell_type": "code",
   "execution_count": 24,
   "metadata": {},
   "outputs": [
    {
     "name": "stdout",
     "output_type": "stream",
     "text": [
      "17.7 ms ± 906 µs per loop (mean ± std. dev. of 7 runs, 10 loops each)\n"
     ]
    }
   ],
   "source": [
    "%%timeit\n",
    "\n",
    "# クロージャ\n",
    "s3 = Sum_closure(arr)\n",
    "\n",
    "for x, y in queries:\n",
    "    s3(x, y)"
   ]
  },
  {
   "cell_type": "markdown",
   "metadata": {},
   "source": [
    "## クロージャの中身を変更\n",
    "\n",
    "BITがどれだけ早くなるか試してみる"
   ]
  },
  {
   "cell_type": "code",
   "execution_count": 31,
   "metadata": {},
   "outputs": [],
   "source": [
    "class BIT:\n",
    "    def __init__(self, N):\n",
    "        self.size = N\n",
    "        self.arr = [0] * (N+1)\n",
    "\n",
    "    def add(self, i, x):\n",
    "        while i <= self.size:\n",
    "            self.arr[i] += x\n",
    "            i += i & -i\n",
    "\n",
    "    def sum(self, i):\n",
    "        res = 0\n",
    "        while i:\n",
    "            res += self.arr[i]\n",
    "            i -= i & -i\n",
    "        return res"
   ]
  },
  {
   "cell_type": "code",
   "execution_count": 36,
   "metadata": {},
   "outputs": [
    {
     "name": "stdout",
     "output_type": "stream",
     "text": [
      "0\n"
     ]
    }
   ],
   "source": [
    "def BIT_closure(size):\n",
    "    N = size\n",
    "    arr = [0] * (N+1)\n",
    "\n",
    "    def add(i, x):\n",
    "        while i <= N:\n",
    "            arr[i] += x\n",
    "            i += i & -i\n",
    "    \n",
    "    def sum(i):\n",
    "        res = 0\n",
    "        while i > 0:\n",
    "            res += arr[i]\n",
    "            i -= i & -i\n",
    "        return res\n",
    "    \n",
    "    return (add, sum)\n",
    "\n",
    "### テスト ###\n",
    "# https://judge.u-aizu.ac.jp/onlinejudge/description.jsp?id=DSL_2_B&lang=jp\n",
    "if __name__ == \"__main__\":\n",
    "    N, Q = map(int, input().split())\n",
    "    bit = BIT_closure(N)\n",
    "\n",
    "    for i in range(Q):\n",
    "        com, x, y = map(int, input().split())\n",
    "        if com == 0:\n",
    "            bit[0](x, y)\n",
    "        elif com == 1:\n",
    "            print(bit[1](y) - bit[1](x-1))"
   ]
  },
  {
   "cell_type": "code",
   "execution_count": null,
   "metadata": {},
   "outputs": [],
   "source": [
    "from collections import namedtuple\n",
    "\n",
    "def BIT_closure(size):\n",
    "    N = size\n",
    "    arr = [0] * (N+1)\n",
    "\n",
    "    def add(i, x):\n",
    "        while i <= N:\n",
    "            arr[i] += x\n",
    "            i += i & -i\n",
    "    \n",
    "    def sum(i):\n",
    "        res = 0\n",
    "        while i > 0:\n",
    "            res += arr[i]\n",
    "            i -= i & -i\n",
    "        return res\n",
    "    \n",
    "    BIT_ = namedtuple(\"BIT\", \"add sum\")\n",
    "    bit = BIT_(add, sum)\n",
    "    return bit\n",
    "\n",
    "### テスト ###\n",
    "# https://judge.u-aizu.ac.jp/onlinejudge/description.jsp?id=DSL_2_B&lang=jp\n",
    "if __name__ == \"__main__\":\n",
    "    N, Q = map(int, input().split())\n",
    "    bit = BIT_closure(N)\n",
    "\n",
    "    for i in range(Q):\n",
    "        com, x, y = map(int, input().split())\n",
    "        if com == 0:\n",
    "            bit.add(x, y)\n",
    "        elif com == 1:\n",
    "            print(bit.sum(y) - bit.sum(x-1))"
   ]
  },
  {
   "cell_type": "markdown",
   "metadata": {},
   "source": [
    "うーん。微妙\n",
    "今後は普通にクラス使うかなー"
   ]
  }
 ],
 "metadata": {
  "kernelspec": {
   "display_name": "Python 3.9.7 ('base')",
   "language": "python",
   "name": "python3"
  },
  "language_info": {
   "codemirror_mode": {
    "name": "ipython",
    "version": 3
   },
   "file_extension": ".py",
   "mimetype": "text/x-python",
   "name": "python",
   "nbconvert_exporter": "python",
   "pygments_lexer": "ipython3",
   "version": "3.9.7"
  },
  "orig_nbformat": 4,
  "vscode": {
   "interpreter": {
    "hash": "2f394aca7ca06fed1e6064aef884364492d7cdda3614a461e02e6407fc40ba69"
   }
  }
 },
 "nbformat": 4,
 "nbformat_minor": 2
}
