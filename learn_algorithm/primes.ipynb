{
 "cells": [
  {
   "cell_type": "markdown",
   "metadata": {},
   "source": [
    "## いい感じの素数を見つける\n",
    "\n",
    "区間篩で $10^9$ 前後の素数をたくさん見つけておく"
   ]
  },
  {
   "cell_type": "code",
   "execution_count": 13,
   "metadata": {
    "vscode": {
     "languageId": "rust"
    }
   },
   "outputs": [],
   "source": [
    "/// 区間 [l,r) の素数を列挙する\n",
    "pub fn segmented_sieve(l: usize, r: usize) -> Vec<usize> {\n",
    "    let l = l.max(2);\n",
    "    let r = r.max(l);\n",
    "    let MAX = (r as f64).sqrt() as usize + 10;\n",
    "    let mut divisors = vec![true; MAX];\n",
    "    (divisors[0], divisors[1]) = (false, false);\n",
    "    let mut sieve = vec![true; r - l];\n",
    "\n",
    "    for p in 2..MAX {\n",
    "        if !divisors[p] {\n",
    "            continue;\n",
    "        }\n",
    "        let mut i = 2;\n",
    "        while p * i < MAX {\n",
    "            divisors[p * i] = false;\n",
    "            i += 1;\n",
    "        }\n",
    "        let mut k = (l + p - 1) / p * p;\n",
    "        while k < r {\n",
    "            if k > p {\n",
    "                if l <= k && k < r {\n",
    "                    sieve[k - l] = false;\n",
    "                }\n",
    "            }\n",
    "            k += p;\n",
    "        }\n",
    "    }\n",
    "\n",
    "    sieve\n",
    "        .iter()\n",
    "        .zip(l..)\n",
    "        .filter_map(|(&is_prime, x)| is_prime.then_some(x))\n",
    "        .collect()\n",
    "}\n"
   ]
  },
  {
   "cell_type": "code",
   "execution_count": 14,
   "metadata": {
    "vscode": {
     "languageId": "rust"
    }
   },
   "outputs": [],
   "source": [
    "let MIN: usize = 999999000;\n",
    "let MAX: usize = 1000001000;"
   ]
  },
  {
   "cell_type": "code",
   "execution_count": 15,
   "metadata": {
    "vscode": {
     "languageId": "rust"
    }
   },
   "outputs": [
    {
     "data": {
      "text/plain": [
       "[999999001, 999999017, 999999029, 999999043, 999999059, 999999067, 999999103, 999999107, 999999113, 999999131, 999999137, 999999151, 999999163, 999999181, 999999191, 999999193, 999999197, 999999223, 999999229, 999999323, 999999337, 999999353, 999999391, 999999433, 999999487, 999999491, 999999503, 999999527, 999999541, 999999587, 999999599, 999999607, 999999613, 999999667, 999999677, 999999733, 999999739, 999999751, 999999757, 999999761, 999999797, 999999883, 999999893, 999999929, 999999937, 1000000007, 1000000009, 1000000021, 1000000033, 1000000087, 1000000093, 1000000097, 1000000103, 1000000123, 1000000181, 1000000207, 1000000223, 1000000241, 1000000271, 1000000289, 1000000297, 1000000321, 1000000349, 1000000363, 1000000403, 1000000409, 1000000411, 1000000427, 1000000433, 1000000439, 1000000447, 1000000453, 1000000459, 1000000483, 1000000513, 1000000531, 1000000579, 1000000607, 1000000613, 1000000637, 1000000663, 1000000711, 1000000753, 1000000787, 1000000801, 1000000829, 1000000861, 1000000871, 1000000891, 1000000901, 1000000919, 1000000931, 1000000933, 1000000993]"
      ]
     },
     "execution_count": 15,
     "metadata": {},
     "output_type": "execute_result"
    }
   ],
   "source": [
    "segmented_sieve(MIN, MAX)"
   ]
  }
 ],
 "metadata": {
  "kernelspec": {
   "display_name": "Rust",
   "language": "rust",
   "name": "rust"
  },
  "language_info": {
   "codemirror_mode": "rust",
   "file_extension": ".rs",
   "mimetype": "text/rust",
   "name": "Rust",
   "pygment_lexer": "rust",
   "version": ""
  }
 },
 "nbformat": 4,
 "nbformat_minor": 2
}
