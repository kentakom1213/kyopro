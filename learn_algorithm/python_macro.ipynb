{
 "cells": [
  {
   "cell_type": "markdown",
   "metadata": {},
   "source": [
    "# 競プロ用のPythonライブラリを作成する\n",
    "\n",
    "### 整数問題系\n",
    "- [x] `gcd`: 最小公倍数 $O(logN)$\n",
    "- [x] `lcm`: 最大公約数 $O(logN)$\n",
    "- [x] 約数列挙 $O(sqrt(N))$\n",
    "- [x] 素因数分解 $O(sqrt(N))$\n",
    "- [ ] Modulo逆元  *`pow(a, b, -1)`を利用できる*\n",
    "\n",
    "### DP用\n",
    "- [x] 二次元配列を初期化\n",
    "\n",
    "### データ構造\n",
    "- [x] UnionFind木  *現在は[こちら](https://note.nkmk.me/python-union-find/)を引用*\n",
    "- [ ] 二分探索木"
   ]
  },
  {
   "cell_type": "code",
   "execution_count": 47,
   "metadata": {},
   "outputs": [],
   "source": [
    "# gcd, lcm\n",
    "def gcd(a, b): return gcd(b, a%b) if b else a\n",
    "def lcm(a, b): return a // gcd(b, a%b) * b"
   ]
  },
  {
   "cell_type": "code",
   "execution_count": 43,
   "metadata": {},
   "outputs": [],
   "source": [
    "# 二次元配列を初期化\n",
    "def init_array(i, j, val=0): return [[val]*j for _ in range(i)]"
   ]
  },
  {
   "cell_type": "code",
   "execution_count": 44,
   "metadata": {},
   "outputs": [],
   "source": [
    "# 約数列挙\n",
    "def enum_dev(n):\n",
    "    divisor = set()\n",
    "    for i in range(1, 1-(int(-n**0.5/1))):\n",
    "        if n % i == 0:\n",
    "            divisor.add(i)\n",
    "            divisor.add(n//i)\n",
    "    return divisor"
   ]
  },
  {
   "cell_type": "code",
   "execution_count": 45,
   "metadata": {},
   "outputs": [],
   "source": [
    "# 素因数分解\n",
    "def factors(n):\n",
    "    factors = []\n",
    "    for i in range(2, 1-(int(-n**0.5/1))):\n",
    "        while n % i == 0:\n",
    "            factors.append(i)\n",
    "            n //= i\n",
    "    if n != 1:\n",
    "        factors.append(n)\n",
    "    return factors\n",
    "\n",
    "def factor_pair(n):\n",
    "    factors = []\n",
    "    for i in range(2, 1-(int(-n**0.5/1))):\n",
    "        cnt = 0\n",
    "        while n % i == 0:\n",
    "            cnt += 1\n",
    "            n //= i\n",
    "        if cnt:\n",
    "            factors.append((i, cnt))\n",
    "    if n != 1:\n",
    "        factors.append((n, 1))\n",
    "    return factors"
   ]
  },
  {
   "cell_type": "code",
   "execution_count": 46,
   "metadata": {},
   "outputs": [
    {
     "data": {
      "text/plain": [
       "[(2, 9), (3, 5), (7, 2), (19, 2), (101, 1)]"
      ]
     },
     "execution_count": 46,
     "metadata": {},
     "output_type": "execute_result"
    }
   ],
   "source": [
    "factor_pair(2**9 * 3**5 * 7**2 * 19**2 * 101**1)"
   ]
  },
  {
   "cell_type": "code",
   "execution_count": 1,
   "metadata": {},
   "outputs": [],
   "source": [
    "uf = \"\"\"from collections import defaultdict\n",
    "\n",
    "class UnionFind():\n",
    "    def __init__(self, n):\n",
    "        self.n = n\n",
    "        self.parents = [-1] * n\n",
    "\n",
    "    def find(self, x):\n",
    "        if self.parents[x] < 0:\n",
    "            return x\n",
    "        else:\n",
    "            self.parents[x] = self.find(self.parents[x])\n",
    "            return self.parents[x]\n",
    "\n",
    "    def union(self, x, y):\n",
    "        x = self.find(x)\n",
    "        y = self.find(y)\n",
    "\n",
    "        if x == y:\n",
    "            return\n",
    "\n",
    "        if self.parents[x] > self.parents[y]:\n",
    "            x, y = y, x\n",
    "\n",
    "        self.parents[x] += self.parents[y]\n",
    "        self.parents[y] = x\n",
    "\n",
    "    def size(self, x):\n",
    "        return -self.parents[self.find(x)]\n",
    "\n",
    "    def same(self, x, y):\n",
    "        return self.find(x) == self.find(y)\n",
    "\n",
    "    def members(self, x):\n",
    "        root = self.find(x)\n",
    "        return [i for i in range(self.n) if self.find(i) == root]\n",
    "\n",
    "    def roots(self):\n",
    "        return [i for i, x in enumerate(self.parents) if x < 0]\n",
    "\n",
    "    def group_count(self):\n",
    "        return len(self.roots())\n",
    "\n",
    "    def all_group_members(self):\n",
    "        group_members = defaultdict(list)\n",
    "        for member in range(self.n):\n",
    "            group_members[self.find(member)].append(member)\n",
    "        return group_members\n",
    "\n",
    "    def __str__(self):\n",
    "        return '\\n'.join(f'{r}: {m}' for r, m in self.all_group_members().items())\n",
    "\"\"\""
   ]
  },
  {
   "cell_type": "code",
   "execution_count": 56,
   "metadata": {},
   "outputs": [
    {
     "name": "stdout",
     "output_type": "stream",
     "text": [
      "\"from collections import defaultdict\",\n",
      "\"\",\n",
      "\"class UnionFind():\",\n",
      "\"\\tdef __init__(self, n):\",\n",
      "\"\\t\\tself.n = n\",\n",
      "\"\\t\\tself.parents = [-1] * n\",\n",
      "\"\",\n",
      "\"\\tdef find(self, x):\",\n",
      "\"\\t\\tif self.parents[x] < 0:\",\n",
      "\"\\t\\t\\treturn x\",\n",
      "\"\\t\\telse:\",\n",
      "\"\\t\\t\\tself.parents[x] = self.find(self.parents[x])\",\n",
      "\"\\t\\t\\treturn self.parents[x]\",\n",
      "\"\",\n",
      "\"\\tdef union(self, x, y):\",\n",
      "\"\\t\\tx = self.find(x)\",\n",
      "\"\\t\\ty = self.find(y)\",\n",
      "\"\",\n",
      "\"\\t\\tif x == y:\",\n",
      "\"\\t\\t\\treturn\",\n",
      "\"\",\n",
      "\"\\t\\tif self.parents[x] > self.parents[y]:\",\n",
      "\"\\t\\t\\tx, y = y, x\",\n",
      "\"\",\n",
      "\"\\t\\tself.parents[x] += self.parents[y]\",\n",
      "\"\\t\\tself.parents[y] = x\",\n",
      "\"\",\n",
      "\"\\tdef size(self, x):\",\n",
      "\"\\t\\treturn -self.parents[self.find(x)]\",\n",
      "\"\",\n",
      "\"\\tdef same(self, x, y):\",\n",
      "\"\\t\\treturn self.find(x) == self.find(y)\",\n",
      "\"\",\n",
      "\"\\tdef members(self, x):\",\n",
      "\"\\t\\troot = self.find(x)\",\n",
      "\"\\t\\treturn [i for i in range(self.n) if self.find(i) == root]\",\n",
      "\"\",\n",
      "\"\\tdef roots(self):\",\n",
      "\"\\t\\treturn [i for i, x in enumerate(self.parents) if x < 0]\",\n",
      "\"\",\n",
      "\"\\tdef group_count(self):\",\n",
      "\"\\t\\treturn len(self.roots())\",\n",
      "\"\",\n",
      "\"\\tdef all_group_members(self):\",\n",
      "\"\\t\\tgroup_members = defaultdict(list)\",\n",
      "\"\\t\\tfor member in range(self.n):\",\n",
      "\"\\t\\t\\tgroup_members[self.find(member)].append(member)\",\n",
      "\"\\t\\treturn group_members\",\n",
      "\"\",\n",
      "\"\\tdef __str__(self):\",\n",
      "\"\\t\\treturn '\",\n",
      "\"'.join(f'{r}: {m}' for r, m in self.all_group_members().items())\",\n",
      "\"\",\n"
     ]
    }
   ],
   "source": [
    "for l in uf.split(\"\\n\"):\n",
    "    l = l.replace(\"    \", \"\\\\t\")\n",
    "    \n",
    "    print(f\"\\\"{l}\\\",\")"
   ]
  }
 ],
 "metadata": {
  "interpreter": {
   "hash": "2f394aca7ca06fed1e6064aef884364492d7cdda3614a461e02e6407fc40ba69"
  },
  "kernelspec": {
   "display_name": "Python 3.9.5 64-bit ('base': conda)",
   "language": "python",
   "name": "python3"
  },
  "language_info": {
   "codemirror_mode": {
    "name": "ipython",
    "version": 3
   },
   "file_extension": ".py",
   "mimetype": "text/x-python",
   "name": "python",
   "nbconvert_exporter": "python",
   "pygments_lexer": "ipython3",
   "version": "3.9.9"
  },
  "orig_nbformat": 4
 },
 "nbformat": 4,
 "nbformat_minor": 2
}
