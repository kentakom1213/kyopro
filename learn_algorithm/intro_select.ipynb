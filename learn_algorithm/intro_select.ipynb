{
 "cells": [
  {
   "attachments": {},
   "cell_type": "markdown",
   "metadata": {},
   "source": [
    "## Intro Select\n",
    "\n",
    "配列中の $k$ 番目の値を $O(N)$ で検索するアルゴリズム\n",
    "\n",
    "### アルゴリズム $P$\n",
    "1. 入力配列を $5$ 個の要素からなるグループに分割（余った要素もグループに）\n",
    "2. グループそれぞれの中央値を求める\n",
    "3. $\\lceil n/5\\rceil$ 個の中央値全体の中央値 $x$ を $P$ を用いて再帰的に検索\n",
    "4. $x$ 未満と $x$ 以上のブロックに分割し、$k$ 番目の要素があるブロックを決定\n",
    "5. $k$ 番目の要素があるブロックを $P$ で検索"
   ]
  },
  {
   "cell_type": "code",
   "execution_count": 56,
   "metadata": {},
   "outputs": [],
   "source": [
    "import random"
   ]
  },
  {
   "cell_type": "code",
   "execution_count": 57,
   "metadata": {},
   "outputs": [],
   "source": [
    "def partition(arr, pivot):\n",
    "    p_idx = None\n",
    "    for i, val in enumerate(arr):\n",
    "        if val == pivot:\n",
    "            p_idx = i\n",
    "    if p_idx is None:\n",
    "        return\n",
    "    \n",
    "    # pivotを末尾に\n",
    "    arr[p_idx], arr[-1] = arr[-1], arr[p_idx]\n",
    "    p_idx = -1\n",
    "\n",
    "    # 順に交換\n",
    "    for i, val in enumerate(arr[:-1]):\n",
    "        if val <= pivot:\n",
    "            p_idx += 1\n",
    "            arr[p_idx], arr[i] = arr[i], arr[p_idx]\n",
    "    \n",
    "    # pivotを戻す\n",
    "    arr[p_idx + 1], arr[-1] = arr[-1], arr[p_idx + 1]\n",
    "\n",
    "    return p_idx + 1"
   ]
  },
  {
   "cell_type": "code",
   "execution_count": 115,
   "metadata": {},
   "outputs": [],
   "source": [
    "def partition(arr, pivot):\n",
    "    p_cnt = 0\n",
    "    p_idx = None\n",
    "    for i, val in enumerate(arr):\n",
    "        if val == pivot:\n",
    "            p_idx = i\n",
    "            p_cnt += 1\n",
    "    if p_idx is None:\n",
    "        return\n",
    "    \n",
    "    # pivotを末尾に\n",
    "    arr[p_idx], arr[-1] = arr[-1], arr[p_idx]\n",
    "    p_idx = 0\n",
    "\n",
    "    # 順に交換\n",
    "    for i, val in enumerate(arr[:-1]):\n",
    "        if val <= pivot:\n",
    "            arr[p_idx], arr[i] = arr[i], arr[p_idx]\n",
    "            p_idx += 1\n",
    "\n",
    "    # pivotを戻す\n",
    "    arr[p_idx], arr[-1] = arr[-1], arr[p_idx]\n",
    "\n",
    "    # 左、右を調べる\n",
    "    left = p_idx + 1 - p_cnt\n",
    "    right = p_idx\n",
    "    mid = (len(arr) - 1) // 2\n",
    "    if mid < left:\n",
    "        idx = left\n",
    "    elif mid <= right:\n",
    "        idx = mid\n",
    "    else:\n",
    "        idx = right\n",
    "    \n",
    "    # pivotを戻す\n",
    "    arr[idx], arr[p_idx] = arr[p_idx], arr[idx]\n",
    "\n",
    "    return idx"
   ]
  },
  {
   "cell_type": "code",
   "execution_count": 116,
   "metadata": {},
   "outputs": [
    {
     "name": "stdout",
     "output_type": "stream",
     "text": [
      "2 [1, 2, 2, 5, 3, 5, 3, 4, 3, 7]\n"
     ]
    }
   ],
   "source": [
    "lst = [5, 3, 7, 5, 3, 1, 2, 2, 3, 4]\n",
    "\n",
    "i = partition(lst, 2)\n",
    "\n",
    "print(i, lst)"
   ]
  },
  {
   "cell_type": "code",
   "execution_count": 117,
   "metadata": {},
   "outputs": [
    {
     "name": "stdout",
     "output_type": "stream",
     "text": [
      "4 [0, 0, 0, 0, 0, 0, 0, 0, 0, 0]\n"
     ]
    }
   ],
   "source": [
    "same = [0] * 10\n",
    "\n",
    "i = partition(same, 0)\n",
    "\n",
    "print(i, same)"
   ]
  },
  {
   "cell_type": "code",
   "execution_count": 118,
   "metadata": {},
   "outputs": [
    {
     "name": "stdout",
     "output_type": "stream",
     "text": [
      "3 [2, 2, 1, 2, 2, 3, 3]\n"
     ]
    }
   ],
   "source": [
    "lst = [3, 2, 2, 1, 3, 2, 2]\n",
    "\n",
    "i = partition(lst, 2)\n",
    "\n",
    "print(i, lst)"
   ]
  },
  {
   "cell_type": "code",
   "execution_count": 119,
   "metadata": {},
   "outputs": [],
   "source": [
    "def select(arr, k):\n",
    "    \"\"\"\n",
    "    配列arrのk番目の要素を取得\n",
    "    \"\"\"\n",
    "\n",
    "    if len(arr) == 1:\n",
    "        return arr[0]\n",
    "\n",
    "    # ピボット\n",
    "    pvt = pivot(arr)\n",
    "\n",
    "    # ピボットのある位置\n",
    "    pvt_idx = partition(arr, pvt)\n",
    "\n",
    "    # ピボットの位置で場合分け\n",
    "    if pvt_idx < k:\n",
    "        return select(arr[pvt_idx + 1:], k - pvt_idx - 1)\n",
    "    elif pvt_idx > k:\n",
    "        return select(arr[:pvt_idx], k)\n",
    "    else:\n",
    "        return arr[k]\n",
    "\n",
    "\n",
    "def pivot(arr):\n",
    "    \"\"\"\n",
    "    arrを5個ずつに分割した配列の中央値の中央値を求める\n",
    "    \"\"\"\n",
    "\n",
    "    if len(arr) == 1:\n",
    "        return arr[0]\n",
    "\n",
    "    size = (len(arr) + 4) // 5\n",
    "    medians = [0] * size\n",
    "\n",
    "    for i in range(size):\n",
    "        sub = arr[5 * i: 5 * (i + 1)]\n",
    "\n",
    "        # 5この要素の中央値\n",
    "        med = sorted(sub)[(len(sub) - 1) // 2]\n",
    "\n",
    "        medians[i] = med\n",
    "    \n",
    "    # 中央値の中央値を検索\n",
    "    return select(medians, (size - 1) // 2)"
   ]
  },
  {
   "cell_type": "code",
   "execution_count": 120,
   "metadata": {},
   "outputs": [
    {
     "data": {
      "text/plain": [
       "1"
      ]
     },
     "execution_count": 120,
     "metadata": {},
     "output_type": "execute_result"
    }
   ],
   "source": [
    "select([1], 0)"
   ]
  },
  {
   "cell_type": "code",
   "execution_count": 121,
   "metadata": {},
   "outputs": [
    {
     "data": {
      "text/plain": [
       "1"
      ]
     },
     "execution_count": 121,
     "metadata": {},
     "output_type": "execute_result"
    }
   ],
   "source": [
    "select([1, 2, 3, 4, 5, 6], 0)"
   ]
  },
  {
   "cell_type": "code",
   "execution_count": 122,
   "metadata": {},
   "outputs": [
    {
     "data": {
      "text/plain": [
       "3"
      ]
     },
     "execution_count": 122,
     "metadata": {},
     "output_type": "execute_result"
    }
   ],
   "source": [
    "select([3, 6, 4, 1, 3, 2, 0], 2)"
   ]
  },
  {
   "attachments": {},
   "cell_type": "markdown",
   "metadata": {},
   "source": [
    "### ランダムテスト"
   ]
  },
  {
   "cell_type": "code",
   "execution_count": 66,
   "metadata": {},
   "outputs": [],
   "source": [
    "import random"
   ]
  },
  {
   "cell_type": "code",
   "execution_count": 67,
   "metadata": {},
   "outputs": [],
   "source": [
    "MAX = 1_000_000_000_000_000_000\n",
    "SIZE = 200_000\n",
    "REPEAT = 50"
   ]
  },
  {
   "cell_type": "code",
   "execution_count": 68,
   "metadata": {},
   "outputs": [],
   "source": [
    "median_expected = []\n",
    "median_actual = []"
   ]
  },
  {
   "cell_type": "code",
   "execution_count": 128,
   "metadata": {},
   "outputs": [
    {
     "name": "stdout",
     "output_type": "stream",
     "text": [
      "CPU times: user 5.68 s, sys: 24.9 ms, total: 5.7 s\n",
      "Wall time: 5.71 s\n"
     ]
    }
   ],
   "source": [
    "%%time\n",
    "\n",
    "random.seed(0)\n",
    "\n",
    "for _ in range(REPEAT):\n",
    "    # ランダムなデータの生成\n",
    "    random_data = [random.randint(0, MAX) for _ in range(SIZE)]\n",
    "\n",
    "    # ソート\n",
    "    random_data.sort()\n",
    "\n",
    "    # 中央値を取得\n",
    "    med = random_data[SIZE // 2]\n",
    "    median_expected.append(med)"
   ]
  },
  {
   "cell_type": "code",
   "execution_count": 129,
   "metadata": {},
   "outputs": [
    {
     "name": "stdout",
     "output_type": "stream",
     "text": [
      "CPU times: user 8.89 s, sys: 53.4 ms, total: 8.94 s\n",
      "Wall time: 8.94 s\n"
     ]
    }
   ],
   "source": [
    "%%time\n",
    "\n",
    "random.seed(0)\n",
    "\n",
    "for _ in range(REPEAT):\n",
    "    # ランダムなデータの生成\n",
    "    random_data = [random.randint(0, MAX) for _ in range(SIZE)]\n",
    "\n",
    "    # 中央値を取得\n",
    "    med = select(random_data, SIZE // 2)\n",
    "    median_actual.append(med)    "
   ]
  },
  {
   "cell_type": "code",
   "execution_count": 78,
   "metadata": {},
   "outputs": [],
   "source": [
    "assert median_expected == median_actual"
   ]
  },
  {
   "cell_type": "code",
   "execution_count": 126,
   "metadata": {},
   "outputs": [
    {
     "name": "stdout",
     "output_type": "stream",
     "text": [
      "[1, 1, 4, 6, 3, 2, 5] [1, 1, 2, 3, 4, 5, 6]\n"
     ]
    },
    {
     "data": {
      "text/plain": [
       "(3, 3)"
      ]
     },
     "execution_count": 126,
     "metadata": {},
     "output_type": "execute_result"
    }
   ],
   "source": [
    "lst = [1, 5, 4, 6, 3, 2, 1]\n",
    "\n",
    "ex = sorted(lst)[7 // 2]\n",
    "ac = select(lst, 7 // 2)\n",
    "\n",
    "print(lst, sorted(lst))\n",
    "\n",
    "ex, ac"
   ]
  },
  {
   "cell_type": "code",
   "execution_count": 127,
   "metadata": {},
   "outputs": [
    {
     "name": "stdout",
     "output_type": "stream",
     "text": [
      "1\n",
      "1\n",
      "2\n",
      "3\n",
      "4\n",
      "5\n",
      "6\n"
     ]
    }
   ],
   "source": [
    "for i in range(7):\n",
    "    print(select(lst, i))"
   ]
  },
  {
   "cell_type": "code",
   "execution_count": 123,
   "metadata": {},
   "outputs": [
    {
     "name": "stdout",
     "output_type": "stream",
     "text": [
      "CPU times: user 1.09 ms, sys: 1 µs, total: 1.09 ms\n",
      "Wall time: 1.1 ms\n"
     ]
    },
    {
     "data": {
      "text/plain": [
       "1"
      ]
     },
     "execution_count": 123,
     "metadata": {},
     "output_type": "execute_result"
    }
   ],
   "source": [
    "%%time\n",
    "same_data = [1 for _ in range(1_000)]\n",
    "\n",
    "select(same_data, 500)"
   ]
  }
 ],
 "metadata": {
  "kernelspec": {
   "display_name": "Python 3",
   "language": "python",
   "name": "python3"
  },
  "language_info": {
   "codemirror_mode": {
    "name": "ipython",
    "version": 3
   },
   "file_extension": ".py",
   "mimetype": "text/x-python",
   "name": "python",
   "nbconvert_exporter": "python",
   "pygments_lexer": "ipython3",
   "version": "3.10.9"
  },
  "orig_nbformat": 4
 },
 "nbformat": 4,
 "nbformat_minor": 2
}
