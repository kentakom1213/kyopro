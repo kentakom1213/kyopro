{
 "cells": [
  {
   "cell_type": "markdown",
   "metadata": {},
   "source": [
    "# Union-Find木\n",
    "\n",
    "参考 \\\n",
    "[https://note.nkmk.me/python-union-find/](https://note.nkmk.me/python-union-find/)\n",
    "[https://amateur-engineer-blog.com/union-find/?utm_source=rss&utm_medium=rss&utm_campaign=union-find](https://amateur-engineer-blog.com/union-find/?utm_source=rss&utm_medium=rss&utm_campaign=union-find)"
   ]
  },
  {
   "cell_type": "markdown",
   "metadata": {},
   "source": [
    "## 実装\n",
    "note.nkmk.meから引用"
   ]
  },
  {
   "cell_type": "code",
   "execution_count": 3,
   "metadata": {},
   "outputs": [],
   "source": [
    "from collections import defaultdict\n",
    "\n",
    "class UnionFind():\n",
    "    def __init__(self, n):\n",
    "        self.n = n\n",
    "        self.parents = [-1] * n\n",
    "\n",
    "    def find(self, x):\n",
    "        if self.parents[x] < 0:\n",
    "            return x\n",
    "        else:\n",
    "            # 親要素を再帰的に探索\n",
    "            self.parents[x] = self.find(self.parents[x])\n",
    "            return self.parents[x]\n",
    "\n",
    "    def union(self, x, y):\n",
    "        x = self.find(x)\n",
    "        y = self.find(y)\n",
    "\n",
    "        if x == y:\n",
    "            return\n",
    "\n",
    "        if self.parents[x] > self.parents[y]:\n",
    "            x, y = y, x\n",
    "\n",
    "        self.parents[x] += self.parents[y]\n",
    "        self.parents[y] = x\n",
    "\n",
    "    def size(self, x):\n",
    "        return -self.parents[self.find(x)]\n",
    "\n",
    "    def same(self, x, y):\n",
    "        return self.find(x) == self.find(y)\n",
    "\n",
    "    def members(self, x):\n",
    "        root = self.find(x)\n",
    "        return [i for i in range(self.n) if self.find(i) == root]\n",
    "\n",
    "    def roots(self):\n",
    "        return [i for i, x in enumerate(self.parents) if x < 0]\n",
    "\n",
    "    def group_count(self):\n",
    "        return len(self.roots())\n",
    "\n",
    "    def all_group_members(self):\n",
    "        group_members = defaultdict(list)\n",
    "        for member in range(self.n):\n",
    "            group_members[self.find(member)].append(member)\n",
    "        return group_members\n",
    "\n",
    "    def __str__(self):\n",
    "        return '\\n'.join(f'{r}: {m}' for r, m in self.all_group_members().items())"
   ]
  },
  {
   "cell_type": "code",
   "execution_count": 5,
   "metadata": {},
   "outputs": [
    {
     "name": "stdout",
     "output_type": "stream",
     "text": [
      "[-1, -1, -1, -1, -1, -1]\n",
      "0: [0]\n",
      "1: [1]\n",
      "2: [2]\n",
      "3: [3]\n",
      "4: [4]\n",
      "5: [5]\n"
     ]
    }
   ],
   "source": [
    "uf = UnionFind(6)\n",
    "print(uf.parents)\n",
    "print(uf)"
   ]
  },
  {
   "cell_type": "code",
   "execution_count": 6,
   "metadata": {},
   "outputs": [
    {
     "name": "stdout",
     "output_type": "stream",
     "text": [
      "[-2, -1, 0, -1, -1, -1]\n",
      "0: [0, 2]\n",
      "1: [1]\n",
      "3: [3]\n",
      "4: [4]\n",
      "5: [5]\n"
     ]
    }
   ],
   "source": [
    "uf.union(0, 2)\n",
    "print(uf.parents)\n",
    "print(uf)"
   ]
  },
  {
   "cell_type": "code",
   "execution_count": 7,
   "metadata": {},
   "outputs": [
    {
     "name": "stdout",
     "output_type": "stream",
     "text": [
      "[-2, -2, 0, 1, -1, -1]\n",
      "[-2, -2, 0, 1, -2, 4]\n",
      "[-2, -4, 0, 1, 1, 4]\n",
      "0: [0, 2]\n",
      "1: [1, 3, 4, 5]\n"
     ]
    }
   ],
   "source": [
    "uf.union(1, 3)\n",
    "print(uf.parents)\n",
    "uf.union(4, 5)\n",
    "print(uf.parents)\n",
    "uf.union(1, 4)\n",
    "print(uf.parents)\n",
    "\n",
    "print(uf)"
   ]
  },
  {
   "cell_type": "code",
   "execution_count": 8,
   "metadata": {},
   "outputs": [
    {
     "name": "stdout",
     "output_type": "stream",
     "text": [
      "[1, -6, 0, 1, 1, 1]\n",
      "1: [0, 1, 2, 3, 4, 5]\n"
     ]
    }
   ],
   "source": [
    "uf.union(0, 1)\n",
    "print(uf.parents)\n",
    "print(uf)"
   ]
  },
  {
   "cell_type": "markdown",
   "metadata": {},
   "source": [
    "## 素朴な実装"
   ]
  },
  {
   "cell_type": "code",
   "execution_count": 42,
   "metadata": {},
   "outputs": [],
   "source": [
    "class UnionFindBasic():\n",
    "    def __init__(self, n):\n",
    "        self.parents = list(range(n))\n",
    "\n",
    "    def find(self, x):\n",
    "        if self.parents[x] == x:\n",
    "            return x\n",
    "        else:\n",
    "            print(x, end=\" -> \")\n",
    "            return self.find(self.parents[x])\n",
    "\n",
    "    def union(self, x, y):\n",
    "        x = self.find(x)\n",
    "        y = self.find(y)\n",
    "\n",
    "        if x == y:\n",
    "            return\n",
    "\n",
    "        self.parents[y] = x"
   ]
  },
  {
   "cell_type": "code",
   "execution_count": 43,
   "metadata": {},
   "outputs": [
    {
     "name": "stdout",
     "output_type": "stream",
     "text": [
      "[0, 1, 1, 2, 3, 4, 5]\n"
     ]
    }
   ],
   "source": [
    "ufb = UnionFindBasic(7)\n",
    "\n",
    "ufb.union(5, 6)\n",
    "ufb.union(4, 5)\n",
    "ufb.union(3, 4)\n",
    "ufb.union(2, 3)\n",
    "ufb.union(1, 2)\n",
    "print(ufb.parents)"
   ]
  },
  {
   "cell_type": "code",
   "execution_count": 44,
   "metadata": {},
   "outputs": [
    {
     "name": "stdout",
     "output_type": "stream",
     "text": [
      "5 -> 4 -> 3 -> 2 -> 1\n",
      "5 -> 4 -> 3 -> 2 -> 1\n"
     ]
    }
   ],
   "source": [
    "print(ufb.find(5))\n",
    "print(ufb.find(5))"
   ]
  },
  {
   "cell_type": "markdown",
   "metadata": {},
   "source": [
    "### 経路圧縮"
   ]
  },
  {
   "cell_type": "code",
   "execution_count": 31,
   "metadata": {},
   "outputs": [],
   "source": [
    "class UnionFindPathCompression():\n",
    "    def __init__(self, n):\n",
    "        self.parents = list(range(n))\n",
    "\n",
    "    def find(self, x):\n",
    "        if self.parents[x] == x:\n",
    "            return x\n",
    "        else:\n",
    "            print(x, end=\" -> \")\n",
    "            self.parents[x] = self.find(self.parents[x]) # メモ化\n",
    "            return self.parents[x]\n",
    "\n",
    "    def union(self, x, y):\n",
    "        x = self.find(x)\n",
    "        y = self.find(y)\n",
    "\n",
    "        if x == y:\n",
    "            return\n",
    "\n",
    "        self.parents[y] = x"
   ]
  },
  {
   "cell_type": "code",
   "execution_count": 46,
   "metadata": {},
   "outputs": [
    {
     "name": "stdout",
     "output_type": "stream",
     "text": [
      "[0, 1, 1, 2, 3, 4, 5]\n"
     ]
    }
   ],
   "source": [
    "uf_comp = UnionFindPathCompression(7)\n",
    "\n",
    "uf_comp.union(5, 6)\n",
    "uf_comp.union(4, 5)\n",
    "uf_comp.union(3, 4)\n",
    "uf_comp.union(2, 3)\n",
    "uf_comp.union(1, 2)\n",
    "print(uf_comp.parents)"
   ]
  },
  {
   "cell_type": "code",
   "execution_count": 47,
   "metadata": {},
   "outputs": [
    {
     "name": "stdout",
     "output_type": "stream",
     "text": [
      "5 -> 4 -> 3 -> 2 -> 1\n",
      "5 -> 1\n"
     ]
    }
   ],
   "source": [
    "print(uf_comp.find(5))\n",
    "print(uf_comp.find(5))\n",
    "# 2回目からの呼び出しが大幅に効率化"
   ]
  },
  {
   "cell_type": "markdown",
   "metadata": {},
   "source": [
    "### rankの導入\n",
    "\n",
    "> ランク（木の高さ）の情報を保持しておき、併合する際に低い方を高い方につなげる（低い方の根の親を高い方の根にする）。\n",
    "\n",
    "> 経路圧縮にランクを加えた実装は以下の通り。ランク情報を格納するリストであるrank属性を追加する。[0] * nで初期化する。"
   ]
  },
  {
   "cell_type": "code",
   "execution_count": 65,
   "metadata": {},
   "outputs": [],
   "source": [
    "class UnionFindByRank():\n",
    "    def __init__(self, n):\n",
    "        self.parents = list(range(n))\n",
    "        self.rank = [0] * n\n",
    "\n",
    "    def find(self, x):\n",
    "        if self.parents[x] == x:\n",
    "            return x\n",
    "        else:\n",
    "            self.parents[x] = self.find(self.parents[x])\n",
    "            return self.parents[x]\n",
    "\n",
    "    def union(self, x, y):\n",
    "        x = self.find(x)\n",
    "        y = self.find(y)\n",
    "\n",
    "        if x == y:\n",
    "            return\n",
    "\n",
    "        if self.rank[x] < self.rank[y]:\n",
    "            self.parents[x] = y\n",
    "        else:\n",
    "            self.parents[y] = x\n",
    "            if self.rank[x] == self.rank[y]:\n",
    "                self.rank[x] += 1"
   ]
  }
 ],
 "metadata": {
  "interpreter": {
   "hash": "31f2aee4e71d21fbe5cf8b01ff0e069b9275f58929596ceb00d14d90e3e16cd6"
  },
  "kernelspec": {
   "display_name": "Python 3.8.2 64-bit",
   "name": "python3"
  },
  "language_info": {
   "codemirror_mode": {
    "name": "ipython",
    "version": 3
   },
   "file_extension": ".py",
   "mimetype": "text/x-python",
   "name": "python",
   "nbconvert_exporter": "python",
   "pygments_lexer": "ipython3",
   "version": "3.8.2"
  },
  "orig_nbformat": 4
 },
 "nbformat": 4,
 "nbformat_minor": 2
}
