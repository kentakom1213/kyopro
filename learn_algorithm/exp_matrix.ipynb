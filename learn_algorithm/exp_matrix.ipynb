{
 "cells": [
  {
   "attachments": {},
   "cell_type": "markdown",
   "metadata": {},
   "source": [
    "# 行列累乗\n",
    "\n",
    "## フィボナッチ数列\n",
    "以下の式で表される数列 $\\lbrace F_{n}\\rbrace$ をフィボナッチ数列と定義する。\n",
    "\n",
    "$$\n",
    "\\begin{align}\n",
    "    F_n =\n",
    "    \\left\\lbrace\n",
    "    \\begin{array}{ll}\n",
    "        1 & (n = 1, 2)\\\\\n",
    "        F_{n-1} + F_{n-2} & \\text{otherwise}\n",
    "    \\end{array}\n",
    "    \\right.\n",
    "\\end{align}\n",
    "$$\n",
    "\n",
    "### 行列での表現\n",
    "\n",
    "$$\n",
    "\\begin{align}\n",
    "    \\left(\n",
    "    \\begin{array}{cc}\n",
    "        F_{n+1}\\\\\n",
    "        F_{n+2}\n",
    "    \\end{array}\n",
    "    \\right)\n",
    "    =\n",
    "    \\left(\n",
    "    \\begin{array}{cc}\n",
    "        0 & 1\\\\\n",
    "        1 & 1\n",
    "    \\end{array}\n",
    "    \\right)\n",
    "    \\left(\n",
    "    \\begin{array}{cc}\n",
    "        F_{n}\\\\\n",
    "        F_{n+1}\n",
    "    \\end{array}\n",
    "    \\right)\n",
    "\\end{align}\n",
    "$$\n",
    "\n",
    "よって、\n",
    "\n",
    "$$\n",
    "\\begin{align}\n",
    "    \\left(\n",
    "    \\begin{array}{cc}\n",
    "        F_{n}\\\\\n",
    "        F_{n+1}\n",
    "    \\end{array}\n",
    "    \\right)\n",
    "    &=\n",
    "    \\left(\n",
    "    \\begin{array}{cc}\n",
    "        0 & 1\\\\\n",
    "        1 & 1\n",
    "    \\end{array}\n",
    "    \\right)\n",
    "    \\left(\n",
    "    \\begin{array}{cc}\n",
    "        F_{n-1}\\\\\n",
    "        F_{n}\n",
    "    \\end{array}\n",
    "    \\right)\\\\\n",
    "    &=\n",
    "    \\left(\n",
    "    \\begin{array}{cc}\n",
    "        0 & 1\\\\\n",
    "        1 & 1\n",
    "    \\end{array}\n",
    "    \\right)^2\n",
    "    \\left(\n",
    "    \\begin{array}{cc}\n",
    "        F_{n-2}\\\\\n",
    "        F_{n-1}\n",
    "    \\end{array}\n",
    "    \\right)\\\\\n",
    "    &\\quad\\vdots\\\\\n",
    "    &=\n",
    "    \\left(\n",
    "    \\begin{array}{cc}\n",
    "        0 & 1\\\\\n",
    "        1 & 1\n",
    "    \\end{array}\n",
    "    \\right)^{n-1}\n",
    "    \\left(\n",
    "    \\begin{array}{cc}\n",
    "        F_1\\\\\n",
    "        F_2\n",
    "    \\end{array}\n",
    "    \\right)\n",
    "    &=\n",
    "    \\left(\n",
    "    \\begin{array}{cc}\n",
    "        0 & 1\\\\\n",
    "        1 & 1\n",
    "    \\end{array}\n",
    "    \\right)^{n-1}\n",
    "    \\left(\n",
    "    \\begin{array}{cc}\n",
    "        1\\\\\n",
    "        1\n",
    "    \\end{array}\n",
    "    \\right)\n",
    "\\end{align}\n",
    "$$\n",
    "\n",
    "---\n",
    "\n",
    "## 問題\n",
    "> フィボナッチ数列の第$10^9$項を$1000000007$で割ったあまりを求めよ\n",
    "\n",
    "### 解法\n",
    "\n",
    "愚直に足していく実装では、$10^9$回の加算が必要になるため、現実的な時間で解くことができない。\n",
    "先に示した行列の乗算による方法でも、愚直に掛け算を行うと$10^9$回の行列計算が必要になるが、\n",
    "[繰り返し二乗法](https://algo-logic.info/calc-pow/)と呼ばれるアルゴリズムを用いることで、\n",
    "計算回数を$10^9$の対数に比例する回数に落とすことができる。\n",
    "\n",
    "### 答え\n",
    "`21`\n",
    "\n",
    "（下のコードを参照）\n"
   ]
  },
  {
   "cell_type": "code",
   "execution_count": 1,
   "metadata": {},
   "outputs": [],
   "source": [
    "def dot(a, b):\n",
    "    ((a11, a12),\n",
    "     (a21, a22)) = a\n",
    "    ((b11, b12),\n",
    "     (b21, b22)) = b\n",
    "    return (\n",
    "        (a11*b11 + a12*b21, a11*b12 + b12*b22),\n",
    "        (a21*b11 + a22*b21, a21*b12 + a22*b22)\n",
    "    )"
   ]
  },
  {
   "cell_type": "code",
   "execution_count": 2,
   "metadata": {},
   "outputs": [
    {
     "data": {
      "text/plain": [
       "((5, 2), (13, 4))"
      ]
     },
     "execution_count": 2,
     "metadata": {},
     "output_type": "execute_result"
    }
   ],
   "source": [
    "x = ((1, 0),\n",
    "     (2, 1))\n",
    "y = ((5, 2),\n",
    "     (3, 0))\n",
    "\n",
    "dot(x, y)"
   ]
  },
  {
   "cell_type": "code",
   "execution_count": 3,
   "metadata": {},
   "outputs": [],
   "source": [
    "def pow_matrix(arr, n):\n",
    "    res = ((1, 0), (0, 1))\n",
    "    while n > 0:\n",
    "        if n & 1 == 1:\n",
    "            res = dot(res, arr)\n",
    "        arr = dot(arr, arr)\n",
    "        n >>= 1\n",
    "    return res"
   ]
  },
  {
   "cell_type": "code",
   "execution_count": 4,
   "metadata": {},
   "outputs": [
    {
     "data": {
      "text/plain": [
       "((1618558612, 7677648296619), (102334155, 165580141))"
      ]
     },
     "execution_count": 4,
     "metadata": {},
     "output_type": "execute_result"
    }
   ],
   "source": [
    "pow_matrix(((0, 1), (1, 1)), 40)"
   ]
  },
  {
   "attachments": {},
   "cell_type": "markdown",
   "metadata": {},
   "source": [
    "### フィボナッチ数列の第n項を求める"
   ]
  },
  {
   "cell_type": "code",
   "execution_count": 5,
   "metadata": {},
   "outputs": [],
   "source": [
    "def fib(n):\n",
    "    \"\"\" フィボナッチ数列の第n項を求める \"\"\"\n",
    "    arr = ((0, 1), (1, 1))\n",
    "    powered = pow_matrix(arr, n - 1)\n",
    "    res = powered[1][1]\n",
    "    return res"
   ]
  },
  {
   "cell_type": "code",
   "execution_count": 6,
   "metadata": {},
   "outputs": [
    {
     "name": "stdout",
     "output_type": "stream",
     "text": [
      "1\n",
      "1\n",
      "2\n",
      "3\n",
      "5\n",
      "8\n",
      "13\n",
      "21\n",
      "34\n",
      "55\n",
      "89\n",
      "144\n",
      "233\n",
      "377\n",
      "610\n",
      "987\n",
      "1597\n",
      "2584\n",
      "4181\n"
     ]
    }
   ],
   "source": [
    "for i in range(1, 20):\n",
    "    print(fib(i))"
   ]
  },
  {
   "cell_type": "code",
   "execution_count": 7,
   "metadata": {},
   "outputs": [
    {
     "data": {
      "text/plain": [
       "354224848179261915075"
      ]
     },
     "execution_count": 7,
     "metadata": {},
     "output_type": "execute_result"
    }
   ],
   "source": [
    "fib(100)"
   ]
  },
  {
   "cell_type": "code",
   "execution_count": 8,
   "metadata": {},
   "outputs": [
    {
     "data": {
      "text/plain": [
       "43466557686937456435688527675040625802564660517371780402481729089536555417949051890403879840079255169295922593080322634775209689623239873322471161642996440906533187938298969649928516003704476137795166849228875"
      ]
     },
     "execution_count": 8,
     "metadata": {},
     "output_type": "execute_result"
    }
   ],
   "source": [
    "fib(1000)"
   ]
  },
  {
   "attachments": {},
   "cell_type": "markdown",
   "metadata": {},
   "source": [
    "### あまりをとる実装"
   ]
  },
  {
   "cell_type": "code",
   "execution_count": 9,
   "metadata": {},
   "outputs": [],
   "source": [
    "MOD = 1000000007\n",
    "\n",
    "def dot_mod(a, b):\n",
    "    ((a11, a12),\n",
    "     (a21, a22)) = a\n",
    "    ((b11, b12),\n",
    "     (b21, b22)) = b\n",
    "    return (\n",
    "        ((a11*b11 + a12*b21) % MOD, (a11*b12 + b12*b22) % MOD),\n",
    "        ((a21*b11 + a22*b21) % MOD, (a21*b12 + a22*b22) % MOD)\n",
    "    )\n",
    "\n",
    "def pow_matrix_mod(arr, n):\n",
    "    \"\"\" 繰り返し2乗法による冪乗の計算 \"\"\"\n",
    "    res = ((1, 0), (0, 1))\n",
    "    while n > 0:\n",
    "        if n & 1 == 1:\n",
    "            res = dot_mod(res, arr)\n",
    "        arr = dot_mod(arr, arr)\n",
    "        n >>= 1\n",
    "    return res\n",
    "\n",
    "def fib_mod(n):\n",
    "    \"\"\" フィボナッチ数列の第n項(mod 1000000007)を求める \"\"\"\n",
    "    arr = ((0, 1), (1, 1))\n",
    "    powered = pow_matrix_mod(arr, n - 1)\n",
    "    res = powered[1][1]\n",
    "    return res\n"
   ]
  },
  {
   "cell_type": "code",
   "execution_count": 10,
   "metadata": {},
   "outputs": [
    {
     "name": "stdout",
     "output_type": "stream",
     "text": [
      "1\n",
      "1\n",
      "2\n",
      "3\n",
      "5\n",
      "8\n",
      "13\n",
      "21\n",
      "34\n",
      "55\n",
      "89\n",
      "144\n",
      "233\n",
      "377\n",
      "610\n",
      "987\n",
      "1597\n",
      "2584\n",
      "4181\n"
     ]
    }
   ],
   "source": [
    "for i in range(1, 20):\n",
    "    print(fib_mod(i))"
   ]
  },
  {
   "cell_type": "code",
   "execution_count": 11,
   "metadata": {},
   "outputs": [
    {
     "data": {
      "text/plain": [
       "21"
      ]
     },
     "execution_count": 11,
     "metadata": {},
     "output_type": "execute_result"
    }
   ],
   "source": [
    "fib_mod(1_000_000_000)"
   ]
  }
 ],
 "metadata": {
  "kernelspec": {
   "display_name": ".local",
   "language": "python",
   "name": "python3"
  },
  "language_info": {
   "codemirror_mode": {
    "name": "ipython",
    "version": 3
   },
   "file_extension": ".py",
   "mimetype": "text/x-python",
   "name": "python",
   "nbconvert_exporter": "python",
   "pygments_lexer": "ipython3",
   "version": "3.9.13"
  },
  "orig_nbformat": 4,
  "vscode": {
   "interpreter": {
    "hash": "2037f08d740e09aaf23a5b1fb540c4c384b57cd039efda05e1421df2b7d12afc"
   }
  }
 },
 "nbformat": 4,
 "nbformat_minor": 2
}
