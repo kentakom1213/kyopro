{
 "cells": [
  {
   "cell_type": "markdown",
   "metadata": {},
   "source": [
    "# [SortedSet](https://github.com/tatyam-prime/SortedSet)を使えるようになろう\n",
    "\n",
    "参考\n",
    "- [Python で std::set の代替物を作った](https://qiita.com/tatyam/items/492c70ac4c955c055602)"
   ]
  },
  {
   "cell_type": "code",
   "execution_count": 56,
   "metadata": {},
   "outputs": [],
   "source": [
    "# https://github.com/tatyam-prime/SortedSet/blob/main/SortedSet.py\n",
    "import math\n",
    "from bisect import bisect_left, bisect_right\n",
    "from typing import Generic, Iterable, Iterator, TypeVar, Union, List\n",
    "T = TypeVar('T')\n",
    "\n",
    "class SortedSet(Generic[T]):\n",
    "    BUCKET_RATIO = 50\n",
    "    REBUILD_RATIO = 170\n",
    "\n",
    "    def _build(self, a=None) -> None:\n",
    "        \"Evenly divide `a` into buckets.\"\n",
    "        if a is None: a = list(self)\n",
    "        size = self.size = len(a)\n",
    "        bucket_size = int(math.ceil(math.sqrt(size / self.BUCKET_RATIO)))\n",
    "        self.a = [a[size * i // bucket_size : size * (i + 1) // bucket_size] for i in range(bucket_size)]\n",
    "    \n",
    "    def __init__(self, a: Iterable[T] = []) -> None:\n",
    "        \"Make a new SortedSet from iterable. / O(N) if sorted and unique / O(N log N)\"\n",
    "        a = list(a)\n",
    "        if not all(a[i] < a[i + 1] for i in range(len(a) - 1)):\n",
    "            a = sorted(set(a))\n",
    "        self._build(a)\n",
    "\n",
    "    def __iter__(self) -> Iterator[T]:\n",
    "        for i in self.a:\n",
    "            for j in i: yield j\n",
    "\n",
    "    def __reversed__(self) -> Iterator[T]:\n",
    "        for i in reversed(self.a):\n",
    "            for j in reversed(i): yield j\n",
    "    \n",
    "    def __len__(self) -> int:\n",
    "        return self.size\n",
    "    \n",
    "    def __repr__(self) -> str:\n",
    "        return \"SortedSet\" + str(self.a)\n",
    "    \n",
    "    def __str__(self) -> str:\n",
    "        s = str(list(self))\n",
    "        return \"{\" + s[1 : len(s) - 1] + \"}\"\n",
    "\n",
    "    def _find_bucket(self, x: T) -> List[T]:\n",
    "        \"Find the bucket which should contain x. self must not be empty.\"\n",
    "        for a in self.a:\n",
    "            if x <= a[-1]: return a\n",
    "        return a\n",
    "\n",
    "    def __contains__(self, x: T) -> bool:\n",
    "        if self.size == 0: return False\n",
    "        a = self._find_bucket(x)\n",
    "        i = bisect_left(a, x)\n",
    "        return i != len(a) and a[i] == x\n",
    "\n",
    "    def add(self, x: T) -> bool:\n",
    "        \"Add an element and return True if added. / O(√N)\"\n",
    "        if self.size == 0:\n",
    "            self.a = [[x]]\n",
    "            self.size = 1\n",
    "            return True\n",
    "        a = self._find_bucket(x)\n",
    "        i = bisect_left(a, x)\n",
    "        if i != len(a) and a[i] == x: return False\n",
    "        a.insert(i, x)\n",
    "        self.size += 1\n",
    "        if len(a) > len(self.a) * self.REBUILD_RATIO:\n",
    "            self._build()\n",
    "        return True\n",
    "\n",
    "    def discard(self, x: T) -> bool:\n",
    "        \"Remove an element and return True if removed. / O(√N)\"\n",
    "        if self.size == 0: return False\n",
    "        a = self._find_bucket(x)\n",
    "        i = bisect_left(a, x)\n",
    "        if i == len(a) or a[i] != x: return False\n",
    "        a.pop(i)\n",
    "        self.size -= 1\n",
    "        if len(a) == 0: self._build()\n",
    "        return True\n",
    "    \n",
    "    def lt(self, x: T) -> Union[T, None]:\n",
    "        \"Find the largest element < x, or None if it doesn't exist.\"\n",
    "        for a in reversed(self.a):\n",
    "            if a[0] < x:\n",
    "                return a[bisect_left(a, x) - 1]\n",
    "\n",
    "    def le(self, x: T) -> Union[T, None]:\n",
    "        \"Find the largest element <= x, or None if it doesn't exist.\"\n",
    "        for a in reversed(self.a):\n",
    "            if a[0] <= x:\n",
    "                return a[bisect_right(a, x) - 1]\n",
    "\n",
    "    def gt(self, x: T) -> Union[T, None]:\n",
    "        \"Find the smallest element > x, or None if it doesn't exist.\"\n",
    "        for a in self.a:\n",
    "            if a[-1] > x:\n",
    "                return a[bisect_right(a, x)]\n",
    "\n",
    "    def ge(self, x: T) -> Union[T, None]:\n",
    "        \"Find the smallest element >= x, or None if it doesn't exist.\"\n",
    "        for a in self.a:\n",
    "            if a[-1] >= x:\n",
    "                return a[bisect_left(a, x)]\n",
    "    \n",
    "    def __getitem__(self, x: int) -> T:\n",
    "        \"Return the x-th element, or IndexError if it doesn't exist.\"\n",
    "        if x < 0: x += self.size\n",
    "        if x < 0: raise IndexError\n",
    "        for a in self.a:\n",
    "            if x < len(a): return a[x]\n",
    "            x -= len(a)\n",
    "        raise IndexError\n",
    "    \n",
    "    def index(self, x: T) -> int:\n",
    "        \"Count the number of elements < x.\"\n",
    "        ans = 0\n",
    "        for a in self.a:\n",
    "            if a[-1] >= x:\n",
    "                return ans + bisect_left(a, x)\n",
    "            ans += len(a)\n",
    "        return ans\n",
    "\n",
    "    def index_right(self, x: T) -> int:\n",
    "        \"Count the number of elements <= x.\"\n",
    "        ans = 0\n",
    "        for a in self.a:\n",
    "            if a[-1] > x:\n",
    "                return ans + bisect_right(a, x)\n",
    "            ans += len(a)\n",
    "        return ans\n"
   ]
  },
  {
   "cell_type": "markdown",
   "metadata": {},
   "source": [
    "## 使ってみる"
   ]
  },
  {
   "cell_type": "code",
   "execution_count": 57,
   "metadata": {},
   "outputs": [],
   "source": [
    "MAX = 1e5\n",
    "N = 300"
   ]
  },
  {
   "cell_type": "code",
   "execution_count": 58,
   "metadata": {},
   "outputs": [],
   "source": [
    "from random import randint\n",
    "data = [randint(0, MAX) for _ in range(N)]"
   ]
  },
  {
   "cell_type": "code",
   "execution_count": 59,
   "metadata": {},
   "outputs": [],
   "source": [
    "ss = SortedSet(data)"
   ]
  },
  {
   "cell_type": "code",
   "execution_count": 60,
   "metadata": {},
   "outputs": [
    {
     "name": "stdout",
     "output_type": "stream",
     "text": [
      "[854, 935, 953, 1410, 2306, 2360, 2442, 3169, 3451, 4162, 4394, 4753, 5030, 5403, 5454, 6380, 6487, 7831, 8452, 8594, 8926, 10074, 11793, 12153, 12169, 12555, 12645, 12688, 12813, 12831, 13343, 13368, 13690, 13756, 13820, 13894, 14106, 14203, 14458, 14607, 14877, 15845, 15943, 16012, 16069, 16649, 16916, 17349, 17555, 17604, 17678, 17843, 18276, 19126, 19545, 19980, 20088, 20659, 21338, 21772, 22257, 23370, 23475, 23849, 23968, 24069, 24251, 24269, 24740, 24753, 25632, 26295, 26357, 27104, 27752, 28098, 28100, 28404, 28660, 29179, 29512, 29801, 29909, 30085, 30149, 30337, 30523, 30601, 30776, 30780, 30877, 31922, 32220, 32318, 32691, 33979, 34313, 34459, 35289, 35395]\n",
      "[35459, 35952, 35988, 36443, 37034, 37095, 37701, 38406, 38580, 38767, 38919, 39121, 39556, 39690, 40174, 40188, 40802, 40812, 41170, 41549, 41876, 41992, 41996, 42053, 42302, 42970, 43147, 43183, 43336, 43613, 43769, 43947, 44000, 44253, 44991, 45310, 45761, 45976, 46091, 46373, 46869, 46893, 47037, 47053, 48204, 48332, 48403, 48415, 48478, 48526, 48840, 49557, 49753, 49774, 49890, 51185, 51188, 51744, 52057, 52325, 52506, 52622, 52768, 52840, 52896, 53204, 53347, 53463, 53868, 54586, 54633, 54847, 55661, 55833, 56372, 57429, 57717, 58239, 58811, 59362, 60077, 60663, 61274, 61322, 61491, 62049, 62534, 63093, 64332, 64560, 64654, 65290, 65608, 65803, 66454, 66569, 66806, 67153, 67412, 67555]\n",
      "[68326, 68389, 68746, 68893, 69122, 69263, 71412, 73175, 73398, 74437, 74573, 74931, 75059, 75175, 75712, 75824, 75926, 76043, 76532, 77334, 77973, 78119, 78632, 78938, 78953, 78964, 79154, 79774, 80446, 80497, 80657, 80943, 81162, 81254, 81458, 81477, 81702, 81791, 81867, 82214, 82231, 82440, 83185, 83299, 83460, 83509, 83556, 83986, 84070, 84132, 84529, 85393, 85750, 85841, 86456, 86531, 86571, 87104, 87256, 87734, 87795, 87875, 88514, 88518, 88663, 88714, 89403, 90141, 90193, 90768, 90994, 91240, 91762, 91778, 92141, 92658, 92844, 93091, 93296, 93448, 93488, 94416, 95134, 95238, 95525, 96114, 96124, 96248, 96328, 96455, 96947, 97239, 97527, 97590, 97896, 97964, 99176, 99814, 99857, 99865]\n"
     ]
    }
   ],
   "source": [
    "for row in ss.a:\n",
    "    print(row)"
   ]
  },
  {
   "cell_type": "code",
   "execution_count": 63,
   "metadata": {},
   "outputs": [
    {
     "name": "stdout",
     "output_type": "stream",
     "text": [
      "27\n"
     ]
    }
   ],
   "source": [
    "# 探索\n",
    "cnt = 0\n",
    "for _ in range(10000):\n",
    "    x = randint(0, MAX)\n",
    "    cnt += x in ss\n",
    "\n",
    "print(cnt)"
   ]
  }
 ],
 "metadata": {
  "interpreter": {
   "hash": "2f394aca7ca06fed1e6064aef884364492d7cdda3614a461e02e6407fc40ba69"
  },
  "kernelspec": {
   "display_name": "Python 3.9.9 ('base')",
   "language": "python",
   "name": "python3"
  },
  "language_info": {
   "codemirror_mode": {
    "name": "ipython",
    "version": 3
   },
   "file_extension": ".py",
   "mimetype": "text/x-python",
   "name": "python",
   "nbconvert_exporter": "python",
   "pygments_lexer": "ipython3",
   "version": "3.9.9"
  },
  "orig_nbformat": 4
 },
 "nbformat": 4,
 "nbformat_minor": 2
}
