{
 "cells": [
  {
   "cell_type": "markdown",
   "metadata": {},
   "source": [
    "# Z - Algorithm\n",
    "文字列の共通接頭辞の長さを求める\n",
    "\n",
    "[参考](https://qiita.com/Pro_ktmr/items/16904c9570aa0953bf05)\n",
    "\n",
    "[かつっぱさん](https://www.youtube.com/watch?v=f6ct5PQHqM0&t=1159s)"
   ]
  },
  {
   "cell_type": "markdown",
   "metadata": {},
   "source": [
    "## 愚直な実装\n",
    "$O(n^2)$もかかる"
   ]
  },
  {
   "cell_type": "code",
   "execution_count": 11,
   "metadata": {},
   "outputs": [],
   "source": [
    "#include <bits/stdc++.h>\n",
    "using namespace std;\n",
    "typedef vector<int> vec_int;"
   ]
  },
  {
   "cell_type": "code",
   "execution_count": 12,
   "metadata": {},
   "outputs": [],
   "source": [
    "string A = \"momomosumomomosu\""
   ]
  },
  {
   "cell_type": "code",
   "execution_count": 10,
   "metadata": {},
   "outputs": [],
   "source": [
    "vec_int guchoku(string S) {\n",
    "    int n = S.size();\n",
    "    vector<int> res(n, 0);\n",
    "    for (int i = 0; i < n; i++) {\n",
    "        int &same = res[i];\n",
    "        while (i+same < n && S[same] == S[i+same]) same++;\n",
    "    }\n",
    "    return res;\n",
    "}"
   ]
  },
  {
   "cell_type": "code",
   "execution_count": 13,
   "metadata": {},
   "outputs": [
    {
     "data": {
      "text/plain": [
       "{ 16, 0, 4, 0, 2, 0, 0, 0, 8, 0, 4, 0, 2, 0, 0, 0 }"
      ]
     },
     "execution_count": 13,
     "metadata": {},
     "output_type": "execute_result"
    }
   ],
   "source": [
    "guchoku(A)"
   ]
  },
  {
   "cell_type": "markdown",
   "metadata": {},
   "source": [
    "## Z-Algorithm\n",
    "$O(n)$でOK"
   ]
  },
  {
   "cell_type": "code",
   "execution_count": 19,
   "metadata": {},
   "outputs": [],
   "source": [
    "vec_int z_algo(string S) {\n",
    "    int n = S.size();\n",
    "    vector<int> res(n, 0);\n",
    "    int from = -1, last = -1;\n",
    "    for (int i = 1; i < n; i++) {\n",
    "        int &same = res[i];\n",
    "        if (from != -1){\n",
    "            same = min(res[i-from], last-i);\n",
    "            same = max(same, 0);\n",
    "        }\n",
    "        while (i+same < n && S[same] == S[i+same]) same++;\n",
    "        if (last < i+same) {\n",
    "            last = i+same;\n",
    "            from = i;\n",
    "        }\n",
    "    }\n",
    "    res[0] = n;\n",
    "    return res;\n",
    "}"
   ]
  },
  {
   "cell_type": "code",
   "execution_count": 20,
   "metadata": {},
   "outputs": [
    {
     "data": {
      "text/plain": [
       "{ 16, 0, 4, 0, 2, 0, 0, 0, 8, 0, 4, 0, 2, 0, 0, 0 }"
      ]
     },
     "execution_count": 20,
     "metadata": {},
     "output_type": "execute_result"
    }
   ],
   "source": [
    "z_algo(A)"
   ]
  }
 ],
 "metadata": {
  "interpreter": {
   "hash": "2f394aca7ca06fed1e6064aef884364492d7cdda3614a461e02e6407fc40ba69"
  },
  "kernelspec": {
   "display_name": "C++17",
   "language": "C++17",
   "name": "python397jvsc74a57bd0049469cf3dd03d83d492bae44acfa2cf716a721f729f3508cce5c7223a7e780c"
  },
  "language_info": {
   "codemirror_mode": "text/x-c++src",
   "file_extension": ".cpp",
   "mimetype": "text/x-c++src",
   "name": "c++",
   "version": "17"
  },
  "orig_nbformat": 4
 },
 "nbformat": 4,
 "nbformat_minor": 2
}
