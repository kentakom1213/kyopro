{
 "cells": [
  {
   "cell_type": "code",
   "execution_count": 4,
   "source": [
    "0b101"
   ],
   "outputs": [
    {
     "output_type": "execute_result",
     "data": {
      "text/plain": [
       "5"
      ]
     },
     "metadata": {},
     "execution_count": 4
    }
   ],
   "metadata": {}
  },
  {
   "cell_type": "code",
   "execution_count": 5,
   "source": [
    "bin(1023)"
   ],
   "outputs": [
    {
     "output_type": "execute_result",
     "data": {
      "text/plain": [
       "'0b1111111111'"
      ]
     },
     "metadata": {},
     "execution_count": 5
    }
   ],
   "metadata": {}
  },
  {
   "cell_type": "markdown",
   "source": [
    "## シフト演算"
   ],
   "metadata": {}
  },
  {
   "cell_type": "code",
   "execution_count": 2,
   "source": [
    "for i in range(5):\n",
    "    print(bin(5 << i))"
   ],
   "outputs": [
    {
     "output_type": "stream",
     "name": "stdout",
     "text": [
      "0b101\n",
      "0b1010\n",
      "0b10100\n",
      "0b101000\n",
      "0b1010000\n"
     ]
    }
   ],
   "metadata": {}
  },
  {
   "cell_type": "code",
   "execution_count": 3,
   "source": [
    "for i in range(5):\n",
    "    print(bin(5 >> i))"
   ],
   "outputs": [
    {
     "output_type": "stream",
     "name": "stdout",
     "text": [
      "0b101\n",
      "0b10\n",
      "0b1\n",
      "0b0\n",
      "0b0\n"
     ]
    }
   ],
   "metadata": {}
  },
  {
   "cell_type": "markdown",
   "source": [
    "## 論理演算"
   ],
   "metadata": {}
  },
  {
   "cell_type": "code",
   "execution_count": 201,
   "source": [
    "def bin2str(b):\n",
    "    if b > 0: return bin(b)[2:]\n",
    "    else: return \"-\" + bin(b)[3:]\n",
    "\n",
    "\n",
    "def visualize(op_str):\n",
    "    def wrapper(func):\n",
    "        def inner(*vals):\n",
    "            res = func(*vals)\n",
    "            \n",
    "            val_str = list(map(bin2str, [*vals, res]))\n",
    "            max_size = max(map(len, val_str))\n",
    "            print(f\"   {val_str.pop(0).rjust(max_size, ' ')}\") if len(val_str) > 2 else None\n",
    "            print(f\"{op_str}) {val_str.pop(0).rjust(max_size, ' ')}\")\n",
    "            print(f\"---{'-'*max_size}\")\n",
    "            print(f\"   {val_str.pop(0).rjust(max_size, ' ')}\")\n",
    "\n",
    "            return res\n",
    "        return inner\n",
    "    return wrapper"
   ],
   "outputs": [],
   "metadata": {}
  },
  {
   "cell_type": "code",
   "execution_count": 195,
   "source": [
    "@visualize(\"&\")\n",
    "def AND(a, b):\n",
    "    return a & b"
   ],
   "outputs": [],
   "metadata": {}
  },
  {
   "cell_type": "code",
   "execution_count": 196,
   "source": [
    "A, B = 0b10010010, 0b10100111"
   ],
   "outputs": [],
   "metadata": {}
  },
  {
   "cell_type": "code",
   "execution_count": 197,
   "source": [
    "AND(A, B)"
   ],
   "outputs": [
    {
     "output_type": "stream",
     "name": "stdout",
     "text": [
      "   10010010\n",
      "&) 10100111\n",
      "-----------\n",
      "   10000010\n"
     ]
    },
    {
     "output_type": "execute_result",
     "data": {
      "text/plain": [
       "130"
      ]
     },
     "metadata": {},
     "execution_count": 197
    }
   ],
   "metadata": {}
  },
  {
   "cell_type": "code",
   "execution_count": 151,
   "source": [
    "@visualize(\"|\")\n",
    "def OR(a, b):\n",
    "    return a | b"
   ],
   "outputs": [],
   "metadata": {}
  },
  {
   "cell_type": "code",
   "execution_count": 152,
   "source": [
    "OR(A, B)"
   ],
   "outputs": [
    {
     "output_type": "stream",
     "name": "stdout",
     "text": [
      "   10010010\n",
      "|) 10100111\n",
      "-----------\n",
      "   10110111\n"
     ]
    },
    {
     "output_type": "execute_result",
     "data": {
      "text/plain": [
       "183"
      ]
     },
     "metadata": {},
     "execution_count": 152
    }
   ],
   "metadata": {}
  },
  {
   "cell_type": "code",
   "execution_count": 153,
   "source": [
    "@visualize(\"^\")\n",
    "def XOR(a, b):\n",
    "    return a ^ b"
   ],
   "outputs": [],
   "metadata": {}
  },
  {
   "cell_type": "code",
   "execution_count": 154,
   "source": [
    "XOR(A, B)\n",
    "print()\n",
    "XOR(XOR(A, B), B)\n",
    "\n",
    "print(\"↑ 元に戻る\")"
   ],
   "outputs": [
    {
     "output_type": "stream",
     "name": "stdout",
     "text": [
      "   10010010\n",
      "^) 10100111\n",
      "-----------\n",
      "     110101\n",
      "\n",
      "   10010010\n",
      "^) 10100111\n",
      "-----------\n",
      "     110101\n",
      "     110101\n",
      "^) 10100111\n",
      "-----------\n",
      "   10010010\n",
      "↑ 元に戻る\n"
     ]
    }
   ],
   "metadata": {}
  },
  {
   "cell_type": "code",
   "execution_count": 143,
   "source": [
    "XOR(XOR(A, B), A)\n",
    "\n",
    "print(\"↑ 元の値を消せる\")"
   ],
   "outputs": [
    {
     "output_type": "stream",
     "name": "stdout",
     "text": [
      "   10010010\n",
      "^) 10100111\n",
      "-----------\n",
      "     110101\n",
      "     110101\n",
      "^) 10010010\n",
      "-----------\n",
      "   10100111\n",
      "↑ 元の値を消せる\n"
     ]
    }
   ],
   "metadata": {}
  },
  {
   "cell_type": "code",
   "execution_count": 198,
   "source": [
    "@visualize(\"~\")\n",
    "def NOT(a):\n",
    "    return ~a"
   ],
   "outputs": [],
   "metadata": {}
  },
  {
   "cell_type": "code",
   "execution_count": 202,
   "source": [
    "NOT(A)"
   ],
   "outputs": [
    {
     "output_type": "stream",
     "name": "stdout",
     "text": [
      "~)  10010010\n",
      "------------\n",
      "   -10010011\n"
     ]
    },
    {
     "output_type": "execute_result",
     "data": {
      "text/plain": [
       "-147"
      ]
     },
     "metadata": {},
     "execution_count": 202
    }
   ],
   "metadata": {}
  },
  {
   "cell_type": "code",
   "execution_count": 200,
   "source": [
    "bin(~A)"
   ],
   "outputs": [
    {
     "output_type": "execute_result",
     "data": {
      "text/plain": [
       "'-0b10010011'"
      ]
     },
     "metadata": {},
     "execution_count": 200
    }
   ],
   "metadata": {}
  },
  {
   "cell_type": "code",
   "execution_count": 1,
   "source": [
    "0 ^ 1"
   ],
   "outputs": [
    {
     "output_type": "execute_result",
     "data": {
      "text/plain": [
       "1"
      ]
     },
     "metadata": {},
     "execution_count": 1
    }
   ],
   "metadata": {}
  },
  {
   "cell_type": "code",
   "execution_count": 2,
   "source": [
    "1 << 10 == 2 ** 10"
   ],
   "outputs": [
    {
     "output_type": "execute_result",
     "data": {
      "text/plain": [
       "True"
      ]
     },
     "metadata": {},
     "execution_count": 2
    }
   ],
   "metadata": {}
  }
 ],
 "metadata": {
  "orig_nbformat": 4,
  "language_info": {
   "name": "python",
   "version": "3.9.6",
   "mimetype": "text/x-python",
   "codemirror_mode": {
    "name": "ipython",
    "version": 3
   },
   "pygments_lexer": "ipython3",
   "nbconvert_exporter": "python",
   "file_extension": ".py"
  },
  "kernelspec": {
   "name": "python3",
   "display_name": "Python 3.9.6 64-bit ('.kyopuro': venv)"
  },
  "interpreter": {
   "hash": "8da7d83cc153f31c71ae5eea46d38b0b8f8ef3a488da9342d55dcc8298fdc97d"
  }
 },
 "nbformat": 4,
 "nbformat_minor": 2
}