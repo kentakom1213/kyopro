{
 "cells": [
  {
   "cell_type": "code",
   "execution_count": 1,
   "metadata": {},
   "outputs": [],
   "source": [
    "from sympy import *\n",
    "\n",
    "def zeta(n, i):\n",
    "    x = 2 * pi * I * i / n\n",
    "    return exp(x)\n",
    "\n",
    "def S(N):\n",
    "    res = 0\n",
    "    for a in range(1, N+1):\n",
    "        for b in range(1, N+1):\n",
    "            for i in range(a):\n",
    "                for j in range(b):\n",
    "                    tmp = (zeta(a, i) + zeta(b, j)) ** N\n",
    "                    res += tmp\n",
    "    return res"
   ]
  },
  {
   "cell_type": "code",
   "execution_count": 11,
   "metadata": {},
   "outputs": [],
   "source": [
    "N = 3"
   ]
  },
  {
   "cell_type": "code",
   "execution_count": 13,
   "metadata": {},
   "outputs": [
    {
     "name": "stdout",
     "output_type": "stream",
     "text": [
      "8, \n",
      "\n",
      "8, 0, \n",
      "\n",
      "8, (1 + exp(2*I*pi/3))**3, (1 + exp(-2*I*pi/3))**3, \n",
      "\n",
      "8, \n",
      "0, \n",
      "\n",
      "8, 0, \n",
      "0, -8, \n",
      "\n",
      "8, (1 + exp(2*I*pi/3))**3, (1 + exp(-2*I*pi/3))**3, \n",
      "0, (-1 + exp(2*I*pi/3))**3, (-1 + exp(-2*I*pi/3))**3, \n",
      "\n",
      "8, \n",
      "(1 + exp(2*I*pi/3))**3, \n",
      "(1 + exp(-2*I*pi/3))**3, \n",
      "\n",
      "8, 0, \n",
      "(1 + exp(2*I*pi/3))**3, (-1 + exp(2*I*pi/3))**3, \n",
      "(1 + exp(-2*I*pi/3))**3, (-1 + exp(-2*I*pi/3))**3, \n",
      "\n",
      "8, (1 + exp(2*I*pi/3))**3, (1 + exp(-2*I*pi/3))**3, \n",
      "(1 + exp(2*I*pi/3))**3, 8, (exp(-2*I*pi/3) + exp(2*I*pi/3))**3, \n",
      "(1 + exp(-2*I*pi/3))**3, (exp(-2*I*pi/3) + exp(2*I*pi/3))**3, 8, \n",
      "\n"
     ]
    }
   ],
   "source": [
    "for a in range(1, N+1):\n",
    "    for b in range(1, N+1):\n",
    "        for i in range(a):\n",
    "            for j in range(b):\n",
    "                tmp = (zeta(a, i) + zeta(b, j)) ** N\n",
    "                print(tmp, end=\", \")\n",
    "            print()\n",
    "        print()"
   ]
  }
 ],
 "metadata": {
  "kernelspec": {
   "display_name": "Python 3",
   "language": "python",
   "name": "python3"
  },
  "language_info": {
   "codemirror_mode": {
    "name": "ipython",
    "version": 3
   },
   "file_extension": ".py",
   "mimetype": "text/x-python",
   "name": "python",
   "nbconvert_exporter": "python",
   "pygments_lexer": "ipython3",
   "version": "3.10.9"
  },
  "orig_nbformat": 4,
  "vscode": {
   "interpreter": {
    "hash": "b0fa6594d8f4cbf19f97940f81e996739fb7646882a419484c72d19e05852a7e"
   }
  }
 },
 "nbformat": 4,
 "nbformat_minor": 2
}
