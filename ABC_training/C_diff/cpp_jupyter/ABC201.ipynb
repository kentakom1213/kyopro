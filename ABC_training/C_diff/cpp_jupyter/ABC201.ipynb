{
 "cells": [
  {
   "cell_type": "markdown",
   "id": "4b1dd929-7bd4-45f1-8c3f-36d36659ba66",
   "metadata": {},
   "source": [
    "# ABC201"
   ]
  },
  {
   "cell_type": "markdown",
   "id": "1909d79f-e2a8-4774-9db4-ee81ab36a03e",
   "metadata": {},
   "source": [
    "## [A - Tiny Arithmetic Sequence](https://atcoder.jp/contests/abc201/tasks/abc201_a)"
   ]
  },
  {
   "cell_type": "code",
   "execution_count": 1,
   "id": "1559d137-ff2f-41a7-89e5-ac872943043a",
   "metadata": {},
   "outputs": [],
   "source": [
    "#include <iostream>\n",
    "#include <string>\n",
    "#include <vector>\n",
    "using namespace std;"
   ]
  },
  {
   "cell_type": "code",
   "execution_count": 2,
   "id": "7183a778-5e48-4674-b928-c457c5110d3f",
   "metadata": {
    "scrolled": true,
    "tags": []
   },
   "outputs": [],
   "source": [
    "int main() {\n",
    "    double a1, a2, a3;\n",
    "    cin >> a1 >> a2 >> a3;\n",
    "    if (a1 == a2 && a1 == a3) {\n",
    "        cout << \"Yes\" << endl;\n",
    "        return 0;\n",
    "    }\n",
    "    double diff = abs(a2 - a1) / abs(a3 - a1);\n",
    "    if (diff == 1.0 || diff == 2.0 || diff == 0.5) {\n",
    "        cout << \"Yes\" << endl;\n",
    "    }\n",
    "    else {\n",
    "        cout << \"No\" << endl;\n",
    "    }\n",
    "}"
   ]
  },
  {
   "cell_type": "code",
   "execution_count": 3,
   "id": "bd3e29e9-4652-4ded-8d69-ce8c2c846940",
   "metadata": {},
   "outputs": [
    {
     "name": "stdin",
     "output_type": "stream",
     "text": [
      " 1 1 1\n"
     ]
    },
    {
     "name": "stdout",
     "output_type": "stream",
     "text": [
      "Yes\n"
     ]
    }
   ],
   "source": [
    "main();"
   ]
  },
  {
   "cell_type": "markdown",
   "id": "19bd4e99-277d-470c-820b-3c5878233445",
   "metadata": {},
   "source": [
    "## [B - Do you know the second highest mountain?](https://atcoder.jp/contests/abc201/tasks/abc201_b)"
   ]
  },
  {
   "cell_type": "code",
   "execution_count": 4,
   "id": "5834dc93-b4e6-4f88-8256-1b775c98c238",
   "metadata": {},
   "outputs": [],
   "source": [
    "int main() {\n",
    "    int N; cin >> N;\n",
    "    vector<pair<int, string>> mt(N);\n",
    "    for (auto& [n, s] : mt) {\n",
    "        cin >> s >> n;\n",
    "        cerr << s << \" \" << n << endl;\n",
    "    }\n",
    "    sort(mt.begin(), mt.end());\n",
    "    cout << mt[mt.size()-2].second << endl;\n",
    "}"
   ]
  },
  {
   "cell_type": "code",
   "execution_count": 5,
   "id": "c3996b33-225a-48af-9c6d-d647ca5ac024",
   "metadata": {},
   "outputs": [
    {
     "name": "stdin",
     "output_type": "stream",
     "text": [
      " 4 QCFium 2846 chokudai 2992 kyoprofriends 2432 penguinman 2390\n"
     ]
    },
    {
     "name": "stderr",
     "output_type": "stream",
     "text": [
      "QCFium 2846\n",
      "chokudai 2992\n",
      "kyoprofriends 2432\n",
      "penguinman 2390\n"
     ]
    },
    {
     "name": "stdout",
     "output_type": "stream",
     "text": [
      "QCFium\n"
     ]
    }
   ],
   "source": [
    "main();"
   ]
  },
  {
   "cell_type": "code",
   "execution_count": 6,
   "id": "5d995812-957d-419d-a03a-349aecfb46dc",
   "metadata": {},
   "outputs": [
    {
     "name": "stdin",
     "output_type": "stream",
     "text": [
      " 4 Kita 3193 Aino 3189 Fuji 3776 Okuhotaka 3190\n"
     ]
    },
    {
     "name": "stderr",
     "output_type": "stream",
     "text": [
      "Kita 3193\n",
      "Aino 3189\n",
      "Fuji 3776\n",
      "Okuhotaka 3190\n"
     ]
    },
    {
     "name": "stdout",
     "output_type": "stream",
     "text": [
      "Kita\n"
     ]
    }
   ],
   "source": [
    "main();"
   ]
  },
  {
   "cell_type": "code",
   "execution_count": 7,
   "id": "c11d60e6-513f-4b9f-bb31-b71be1b17684",
   "metadata": {},
   "outputs": [
    {
     "name": "stdin",
     "output_type": "stream",
     "text": [
      " 3 Everest 8849 K2 8611 Kangchenjunga 8586\n"
     ]
    },
    {
     "name": "stderr",
     "output_type": "stream",
     "text": [
      "Everest 8849\n",
      "K2 8611\n",
      "Kangchenjunga 8586\n"
     ]
    },
    {
     "name": "stdout",
     "output_type": "stream",
     "text": [
      "K2\n"
     ]
    }
   ],
   "source": [
    "main();"
   ]
  },
  {
   "cell_type": "markdown",
   "id": "b495e018-f00d-4798-9a14-0881a7daa1f8",
   "metadata": {},
   "source": [
    "## [C - Secret Number](https://atcoder.jp/contests/abc201/tasks/abc201_c)"
   ]
  },
  {
   "cell_type": "code",
   "execution_count": 8,
   "id": "c683c1e8-3e8e-4e1d-934d-9dbed2d70702",
   "metadata": {},
   "outputs": [],
   "source": [
    "int ctoi(char c) {\n",
    "    return c - '0';\n",
    "}"
   ]
  },
  {
   "cell_type": "code",
   "execution_count": 2,
   "id": "a53fb457-9d06-4b11-957a-9319cd2be908",
   "metadata": {},
   "outputs": [],
   "source": [
    "#define rep(i, n) for (int i = 0; i < (int)(n); i++)\n",
    "int main() {\n",
    "    long long res = 0;\n",
    "    string S; cin >> S;\n",
    "    rep(a, 10) {\n",
    "    rep(b, 10) {\n",
    "    rep(c, 10) {\n",
    "    rep(d, 10) {\n",
    "        bool isOK = true;\n",
    "        rep(i, 10) {\n",
    "            if (S[i] == 'o') {\n",
    "                isOK &= a == i\n",
    "                     || b == i\n",
    "                     || c == i\n",
    "                     || d == i;\n",
    "            }\n",
    "            else if (S[i] == 'x') {\n",
    "                isOK &= a != i\n",
    "                     && b != i\n",
    "                     && c != i\n",
    "                     && d != i;\n",
    "            }\n",
    "        }\n",
    "        res += isOK;\n",
    "    }}}}\n",
    "    cout << res << endl;\n",
    "}"
   ]
  },
  {
   "cell_type": "code",
   "execution_count": 5,
   "id": "1ae42fe4-b2dd-4f70-bc4a-3b9b1cfbbc62",
   "metadata": {},
   "outputs": [
    {
     "name": "stdin",
     "output_type": "stream",
     "text": [
      " xxxxx?xxxo\n"
     ]
    },
    {
     "name": "stdout",
     "output_type": "stream",
     "text": [
      "15\n"
     ]
    }
   ],
   "source": [
    "main();"
   ]
  }
 ],
 "metadata": {
  "kernelspec": {
   "display_name": "C++17",
   "language": "C++17",
   "name": "xcpp17"
  },
  "language_info": {
   "codemirror_mode": "text/x-c++src",
   "file_extension": ".cpp",
   "mimetype": "text/x-c++src",
   "name": "c++",
   "version": "17"
  }
 },
 "nbformat": 4,
 "nbformat_minor": 5
}
