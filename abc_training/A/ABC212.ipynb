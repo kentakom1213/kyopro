{
 "cells": [
  {
   "cell_type": "markdown",
   "id": "1dafa221-04ee-4679-8192-fd35ae8a1a44",
   "metadata": {},
   "source": [
    "# A - Alloy"
   ]
  },
  {
   "cell_type": "code",
   "execution_count": null,
   "id": "668e4503-03f6-4daa-933c-29bbb0df418e",
   "metadata": {},
   "outputs": [],
   "source": [
    "#include <bits/stdc++.h>\n",
    "using namespace std;\n",
    "typedef long long ll;"
   ]
  },
  {
   "cell_type": "code",
   "execution_count": null,
   "id": "7889e1c5-5afd-47e4-bab9-a1759188b26c",
   "metadata": {},
   "outputs": [],
   "source": [
    "int main() {\n",
    "    int a, b;\n",
    "    cin >> a >> b;\n",
    "    if (a == 0 || b == 0) {\n",
    "        cout << (a ? \"Gold\" : \"Silver\") << endl;\n",
    "    }\n",
    "    else {\n",
    "        cout << \"Alloy\" << endl;\n",
    "    }\n",
    "}"
   ]
  },
  {
   "cell_type": "code",
   "execution_count": 3,
   "id": "790b915c-670d-4110-8924-c6f908dbc24c",
   "metadata": {},
   "outputs": [
    {
     "name": "stdin",
     "output_type": "stream",
     "text": [
      " 100 0\n"
     ]
    },
    {
     "name": "stdout",
     "output_type": "stream",
     "text": [
      "Gold\n"
     ]
    }
   ],
   "source": [
    "main();"
   ]
  },
  {
   "cell_type": "code",
   "execution_count": 4,
   "id": "392df131-7aa4-4005-a388-23ef819367dc",
   "metadata": {},
   "outputs": [
    {
     "name": "stdin",
     "output_type": "stream",
     "text": [
      " 0 100\n"
     ]
    },
    {
     "name": "stdout",
     "output_type": "stream",
     "text": [
      "Silver\n"
     ]
    }
   ],
   "source": [
    "main();"
   ]
  },
  {
   "cell_type": "code",
   "execution_count": 5,
   "id": "1da7ea69-eabc-445a-a790-c65e2851baeb",
   "metadata": {},
   "outputs": [
    {
     "name": "stdin",
     "output_type": "stream",
     "text": [
      " 100 100\n"
     ]
    },
    {
     "name": "stdout",
     "output_type": "stream",
     "text": [
      "Alloy\n"
     ]
    }
   ],
   "source": [
    "main();"
   ]
  },
  {
   "cell_type": "markdown",
   "id": "205f099c-8333-4397-9184-906839dc6f61",
   "metadata": {},
   "source": [
    "## B - Weak Password"
   ]
  },
  {
   "cell_type": "code",
   "execution_count": null,
   "id": "fe71c91c-233c-4945-9ec7-a5a44848c0de",
   "metadata": {},
   "outputs": [],
   "source": [
    "#include <bits/stdc++.h>\n",
    "using namespace std;\n",
    "typedef long long ll;"
   ]
  },
  {
   "cell_type": "code",
   "execution_count": null,
   "id": "036d7b38-0496-4474-8914-f7fc307523ac",
   "metadata": {},
   "outputs": [],
   "source": [
    "int ctoi(char c) {\n",
    "    return c - '0';\n",
    "}"
   ]
  },
  {
   "cell_type": "code",
   "execution_count": null,
   "id": "bec0ba07-ee01-4a8d-9348-9e1f0b25c40a",
   "metadata": {},
   "outputs": [],
   "source": [
    "int main() {\n",
    "    string num;\n",
    "    cin >> num;\n",
    "    bool is_weak = num[0] == num[1] && num[0] == num[2] && num[0] == num[3];\n",
    "    bool dup = true;\n",
    "    for (int i = 0; i < 3; i++) {\n",
    "        dup &= (ctoi(num[i]) + 1) % 10 == ctoi(num[i+1]);\n",
    "    }\n",
    "    is_weak |= dup;\n",
    "    cout << (is_weak ? \"Weak\" : \"Strong\") << endl;\n",
    "}"
   ]
  },
  {
   "cell_type": "code",
   "execution_count": 4,
   "id": "cd1d2027-43d2-45c6-a33e-5dc79a242b89",
   "metadata": {},
   "outputs": [
    {
     "name": "stdin",
     "output_type": "stream",
     "text": [
      " 1234\n"
     ]
    },
    {
     "name": "stdout",
     "output_type": "stream",
     "text": [
      "Weak\n"
     ]
    }
   ],
   "source": [
    "main();"
   ]
  },
  {
   "cell_type": "code",
   "execution_count": 10,
   "id": "518c892f-be92-413a-b875-7aa1f874195b",
   "metadata": {},
   "outputs": [
    {
     "name": "stdin",
     "output_type": "stream",
     "text": [
      " 0112\n"
     ]
    },
    {
     "name": "stdout",
     "output_type": "stream",
     "text": [
      "Strong\n"
     ]
    }
   ],
   "source": [
    "main();"
   ]
  },
  {
   "cell_type": "code",
   "execution_count": 7,
   "id": "10243ee9-fe47-4466-bb24-dc7a178a4bcb",
   "metadata": {},
   "outputs": [
    {
     "name": "stdin",
     "output_type": "stream",
     "text": [
      " 9012\n"
     ]
    },
    {
     "name": "stdout",
     "output_type": "stream",
     "text": [
      "Weak\n"
     ]
    }
   ],
   "source": [
    "main();"
   ]
  }
 ],
 "metadata": {
  "kernelspec": {
   "display_name": "C++17",
   "language": "C++17",
   "name": "xcpp17"
  },
  "language_info": {
   "codemirror_mode": "text/x-c++src",
   "file_extension": ".cpp",
   "mimetype": "text/x-c++src",
   "name": "c++",
   "version": "17"
  }
 },
 "nbformat": 4,
 "nbformat_minor": 5
}
