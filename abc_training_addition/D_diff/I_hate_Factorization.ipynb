{
 "cells": [
  {
   "cell_type": "markdown",
   "metadata": {},
   "source": [
    "## 準備のため"
   ]
  },
  {
   "cell_type": "code",
   "execution_count": 131,
   "metadata": {},
   "outputs": [],
   "source": [
    "import numpy as np"
   ]
  },
  {
   "cell_type": "code",
   "execution_count": 132,
   "metadata": {},
   "outputs": [
    {
     "name": "stdout",
     "output_type": "stream",
     "text": [
      "[[    1    32   243  1024  3125  7776 16807 32768 59049]\n",
      " [    1    32   243  1024  3125  7776 16807 32768 59049]\n",
      " [    1    32   243  1024  3125  7776 16807 32768 59049]\n",
      " [    1    32   243  1024  3125  7776 16807 32768 59049]\n",
      " [    1    32   243  1024  3125  7776 16807 32768 59049]\n",
      " [    1    32   243  1024  3125  7776 16807 32768 59049]\n",
      " [    1    32   243  1024  3125  7776 16807 32768 59049]\n",
      " [    1    32   243  1024  3125  7776 16807 32768 59049]\n",
      " [    1    32   243  1024  3125  7776 16807 32768 59049]]\n",
      "[[    1     1     1     1     1     1     1     1     1]\n",
      " [   32    32    32    32    32    32    32    32    32]\n",
      " [  243   243   243   243   243   243   243   243   243]\n",
      " [ 1024  1024  1024  1024  1024  1024  1024  1024  1024]\n",
      " [ 3125  3125  3125  3125  3125  3125  3125  3125  3125]\n",
      " [ 7776  7776  7776  7776  7776  7776  7776  7776  7776]\n",
      " [16807 16807 16807 16807 16807 16807 16807 16807 16807]\n",
      " [32768 32768 32768 32768 32768 32768 32768 32768 32768]\n",
      " [59049 59049 59049 59049 59049 59049 59049 59049 59049]]\n",
      "[[     0    -31   -242  -1023  -3124  -7775 -16806 -32767 -59048]\n",
      " [    31      0   -211   -992  -3093  -7744 -16775 -32736 -59017]\n",
      " [   242    211      0   -781  -2882  -7533 -16564 -32525 -58806]\n",
      " [  1023    992    781      0  -2101  -6752 -15783 -31744 -58025]\n",
      " [  3124   3093   2882   2101      0  -4651 -13682 -29643 -55924]\n",
      " [  7775   7744   7533   6752   4651      0  -9031 -24992 -51273]\n",
      " [ 16806  16775  16564  15783  13682   9031      0 -15961 -42242]\n",
      " [ 32767  32736  32525  31744  29643  24992  15961      0 -26281]\n",
      " [ 59048  59017  58806  58025  55924  51273  42242  26281      0]]\n"
     ]
    }
   ],
   "source": [
    "A = np.arange(1, 10) ** 5\n",
    "B = np.arange(1, 10) ** 5\n",
    "\n",
    "X, Y = np.meshgrid(A, B)\n",
    "\n",
    "print(X)\n",
    "print(Y)\n",
    "\n",
    "Z = Y - X\n",
    "print(Z)"
   ]
  },
  {
   "cell_type": "code",
   "execution_count": 133,
   "metadata": {},
   "outputs": [],
   "source": [
    "def factoring_pair(n):\n",
    "    result = []\n",
    "    for i in range(2, int(n ** 0.5 + 1)):\n",
    "        if n % i != 0: continue\n",
    "        counter = 0\n",
    "        while n % i == 0:\n",
    "            n //= i\n",
    "            counter += 1\n",
    "        result.append((i, counter))\n",
    "    if n != 1:\n",
    "        result.append((n, 1))\n",
    "    return result"
   ]
  },
  {
   "cell_type": "code",
   "execution_count": 134,
   "metadata": {},
   "outputs": [
    {
     "name": "stdout",
     "output_type": "stream",
     "text": [
      "[31, 211, 242, 781, 992, 1023, 2101, 2882, 3093, 3124, 4651, 6752, 7533, 7744, 7775, 9031, 13682, 15783, 15961, 16564, 16775, 16806, 24992, 26281, 29643, 31744, 32525, 32736, 32767, 42242, 51273, 55924, 58025, 58806, 59017, 59048]\n",
      "[(31, 1)]\n",
      "[(211, 1)]\n",
      "[(2, 1), (11, 2)]\n",
      "[(11, 1), (71, 1)]\n",
      "[(2, 5), (31, 1)]\n",
      "[(3, 1), (11, 1), (31, 1)]\n",
      "[(11, 1), (191, 1)]\n",
      "[(2, 1), (11, 1), (131, 1)]\n",
      "[(3, 1), (1031, 1)]\n",
      "[(2, 2), (11, 1), (71, 1)]\n",
      "[(4651, 1)]\n",
      "[(2, 5), (211, 1)]\n",
      "[(3, 5), (31, 1)]\n",
      "[(2, 6), (11, 2)]\n",
      "[(5, 2), (311, 1)]\n",
      "[(11, 1), (821, 1)]\n",
      "[(2, 1), (6841, 1)]\n",
      "[(3, 1), (5261, 1)]\n",
      "[(11, 1), (1451, 1)]\n",
      "[(2, 2), (41, 1), (101, 1)]\n",
      "[(5, 2), (11, 1), (61, 1)]\n",
      "[(2, 1), (3, 1), (2801, 1)]\n",
      "[(2, 5), (11, 1), (71, 1)]\n",
      "[(41, 1), (641, 1)]\n",
      "[(3, 1), (41, 1), (241, 1)]\n",
      "[(2, 10), (31, 1)]\n",
      "[(5, 2), (1301, 1)]\n",
      "[(2, 5), (3, 1), (11, 1), (31, 1)]\n",
      "[(7, 1), (31, 1), (151, 1)]\n",
      "[(2, 1), (21121, 1)]\n",
      "[(3, 5), (211, 1)]\n",
      "[(2, 2), (11, 1), (31, 1), (41, 1)]\n",
      "[(5, 2), (11, 1), (211, 1)]\n",
      "[(2, 1), (3, 5), (11, 2)]\n",
      "[(7, 1), (8431, 1)]\n",
      "[(2, 3), (11, 2), (61, 1)]\n"
     ]
    }
   ],
   "source": [
    "nums = list(set(Z[Z > 0]))\n",
    "nums.sort()\n",
    "\n",
    "print(nums)\n",
    "\n",
    "for n in nums:\n",
    "    print(factoring_pair(n))"
   ]
  },
  {
   "cell_type": "code",
   "execution_count": 135,
   "metadata": {},
   "outputs": [],
   "source": [
    "from functools import partial"
   ]
  },
  {
   "cell_type": "code",
   "execution_count": 136,
   "metadata": {},
   "outputs": [
    {
     "data": {
      "text/plain": [
       "[(2, 3), (11, 2), (61, 1)]"
      ]
     },
     "execution_count": 136,
     "metadata": {},
     "output_type": "execute_result"
    }
   ],
   "source": [
    "n = 59048\n",
    "factors = factoring_pair(n)\n",
    "factors"
   ]
  },
  {
   "cell_type": "markdown",
   "metadata": {},
   "source": [
    "$A - B$の幅を固定しながら動かして、二分探索で求める値があるかどうかを探す"
   ]
  },
  {
   "cell_type": "code",
   "execution_count": 137,
   "metadata": {},
   "outputs": [],
   "source": [
    "def binary_search(condition, min, max):\n",
    "    while max - min > 1:\n",
    "        mid = int((max + min) // 2)\n",
    "        if condition(mid):\n",
    "            min = mid\n",
    "        else:\n",
    "            max = mid\n",
    "    return min"
   ]
  },
  {
   "cell_type": "code",
   "execution_count": 138,
   "metadata": {},
   "outputs": [
    {
     "name": "stdout",
     "output_type": "stream",
     "text": [
      "(1, 9) 40951 False\n",
      "(2, 7) 42242 False\n",
      "(3, 6) 51273 False\n",
      "(4, 5) 55924 False\n",
      "(5, 4) 58025 False\n",
      "(6, 3) 58806 False\n",
      "(7, 2) 59017 False\n",
      "(8, 1) 59048 True\n",
      "(9, 1) 99999 False\n",
      "(10, 1) 161050 False\n",
      "(11, 1) 248831 False\n",
      "(12, 1) 371292 False\n"
     ]
    }
   ],
   "source": [
    "def A5_B5(seg, b):\n",
    "    a = b + seg\n",
    "    return a ** 5 - b ** 5  \n",
    "\n",
    "def is_OK(n, seg, b):\n",
    "    return A5_B5(seg, b) <= n\n",
    "\n",
    "for seg in range(1, 13):\n",
    "    res = binary_search(partial(is_OK, n, seg), 1, 100)\n",
    "    print((seg, res), A5_B5(seg, res), A5_B5(seg, res) == n)"
   ]
  },
  {
   "cell_type": "code",
   "execution_count": 139,
   "metadata": {},
   "outputs": [
    {
     "data": {
      "text/plain": [
       "7775"
      ]
     },
     "execution_count": 139,
     "metadata": {},
     "output_type": "execute_result"
    }
   ],
   "source": [
    "A5_B5(5, 1)"
   ]
  },
  {
   "cell_type": "markdown",
   "metadata": {},
   "source": [
    "# 解答"
   ]
  },
  {
   "cell_type": "code",
   "execution_count": 140,
   "metadata": {},
   "outputs": [
    {
     "data": {
      "text/plain": [
       "5904900032"
      ]
     },
     "execution_count": 140,
     "metadata": {},
     "output_type": "execute_result"
    }
   ],
   "source": [
    "90**5 - (-2)**5"
   ]
  },
  {
   "cell_type": "code",
   "execution_count": 1,
   "metadata": {},
   "outputs": [
    {
     "name": "stdout",
     "output_type": "stream",
     "text": [
      "2 -1\n"
     ]
    }
   ],
   "source": [
    "from functools import partial\n",
    "\n",
    "def A5_B5(seg, b):\n",
    "    a = b + seg\n",
    "    return a ** 5 - b ** 5  \n",
    "\n",
    "def is_OK(n, seg, b):\n",
    "    return A5_B5(seg, b) <= n\n",
    "\n",
    "def binary_search(condition, min, max):\n",
    "    while max - min > 1:\n",
    "        mid = int((max + min) // 2)\n",
    "        if condition(mid):\n",
    "            min = mid\n",
    "        else:\n",
    "            max = mid\n",
    "    return min\n",
    "\n",
    "if __name__ == \"__main__\":\n",
    "    X = int(input())\n",
    "\n",
    "    for seg in range(1, int(X ** 0.5)+2):\n",
    "        res = binary_search(partial(is_OK, X, seg), -seg-1, X)\n",
    "        if A5_B5(seg, res) == X:\n",
    "            print(res+seg, res)\n",
    "            break"
   ]
  },
  {
   "cell_type": "code",
   "execution_count": 4,
   "metadata": {},
   "outputs": [
    {
     "name": "stdout",
     "output_type": "stream",
     "text": [
      "57 -51\n"
     ]
    }
   ],
   "source": [
    "from functools import partial\n",
    "\n",
    "def A5_B5(seg, b):\n",
    "    a = b + seg\n",
    "    return a ** 5 - b ** 5  \n",
    "\n",
    "def is_OK(n, seg, b):\n",
    "    return A5_B5(seg, b) <= n\n",
    "\n",
    "def binary_search(condition, min, max):\n",
    "    while max - min > 1:\n",
    "        mid = int((max + min) // 2)\n",
    "        if condition(mid):\n",
    "            min = mid\n",
    "        else:\n",
    "            max = mid\n",
    "    return min\n",
    "\n",
    "if __name__ == \"__main__\":\n",
    "    X = 962449399\n",
    "    seg = 108\n",
    "\n",
    "    res = binary_search(partial(is_OK, X, seg), -seg-1, X)\n",
    "    print(res+seg, res)\n"
   ]
  }
 ],
 "metadata": {
  "interpreter": {
   "hash": "31f2aee4e71d21fbe5cf8b01ff0e069b9275f58929596ceb00d14d90e3e16cd6"
  },
  "kernelspec": {
   "display_name": "Python 3.7.3 64-bit",
   "language": "python",
   "name": "python3"
  },
  "language_info": {
   "codemirror_mode": {
    "name": "ipython",
    "version": 3
   },
   "file_extension": ".py",
   "mimetype": "text/x-python",
   "name": "python",
   "nbconvert_exporter": "python",
   "pygments_lexer": "ipython3",
   "version": "3.9.0"
  },
  "orig_nbformat": 4
 },
 "nbformat": 4,
 "nbformat_minor": 2
}
