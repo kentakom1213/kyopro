{
 "cells": [
  {
   "cell_type": "markdown",
   "metadata": {},
   "source": [
    "# Dijkstra法"
   ]
  },
  {
   "cell_type": "code",
   "execution_count": 51,
   "metadata": {},
   "outputs": [],
   "source": [
    "in1 = \"\"\"6 8 0\n",
    "0 1 1\n",
    "0 3 6\n",
    "1 2 2\n",
    "1 3 4\n",
    "2 3 8\n",
    "2 4 3\n",
    "3 5 2\n",
    "4 5 1\"\"\""
   ]
  },
  {
   "cell_type": "code",
   "execution_count": 52,
   "metadata": {},
   "outputs": [
    {
     "data": {
      "text/plain": [
       "[[(1, 1), (6, 3)],\n",
       " [(1, 0), (2, 2), (4, 3)],\n",
       " [(2, 1), (8, 3), (3, 4)],\n",
       " [(6, 0), (4, 1), (8, 2), (2, 5)],\n",
       " [(3, 2), (1, 5)],\n",
       " [(2, 3), (1, 4)]]"
      ]
     },
     "execution_count": 52,
     "metadata": {},
     "output_type": "execute_result"
    }
   ],
   "source": [
    "in_split = in1.split(\"\\n\")\n",
    "\n",
    "N, M, s = map(int, in_split[0].split())\n",
    "G = [[] for _ in range(N)]\n",
    "for u_v_w in in_split[1:]:\n",
    "    u, v, w = map(int, u_v_w.split())\n",
    "    G[u].append((w, v))\n",
    "    G[v].append((w, u))\n",
    "\n",
    "G"
   ]
  },
  {
   "cell_type": "markdown",
   "metadata": {},
   "source": [
    "このグラフ\n",
    "\n",
    "<img src=\"./images/dijkstra_1.png\" width=\"500px\">"
   ]
  },
  {
   "cell_type": "markdown",
   "metadata": {},
   "source": [
    "## 実装"
   ]
  },
  {
   "cell_type": "code",
   "execution_count": 53,
   "metadata": {},
   "outputs": [],
   "source": [
    "from heapq import heapify, heappush, heappop\n",
    "INF = 1e10"
   ]
  },
  {
   "cell_type": "code",
   "execution_count": 54,
   "metadata": {},
   "outputs": [],
   "source": [
    "from heapq import heappop, heappush\n",
    "INF = 1e10\n",
    "\n",
    "def dijkstra(G, s):\n",
    "    N = len(G)\n",
    "    dist = [INF] * N\n",
    "    dist[s] = 0  # スタートの初期化\n",
    "\n",
    "    # ヒープ\n",
    "    q = [(0, s)]\n",
    "    \n",
    "    while q:\n",
    "        w_old, u = heappop(q)\n",
    "\n",
    "        if dist[u] < w_old:\n",
    "            continue\n",
    "\n",
    "        for w_new, v in G[u]:\n",
    "            if dist[v] > dist[u] + w_new:\n",
    "                dist[v] = dist[u] + w_new  # 緩和処理\n",
    "                heappush(q, (dist[v], v))\n",
    "    \n",
    "    return dist"
   ]
  },
  {
   "cell_type": "code",
   "execution_count": 55,
   "metadata": {},
   "outputs": [
    {
     "data": {
      "text/plain": [
       "[0, 1, 3, 5, 6, 7]"
      ]
     },
     "execution_count": 55,
     "metadata": {},
     "output_type": "execute_result"
    }
   ],
   "source": [
    "dijkstra(G, 0)"
   ]
  }
 ],
 "metadata": {
  "interpreter": {
   "hash": "2f394aca7ca06fed1e6064aef884364492d7cdda3614a461e02e6407fc40ba69"
  },
  "kernelspec": {
   "display_name": "Python 3.9.0 64-bit ('base': conda)",
   "language": "python",
   "name": "python3"
  },
  "language_info": {
   "codemirror_mode": {
    "name": "ipython",
    "version": 3
   },
   "file_extension": ".py",
   "mimetype": "text/x-python",
   "name": "python",
   "nbconvert_exporter": "python",
   "pygments_lexer": "ipython3",
   "version": "3.9.9"
  },
  "orig_nbformat": 4
 },
 "nbformat": 4,
 "nbformat_minor": 2
}
