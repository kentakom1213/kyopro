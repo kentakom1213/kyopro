{
 "cells": [
  {
   "cell_type": "markdown",
   "metadata": {},
   "source": [
    "# Dijkstra法"
   ]
  },
  {
   "cell_type": "code",
   "execution_count": 9,
   "metadata": {},
   "outputs": [],
   "source": [
    "N = 6\n",
    "M = 8\n",
    "G = [\n",
    "    [(1, 1), (3, 6)],\n",
    "    [(0, 1), (2, 2), (3, 4)],\n",
    "    [(1, 2), (3, 8), (4, 3)],\n",
    "    [(0, 6), (1, 4), (2, 3), (5, 2)],\n",
    "    [(2, 3), (5, 1)],\n",
    "    [(3, 2), (4, 1)],\n",
    "]"
   ]
  },
  {
   "cell_type": "code",
   "execution_count": 10,
   "metadata": {},
   "outputs": [
    {
     "name": "stdout",
     "output_type": "stream",
     "text": [
      "6 8\n",
      "0 1 1\n",
      "0 3 6\n",
      "1 2 2\n",
      "1 3 4\n",
      "2 3 8\n",
      "2 4 3\n",
      "3 5 2\n",
      "4 5 1\n"
     ]
    }
   ],
   "source": [
    "print(N, M)\n",
    "edge = set()\n",
    "for i, edges in enumerate(G):\n",
    "    for j, v in edges:\n",
    "        a, b = (i, j) if i < j else (j, i)\n",
    "        if (a, b) not in edge:\n",
    "            print(i, j, v)\n",
    "        edge.add((a, b))"
   ]
  },
  {
   "cell_type": "markdown",
   "metadata": {},
   "source": [
    "このグラフ\n",
    "\n",
    "![重み付き無向グラフ](./images/dijkstra_1.png)"
   ]
  }
 ],
 "metadata": {
  "interpreter": {
   "hash": "2f394aca7ca06fed1e6064aef884364492d7cdda3614a461e02e6407fc40ba69"
  },
  "kernelspec": {
   "display_name": "Python 3.9.0 64-bit ('base': conda)",
   "language": "python",
   "name": "python3"
  },
  "language_info": {
   "codemirror_mode": {
    "name": "ipython",
    "version": 3
   },
   "file_extension": ".py",
   "mimetype": "text/x-python",
   "name": "python",
   "nbconvert_exporter": "python",
   "pygments_lexer": "ipython3",
   "version": "3.9.9"
  },
  "orig_nbformat": 4
 },
 "nbformat": 4,
 "nbformat_minor": 2
}
