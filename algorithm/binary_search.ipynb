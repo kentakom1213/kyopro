{
 "cells": [
  {
   "cell_type": "markdown",
   "source": [
    "# 二分探索の実装\n",
    "\n",
    "## 仕様\n",
    "`condition(x) = True`を満たす最大の`x`を `min <= x < max` の範囲で探索する。\n",
    "\n",
    "引数\n",
    "```\n",
    "引数       型        意味\n",
    "---------------------------\n",
    "condition  callable  :引数xが条件を満たす場合True、満たさない場合Falseを返す関数\n",
    "min        int       :探索する範囲の最小値\n",
    "max        int       :探索しない範囲の最小値\n",
    "```\n",
    "<!-- | search_min = `False` | `bool` | conditionをみたす最小値を検索するかどうか | -->\n",
    "\n",
    "戻り値\n",
    "```\n",
    "型    戻り値\n",
    "---------------------------\n",
    "int   condition(x) = Trueを満たす最大のx、満たすxが存在しない場合min\n",
    "```\n",
    "<!-- | 状態 | 型 | 戻り値 |\n",
    "| :-: | :-: | :-: |\n",
    "| search_min = `False` | `int` | `condition(x) = True`を満たす最大の`x`\n",
    "| search_min = `True` | `int` | `condition(x) = True`を満たす最小の`x` | -->\n"
   ],
   "metadata": {}
  },
  {
   "cell_type": "code",
   "execution_count": 1,
   "source": [
    "def binary_search(condition, min, max):\n",
    "    while max - min > 1:\n",
    "        mid = int((max + min) // 2)\n",
    "        if condition(mid):\n",
    "            min = mid\n",
    "        else:\n",
    "            max = mid\n",
    "    return min"
   ],
   "outputs": [],
   "metadata": {}
  },
  {
   "cell_type": "code",
   "execution_count": 2,
   "source": [
    "def binary_search_db(condition, min, max):\n",
    "    while max - min > 1:\n",
    "        mid = int((max + min) // 2)\n",
    "        print(min, mid, max)\n",
    "        if condition(mid):\n",
    "            min = mid\n",
    "        else:\n",
    "            max = mid  # mid - 1\n",
    "    return min"
   ],
   "outputs": [],
   "metadata": {}
  },
  {
   "cell_type": "code",
   "execution_count": 3,
   "source": [
    "binary_search_db(lambda x: 2**20 < 1000, 0, 1000)"
   ],
   "outputs": [
    {
     "output_type": "stream",
     "name": "stdout",
     "text": [
      "0 500 1000\n",
      "0 250 500\n",
      "0 125 250\n",
      "0 62 125\n",
      "0 31 62\n",
      "0 15 31\n",
      "0 7 15\n",
      "0 3 7\n",
      "0 1 3\n"
     ]
    },
    {
     "output_type": "execute_result",
     "data": {
      "text/plain": [
       "0"
      ]
     },
     "metadata": {},
     "execution_count": 3
    }
   ],
   "metadata": {}
  },
  {
   "cell_type": "code",
   "execution_count": 4,
   "source": [
    "binary_search_db(lambda x: x**20 < 1e10, 0, 1e5)"
   ],
   "outputs": [
    {
     "output_type": "stream",
     "name": "stdout",
     "text": [
      "0 50000 100000.0\n",
      "0 25000 50000\n",
      "0 12500 25000\n",
      "0 6250 12500\n",
      "0 3125 6250\n",
      "0 1562 3125\n",
      "0 781 1562\n",
      "0 390 781\n",
      "0 195 390\n",
      "0 97 195\n",
      "0 48 97\n",
      "0 24 48\n",
      "0 12 24\n",
      "0 6 12\n",
      "0 3 6\n",
      "3 4 6\n"
     ]
    },
    {
     "output_type": "execute_result",
     "data": {
      "text/plain": [
       "3"
      ]
     },
     "metadata": {},
     "execution_count": 4
    }
   ],
   "metadata": {}
  },
  {
   "cell_type": "code",
   "execution_count": 5,
   "source": [
    "print(3 ** 20 < 1e10)\n",
    "print(4 ** 20 < 1e10)"
   ],
   "outputs": [
    {
     "output_type": "stream",
     "name": "stdout",
     "text": [
      "True\n",
      "False\n"
     ]
    }
   ],
   "metadata": {}
  },
  {
   "cell_type": "code",
   "execution_count": 6,
   "source": [
    "for b in range(2, 9):\n",
    "    max_a = binary_search(lambda x: x**b < 8, 1, 1e5)\n",
    "    print(max_a)"
   ],
   "outputs": [
    {
     "output_type": "stream",
     "name": "stdout",
     "text": [
      "2\n",
      "1\n",
      "1\n",
      "1\n",
      "1\n",
      "1\n",
      "1\n"
     ]
    }
   ],
   "metadata": {}
  },
  {
   "cell_type": "code",
   "execution_count": 7,
   "source": [
    "5//2"
   ],
   "outputs": [
    {
     "output_type": "execute_result",
     "data": {
      "text/plain": [
       "2"
      ]
     },
     "metadata": {},
     "execution_count": 7
    }
   ],
   "metadata": {}
  },
  {
   "cell_type": "code",
   "execution_count": 8,
   "source": [
    "def binary_search_db(condition, min, max):\n",
    "    while max - min > 1:\n",
    "        mid = int((max + min) // 2)\n",
    "        print(min, mid, max)\n",
    "        if condition(mid):\n",
    "            min = mid\n",
    "        else:\n",
    "            max = mid  # mid - 1\n",
    "    return min\n",
    "\n",
    "N = 8\n",
    "b = 3\n",
    "\n",
    "binary_search_db(lambda x: x**b <= N, 1, 1e5)"
   ],
   "outputs": [
    {
     "output_type": "stream",
     "name": "stdout",
     "text": [
      "1 50000 100000.0\n",
      "1 25000 50000\n",
      "1 12500 25000\n",
      "1 6250 12500\n",
      "1 3125 6250\n",
      "1 1563 3125\n",
      "1 782 1563\n",
      "1 391 782\n",
      "1 196 391\n",
      "1 98 196\n",
      "1 49 98\n",
      "1 25 49\n",
      "1 13 25\n",
      "1 7 13\n",
      "1 4 7\n",
      "1 2 4\n",
      "2 3 4\n"
     ]
    },
    {
     "output_type": "execute_result",
     "data": {
      "text/plain": [
       "2"
      ]
     },
     "metadata": {},
     "execution_count": 8
    }
   ],
   "metadata": {}
  },
  {
   "cell_type": "code",
   "execution_count": 9,
   "source": [
    "binary_search_db(lambda x: False, 1, 100)"
   ],
   "outputs": [
    {
     "output_type": "stream",
     "name": "stdout",
     "text": [
      "1 50 100\n",
      "1 25 50\n",
      "1 13 25\n",
      "1 7 13\n",
      "1 4 7\n",
      "1 2 4\n"
     ]
    },
    {
     "output_type": "execute_result",
     "data": {
      "text/plain": [
       "1"
      ]
     },
     "metadata": {},
     "execution_count": 9
    }
   ],
   "metadata": {}
  }
 ],
 "metadata": {
  "orig_nbformat": 4,
  "language_info": {
   "name": "python",
   "version": "3.9.6",
   "mimetype": "text/x-python",
   "codemirror_mode": {
    "name": "ipython",
    "version": 3
   },
   "pygments_lexer": "ipython3",
   "nbconvert_exporter": "python",
   "file_extension": ".py"
  },
  "kernelspec": {
   "name": "python3",
   "display_name": "Python 3.9.6 64-bit ('.kyopuro': venv)"
  },
  "interpreter": {
   "hash": "8da7d83cc153f31c71ae5eea46d38b0b8f8ef3a488da9342d55dcc8298fdc97d"
  }
 },
 "nbformat": 4,
 "nbformat_minor": 2
}