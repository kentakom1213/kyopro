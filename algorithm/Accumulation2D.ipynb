{
 "cells": [
  {
   "cell_type": "markdown",
   "metadata": {},
   "source": [
    "# 二次元累積和"
   ]
  },
  {
   "cell_type": "code",
   "execution_count": 12,
   "metadata": {},
   "outputs": [],
   "source": [
    "H, W = 4, 3\n",
    "\n",
    "arr = [\n",
    "    [1, 1, 1],\n",
    "    [1, 1, 1],\n",
    "    [1, 1, 1],\n",
    "    [1, 1, 1]\n",
    "]"
   ]
  },
  {
   "cell_type": "markdown",
   "metadata": {},
   "source": [
    "## 前計算"
   ]
  },
  {
   "cell_type": "code",
   "execution_count": 19,
   "metadata": {},
   "outputs": [
    {
     "name": "stdout",
     "output_type": "stream",
     "text": [
      "[0, 0, 0, 0]\n",
      "[0, 1, 2, 3]\n",
      "[0, 2, 4, 6]\n",
      "[0, 3, 6, 9]\n",
      "[0, 4, 8, 12]\n"
     ]
    }
   ],
   "source": [
    "S = [[0]*(W+1) for _ in range(H+1)]\n",
    "\n",
    "for i in range(H):\n",
    "    for j in range(W):\n",
    "        S[i+1][j+1] = S[i][j+1] + S[i+1][j] - S[i][j] + arr[i][j]\n",
    "\n",
    "print(*S, sep=\"\\n\")"
   ]
  },
  {
   "cell_type": "markdown",
   "metadata": {},
   "source": [
    "## クエリの処理\n",
    "\n",
    "↓ (1)\n",
    "\n",
    "```\n",
    "\\ 1 2 3\n",
    "1 _ _ _\n",
    "2 _ x x\n",
    "3 _ x x\n",
    "4 _ _ _\n",
    "```\n",
    "\n",
    "↓ (2)\n",
    "\n",
    "```\n",
    "\\ 1 2 3\n",
    "1 x x x\n",
    "2 x x x\n",
    "3 x x x\n",
    "4 _ _ _\n",
    "```\n",
    "\n",
    "↓ (3)\n",
    "\n",
    "```\n",
    "\\ 1 2 3\n",
    "1 x x x\n",
    "2 _ _ _\n",
    "3 _ _ _\n",
    "4 _ _ _\n",
    "```\n",
    "\n",
    "↓ (4)\n",
    "\n",
    "```\n",
    "\\ 1 2 3\n",
    "1 x _ _\n",
    "2 x _ _\n",
    "3 x _ _\n",
    "4 _ _ _\n",
    "```\n",
    "\n",
    "↓ (5)\n",
    "\n",
    "```\n",
    "\\ 1 2 3\n",
    "1 x _ _\n",
    "2 _ _ _\n",
    "3 _ _ _\n",
    "4 _ _ _\n",
    "```\n",
    "\n",
    "### 求め方\n",
    "(1) = (2) - (3) - (4) + (5)\n",
    "\n",
    "であることを利用する。"
   ]
  },
  {
   "cell_type": "code",
   "execution_count": 21,
   "metadata": {},
   "outputs": [
    {
     "name": "stdout",
     "output_type": "stream",
     "text": [
      "4\n"
     ]
    }
   ],
   "source": [
    "# arr[1:3][1:3] のsumを求める。\n",
    "\n",
    "# 答えは\n",
    "#\n",
    "# 0 0 0\n",
    "# 0 1 1\n",
    "# 0 1 1\n",
    "# 0 0 0\n",
    "# \n",
    "# → 4\n",
    "\n",
    "s = S[3][3] - S[3][1] - S[1][3] + S[1][1]\n",
    "print(s)"
   ]
  },
  {
   "cell_type": "markdown",
   "metadata": {},
   "source": [
    "## ライブラリ化\n",
    "\n",
    "クロージャで書こう！"
   ]
  },
  {
   "cell_type": "code",
   "execution_count": 22,
   "metadata": {},
   "outputs": [],
   "source": [
    "def Acc2D(arr):\n",
    "    \"\"\"\n",
    "    二次元累積和\n",
    "    \"\"\"\n",
    "    H, W = len(arr), len(arr[0])  # 配列の横、縦\n",
    "    S = [[0]*(W+1) for _ in range(H+1)]  # 累積和配列\n",
    "    for i in range(H):\n",
    "        for j in range(W):\n",
    "            S[i+1][j+1] = S[i][j+1] + S[i+1][j] - S[i][j] + arr[i][j]\n",
    "    \n",
    "    def get(row_l, row_r, col_l, col_r):\n",
    "        \"\"\"\n",
    "        `arr[row_l:row_r, col_l:col_r]`の要素の和を返す\n",
    "        \"\"\"\n",
    "        return S[row_r][col_r] - S[row_r][col_l] - S[row_l][col_r] + S[row_l][col_l]\n",
    "    \n",
    "    return get"
   ]
  },
  {
   "cell_type": "code",
   "execution_count": 28,
   "metadata": {},
   "outputs": [],
   "source": [
    "get = Acc2D(arr)"
   ]
  },
  {
   "cell_type": "code",
   "execution_count": 29,
   "metadata": {},
   "outputs": [
    {
     "data": {
      "text/plain": [
       "4"
      ]
     },
     "execution_count": 29,
     "metadata": {},
     "output_type": "execute_result"
    }
   ],
   "source": [
    "get(1, 3, 1, 3)"
   ]
  }
 ],
 "metadata": {
  "kernelspec": {
   "display_name": "Python 3.9.7 ('base')",
   "language": "python",
   "name": "python3"
  },
  "language_info": {
   "codemirror_mode": {
    "name": "ipython",
    "version": 3
   },
   "file_extension": ".py",
   "mimetype": "text/x-python",
   "name": "python",
   "nbconvert_exporter": "python",
   "pygments_lexer": "ipython3",
   "version": "3.9.7"
  },
  "orig_nbformat": 4,
  "vscode": {
   "interpreter": {
    "hash": "2f394aca7ca06fed1e6064aef884364492d7cdda3614a461e02e6407fc40ba69"
   }
  }
 },
 "nbformat": 4,
 "nbformat_minor": 2
}
