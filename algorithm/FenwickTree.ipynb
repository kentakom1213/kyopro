{
 "cells": [
  {
   "cell_type": "markdown",
   "metadata": {},
   "source": [
    "# Fewnick Tree\n",
    "- BinaryIndexedTree(BIT) とも呼ばれる\n",
    "\n",
    "#### 参考\n",
    "- [BinaryIndexedTree - 北海道大学競技プログラミングサークル](https://www.slideshare.net/hcpc_hokudai/binary-indexed-tree)\n",
    "- [Binary Indexed Tree（Fenwick Tree） - いかたこのたこつぼ](https://ikatakos.com/pot/programming_algorithm/data_structure/binary_indexed_tree)"
   ]
  },
  {
   "cell_type": "markdown",
   "metadata": {},
   "source": [
    "## BITの実装\n",
    "\n",
    "構造\n",
    "\n",
    "```\n",
    "|---------------------------------------|\n",
    "|-------------------|                   |\n",
    "|---------|         |---------|         |\n",
    "|----|    |----|    |----|    |----|    |\n",
    "|  1 |  2 |  3 |  4 |  5 |  6 |  7 |  8 |\n",
    "|0001|0010|0011|0100|0101|0110|0111|1000|\n",
    "```\n",
    "\n",
    "#### 区間和を求める\n",
    "\n",
    "$\\rightarrow$ 0 になるまでLSBを減算しながら足す\n",
    "\n",
    "##### 例)\n",
    "\n",
    "- 配列 $a = [5, 3, 7, 9, 6, 4, 1, 2]$\n",
    "- クエリ: $\\sum_{i=1}^{7} a_i$\n",
    "\n",
    "```\n",
    "|               37              |\n",
    "|       24      |               |\n",
    "|   8   |       |   10  |       |\n",
    "| 5 |(3)| 7 |(9)| 6 |(4)| 1 |(2)|\n",
    "```\n",
    "\n",
    "- $a_1 + a_2 + \\dots + a_7$\n",
    "\n",
    "| i | 2進表示 | 合計 |\n",
    "| - | - | - |\n",
    "| 7 | 0111 | 1 (0 + 1) |\n",
    "| 6 | 0110 | 11 (1 + 10) |\n",
    "| 4 | 0100 | 35 (11 + 24) |\n",
    "| 0 | 0000 | 35 |\n",
    "\n",
    "\n",
    "#### 要素の更新\n",
    "$a_i$ に $x$ を足す\n",
    "\n",
    "$\\rightarrow$ $i$ にLSBを加算しながら更新\n",
    "\n",
    "##### 例)\n",
    "\n",
    "- 配列 $a = [5, 3, 7, 9, 6, 4, 1, 2]$\n",
    "- クエリ: $a_5$ に $2$ を足す\n",
    "\n",
    "| i | 2進表示 |\n",
    "| - | - |\n",
    "| 5 | 0101 |\n",
    "| 6 | 0110 |\n",
    "| 8 | 1000 |\n",
    "\n",
    "```\n",
    "|           37 → 39             |\n",
    "|       24      |               |\n",
    "|   8   |       | 10→12 |       |\n",
    "| 5 |(3)| 7 |(9)|6→8|(4)| 1 |(2)|\n",
    "```\n"
   ]
  },
  {
   "cell_type": "markdown",
   "metadata": {},
   "source": [
    "## 最下位ビット (LSB; Least Significant Bit)\n",
    "\n",
    "2進数で表したとき、もっとも小さい位をあらわすbit\n",
    "- $01111100010$ のLSBは2\n",
    "\n",
    "### 求め方\n",
    "2の補数表現を利用すると、\n",
    "\n",
    "```\n",
    "-i <- ~i + 1\n",
    "```\n",
    "\n",
    "と表される。(~はbit反転)\n",
    "\n",
    "このとき、最下位ビットは\n",
    "\n",
    "```\n",
    "i & -i\n",
    "```\n",
    "\n",
    "として求められる。"
   ]
  },
  {
   "cell_type": "code",
   "execution_count": 1,
   "metadata": {},
   "outputs": [],
   "source": [
    "# BIT\n",
    "class BIT:\n",
    "    def __init__(self, n):\n",
    "        self.size = n\n",
    "        self.arr = [0] * (n + 1)\n",
    "    \n",
    "    def sum(self, i):\n",
    "        s = 0\n",
    "        while i:\n",
    "            s += self.arr[i]\n",
    "            i -= i & -i\n",
    "        return s\n",
    "    \n",
    "    def add(self, i, x):\n",
    "        while i <= self.size:\n",
    "            self.arr[i] += x\n",
    "            i += i & -i"
   ]
  },
  {
   "cell_type": "markdown",
   "metadata": {},
   "source": [
    "### クエリ\n",
    "\n",
    "```\n",
    "8 10\n",
    "add 1 5\n",
    "add 2 3\n",
    "add 3 7\n",
    "add 4 9\n",
    "add 5 6\n",
    "add 6 4\n",
    "add 7 1\n",
    "add 8 2\n",
    "sum 7\n",
    "add 5 2\n",
    "sum 8\n",
    "```"
   ]
  },
  {
   "cell_type": "code",
   "execution_count": 2,
   "metadata": {},
   "outputs": [
    {
     "name": "stdout",
     "output_type": "stream",
     "text": [
      "[0, 5, 8, 7, 24, 6, 10, 1, 37]\n",
      "35\n",
      "39\n"
     ]
    }
   ],
   "source": [
    "# solve\n",
    "\n",
    "bit = BIT(8)\n",
    "\n",
    "bit.add(1, 5)\n",
    "bit.add(2, 3)\n",
    "bit.add(3, 7)\n",
    "bit.add(4, 9)\n",
    "bit.add(5, 6)\n",
    "bit.add(6, 4)\n",
    "bit.add(7, 1)\n",
    "bit.add(8, 2)\n",
    "\n",
    "print(bit.arr)\n",
    "\n",
    "print(bit.sum(7))\n",
    "\n",
    "bit.add(5, 2)\n",
    "\n",
    "print(bit.sum(8))"
   ]
  },
  {
   "cell_type": "markdown",
   "metadata": {},
   "source": [
    "### 区間の和を求める\n",
    "\n",
    "- 累積和みたいに処理\n"
   ]
  },
  {
   "cell_type": "code",
   "execution_count": 3,
   "metadata": {},
   "outputs": [],
   "source": [
    "# BIT\n",
    "class BIT:\n",
    "    def __init__(self, n):\n",
    "        self.size = n\n",
    "        self.arr = [0] * (n + 1)\n",
    "    \n",
    "    def sum_1(self, i):\n",
    "        s = 0\n",
    "        while i:\n",
    "            s += self.arr[i]\n",
    "            i -= i & -i\n",
    "        return s\n",
    "    \n",
    "    def sum(self, i, j):\n",
    "        \"\"\"[i, j) の和を求める\"\"\"\n",
    "        return self.sum_1(j-1) - self.sum_1(i-1)\n",
    "    \n",
    "    def add(self, i, x):\n",
    "        while i <= self.size:\n",
    "            self.arr[i] += x\n",
    "            i += i & -i"
   ]
  },
  {
   "cell_type": "code",
   "execution_count": 4,
   "metadata": {},
   "outputs": [
    {
     "name": "stdout",
     "output_type": "stream",
     "text": [
      "5\n",
      "20\n",
      "0\n"
     ]
    }
   ],
   "source": [
    "# solve\n",
    "\n",
    "bit = BIT(8)\n",
    "\n",
    "bit.add(1, 5)\n",
    "bit.add(2, 3)\n",
    "bit.add(3, 7)\n",
    "bit.add(4, 9)\n",
    "bit.add(5, 6)\n",
    "bit.add(6, 4)\n",
    "bit.add(7, 1)\n",
    "bit.add(8, 2)\n",
    "\n",
    "print(bit.sum(1, 2))\n",
    "print(bit.sum(4, 8))\n",
    "print(bit.sum(1, 1))\n"
   ]
  }
 ],
 "metadata": {
  "kernelspec": {
   "display_name": "Python 3.9.7 ('base')",
   "language": "python",
   "name": "python3"
  },
  "language_info": {
   "codemirror_mode": {
    "name": "ipython",
    "version": 3
   },
   "file_extension": ".py",
   "mimetype": "text/x-python",
   "name": "python",
   "nbconvert_exporter": "python",
   "pygments_lexer": "ipython3",
   "version": "3.9.7"
  },
  "orig_nbformat": 4,
  "vscode": {
   "interpreter": {
    "hash": "2f394aca7ca06fed1e6064aef884364492d7cdda3614a461e02e6407fc40ba69"
   }
  }
 },
 "nbformat": 4,
 "nbformat_minor": 2
}
