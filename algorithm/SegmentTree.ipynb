{
 "cells": [
  {
   "cell_type": "markdown",
   "metadata": {},
   "source": [
    "# セグメント木\n",
    "### 参考\n",
    "- [【木マスター養成講座】4-2. Segment木ってなに〜？なんかうまく区間取ってくる編【競プロかつっぱ】](https://www.youtube.com/watch?v=ReGvflPU81c&list=PL3Hpv03CoZ24p5a6qT0LsFKEhiDWxf_B_&index=4)\n",
    "\n",
    "## RangeSumQuery\n",
    "### 方針\n",
    "- 区間を完全2分木で管理する\n",
    "\n",
    "```\n",
    "|               27              |\n",
    "|       11      |       16      |\n",
    "|   6   |   5   |   11  |   5   |\n",
    "| 1 | 5 | 2 | 3 | 2 | 9 | 5 | 0 |\n",
    "```\n",
    "↓\n",
    "```python\n",
    "[27, 11, 16, 6, 5, 11, 5, 1, 5, 2, 3, 2, 9, 5, 0]\n",
    "```\n",
    "\n",
    "- インデックスを割り当てる\n",
    "```\n",
    " |               27              |\n",
    "[1]                             [2]\n",
    " |       11      |       16      |\n",
    "[2]             [3]             [4]\n",
    " |   6   |   5   |   11  |   5   |\n",
    "[4]     [5]     [6]     [7]     [8]\n",
    " | 1 | 5 | 2 | 3 | 2 | 9 | 5 | 0 |\n",
    "[8] [9] [10][11][12][13][14][15][16]\n",
    "```\n",
    "\n",
    "- 総和を取得する流れ\n",
    "1. lについて、lが偶数なら上に(2で割る)、奇数なら右へ\n",
    "2. rについて、rが偶数なら上に(2で割る)、奇数なら左へ"
   ]
  },
  {
   "cell_type": "code",
   "execution_count": 78,
   "metadata": {},
   "outputs": [],
   "source": [
    "class SegTree:\n",
    "    def __init__(self, n, arr=None):\n",
    "        self.seg_len = self.get_seglen(n)\n",
    "        self.arr = [0] * self.seg_len * 2\n",
    "        \n",
    "        if arr:\n",
    "            for i, v in enumerate(arr):\n",
    "                self.add(i, v)  \n",
    "\n",
    "    def add(self, i, val):\n",
    "        i += self.seg_len\n",
    "        self.arr[i] += val\n",
    "        while True:\n",
    "            i >>= 1\n",
    "            if i == 0:\n",
    "                break\n",
    "            self.arr[i] = self.arr[i*2] + self.arr[i*2+1]\n",
    "\n",
    "    def sum(self, l, r):\n",
    "        l += self.seg_len\n",
    "        r += self.seg_len\n",
    "        ans = 0\n",
    "        while l < r:\n",
    "            if l & 1:\n",
    "                ans += self.arr[l]\n",
    "                l += 1\n",
    "            l >>= 1\n",
    "            if r & 1:\n",
    "                ans += self.arr[r-1]\n",
    "                r -= 1\n",
    "            r >>= 1\n",
    "        return ans\n",
    "\n",
    "    @staticmethod\n",
    "    def get_seglen(n):\n",
    "        log2_n = 0\n",
    "        while n:\n",
    "            log2_n += 1\n",
    "            n >>= 1\n",
    "        return 1 << log2_n"
   ]
  },
  {
   "cell_type": "code",
   "execution_count": 79,
   "metadata": {},
   "outputs": [
    {
     "data": {
      "text/plain": [
       "[0, 27, 11, 16, 6, 5, 11, 5, 1, 5, 2, 3, 2, 9, 5, 0]"
      ]
     },
     "execution_count": 79,
     "metadata": {},
     "output_type": "execute_result"
    }
   ],
   "source": [
    "st = SegTree(7, arr=[1, 5, 2, 3, 2, 9, 5])\n",
    "\n",
    "st.arr"
   ]
  },
  {
   "cell_type": "code",
   "execution_count": 80,
   "metadata": {},
   "outputs": [
    {
     "data": {
      "text/plain": [
       "16"
      ]
     },
     "execution_count": 80,
     "metadata": {},
     "output_type": "execute_result"
    }
   ],
   "source": [
    "st.sum(2, 6)"
   ]
  },
  {
   "cell_type": "code",
   "execution_count": 81,
   "metadata": {},
   "outputs": [
    {
     "data": {
      "text/plain": [
       "[0, 127, 11, 116, 6, 5, 111, 5, 1, 5, 2, 3, 2, 109, 5, 0]"
      ]
     },
     "execution_count": 81,
     "metadata": {},
     "output_type": "execute_result"
    }
   ],
   "source": [
    "st.add(5, 100)\n",
    "st.arr"
   ]
  },
  {
   "cell_type": "code",
   "execution_count": 82,
   "metadata": {},
   "outputs": [
    {
     "data": {
      "text/plain": [
       "119"
      ]
     },
     "execution_count": 82,
     "metadata": {},
     "output_type": "execute_result"
    }
   ],
   "source": [
    "st.sum(3, 8)"
   ]
  }
 ],
 "metadata": {
  "interpreter": {
   "hash": "2f394aca7ca06fed1e6064aef884364492d7cdda3614a461e02e6407fc40ba69"
  },
  "kernelspec": {
   "display_name": "Python 3.9.9 ('base')",
   "language": "python",
   "name": "python3"
  },
  "language_info": {
   "codemirror_mode": {
    "name": "ipython",
    "version": 3
   },
   "file_extension": ".py",
   "mimetype": "text/x-python",
   "name": "python",
   "nbconvert_exporter": "python",
   "pygments_lexer": "ipython3",
   "version": "3.9.9"
  },
  "orig_nbformat": 4
 },
 "nbformat": 4,
 "nbformat_minor": 2
}
