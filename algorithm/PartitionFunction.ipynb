{
 "cells": [
  {
   "cell_type": "markdown",
   "metadata": {},
   "source": [
    "# 分割数\n",
    "\n",
    "- 参考：[分割数と、問題まとめ](https://drken1215.hatenablog.com/entry/2018/01/16/222843)\n",
    "\n",
    "> ### 分割数とは\n",
    "> 自然数を $0$ 以上の整数に分割する場合の数  \n",
    "> $P(n, k)$ で表す\n",
    "\n",
    "### パターン\n",
    "- 「$k$ 個の $1$ 以上の整数への分割」→ $P(n-k, k)$ 通り\n",
    "- 「任意の個数の $1$ 以上の整数への分割」→ $P(n, n)$ 通り\n",
    "\n",
    "### 漸化式\n",
    "$$\n",
    "P(n, k) = P(n, k-1) + P(n-k, k)\n",
    "$$\n",
    "\n",
    "### 計算量\n",
    "- $P(n, k) \\rightarrow O(nk)$\n",
    "- $P(n, n) \\rightarrow O(n\\sqrt(n))$"
   ]
  },
  {
   "cell_type": "markdown",
   "metadata": {},
   "source": [
    "## 漸化式の導出\n",
    "### 考察\n",
    "$Q(n, k)$  \n",
    "$\\rightarrow$ ($n$を$k$個の$1$以上の整数に分割する場合の数)  \n",
    "$\\rightarrow$ ($n - k$を$k$個の$0$以上の整数に分割する場合の数)  \n",
    "$\\rightarrow$ $P(n-k, k)$\n",
    "\n",
    "### 漸化式\n",
    "1. $0$を含むもの  \n",
    "    $1$つの$0$を取り除き、残りの$k-1$個を$0$以上の和で表す方法をを調べれば良い→ $P(n, k-1)$通り\n",
    "2. $0$を含まないもの  \n",
    "    $n$を$1$以上の整数$k$個に分割する場合の数→ $P(n-k, k)$通り\n",
    "\n",
    "$$\n",
    "P(n, k) = P(n, k-1) + P(n-k, k)\n",
    "$$"
   ]
  },
  {
   "cell_type": "code",
   "execution_count": 1,
   "metadata": {},
   "outputs": [],
   "source": [
    "def init_array(i, j, val=0): return [[val]*j for _ in range(i)]"
   ]
  },
  {
   "cell_type": "code",
   "execution_count": 17,
   "metadata": {},
   "outputs": [
    {
     "name": "stdout",
     "output_type": "stream",
     "text": [
      "5\n"
     ]
    }
   ],
   "source": [
    "# 分割数を求めるアルゴリズム\n",
    "N, M = 5, 3\n",
    "dp = init_array(M+1, N+1, 0)\n",
    "dp[0][0] = 1\n",
    "\n",
    "for i in range(1, M+1):\n",
    "    for j in range(N+1):\n",
    "        if i <= j:\n",
    "            dp[i][j] = dp[i-1][j] + dp[i][j-i]\n",
    "        else:\n",
    "            dp[i][j] = dp[i-1][j]\n",
    "\n",
    "print(dp[M][N])\n",
    "\n",
    "# ---- out -----\n",
    "# 5\n",
    "# 5 = 5+0+0\n",
    "#   = 4+1+0\n",
    "#   = 3+2+0\n",
    "#   = 3+1+1\n",
    "#   = 2+2+1"
   ]
  },
  {
   "cell_type": "code",
   "execution_count": 16,
   "metadata": {},
   "outputs": [
    {
     "name": "stdout",
     "output_type": "stream",
     "text": [
      "[1, 1, 1, 1]\n",
      "[0, 1, 1, 1]\n",
      "[0, 1, 2, 2]\n",
      "[0, 1, 2, 3]\n",
      "[0, 1, 3, 4]\n",
      "[0, 1, 3, 5]\n",
      "5\n"
     ]
    }
   ],
   "source": [
    "N, K = 5, 3\n",
    "dp = init_array(N+1, K+1, 0)\n",
    "dp[0][0] = 1\n",
    "\n",
    "for n in range(N+1):\n",
    "    for k in range(1, K+1):\n",
    "        if n - k >= 0:\n",
    "            dp[n][k] = dp[n][k-1] + dp[n-k][k]\n",
    "        else:\n",
    "            dp[n][k] = dp[n][k-1]\n",
    "\n",
    "print(*dp, sep=\"\\n\")\n",
    "print(dp[N][K])"
   ]
  }
 ],
 "metadata": {
  "interpreter": {
   "hash": "31f2aee4e71d21fbe5cf8b01ff0e069b9275f58929596ceb00d14d90e3e16cd6"
  },
  "kernelspec": {
   "display_name": "Python 3.8.2 64-bit",
   "language": "python",
   "name": "python3"
  },
  "language_info": {
   "codemirror_mode": {
    "name": "ipython",
    "version": 3
   },
   "file_extension": ".py",
   "mimetype": "text/x-python",
   "name": "python",
   "nbconvert_exporter": "python",
   "pygments_lexer": "ipython3",
   "version": "3.9.7"
  },
  "orig_nbformat": 4
 },
 "nbformat": 4,
 "nbformat_minor": 2
}
