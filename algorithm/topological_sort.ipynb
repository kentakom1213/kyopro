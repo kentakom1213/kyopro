{
 "cells": [
  {
   "cell_type": "markdown",
   "metadata": {},
   "source": [
    "# トポロジカルなソート\n",
    "\n",
    "有向非巡回グラフ(`DirectedAcyclicGraph/DAG`)に関して定義されるソート\n",
    "\n",
    "### 参考\n",
    "- [有向非巡回グラフ（DAG）とトポロジカルソート](https://qiita.com/maebaru/items/5b6cb981777624ab843c#:~:text=%E6%9C%89%E5%90%91%E9%9D%9E%E5%B7%A1%E5%9B%9E%E3%82%B0%E3%83%A9%E3%83%95%EF%BC%88Directed%20Acyclic%20Graph%3A%20DAG%EF%BC%89,%E3%81%AE%E3%81%AB%E6%9C%89%E5%8A%B9%E3%81%A7%E3%81%82%E3%82%8B%E3%80%82)\n",
    "- [Wikipedia](https://ja.wikipedia.org/wiki/%E3%83%88%E3%83%9D%E3%83%AD%E3%82%B8%E3%82%AB%E3%83%AB%E3%82%BD%E3%83%BC%E3%83%88#:~:text=%E3%83%88%E3%83%9D%E3%83%AD%E3%82%B8%E3%82%AB%E3%83%AB%E3%82%BD%E3%83%BC%E3%83%88%EF%BC%88%E8%8B%B1%3A%20topological%20sort,%E3%82%BD%E3%83%BC%E3%83%88%E3%81%99%E3%82%8B%E3%81%93%E3%81%A8%E3%81%8C%E3%81%A7%E3%81%8D%E3%82%8B%E3%80%82)"
   ]
  },
  {
   "cell_type": "code",
   "execution_count": 1,
   "metadata": {},
   "outputs": [],
   "source": [
    "from graphviz import Digraph"
   ]
  },
  {
   "cell_type": "code",
   "execution_count": 2,
   "metadata": {},
   "outputs": [],
   "source": [
    "dag1 = [\n",
    "    [1, 2],\n",
    "    [3, 4, 5],\n",
    "    [5],\n",
    "    [6],\n",
    "    [5],\n",
    "    [],\n",
    "    [2]\n",
    "]"
   ]
  },
  {
   "cell_type": "code",
   "execution_count": 3,
   "metadata": {},
   "outputs": [
    {
     "data": {
      "text/plain": [
       "'images/topological.png'"
      ]
     },
     "execution_count": 3,
     "metadata": {},
     "output_type": "execute_result"
    }
   ],
   "source": [
    "# 可視化してみる\n",
    "dg = Digraph(format=\"png\")\n",
    "\n",
    "for i, n in enumerate(dag1):\n",
    "    dg.node(str(i))\n",
    "\n",
    "for i, vs in enumerate(dag1):\n",
    "    for j in vs:\n",
    "        dg.edge(str(i), str(j))\n",
    "\n",
    "dg.render(\"./images/topological\")"
   ]
  },
  {
   "cell_type": "markdown",
   "metadata": {},
   "source": [
    "![topological](./images/topological.png)"
   ]
  },
  {
   "cell_type": "markdown",
   "metadata": {},
   "source": [
    "## 実装"
   ]
  },
  {
   "cell_type": "code",
   "execution_count": 4,
   "metadata": {},
   "outputs": [],
   "source": [
    "from collections import deque\n",
    "\n",
    "def topological_sort(G):\n",
    "    N = len(G)\n",
    "    # グラフから入力辺がないノードを調べる\n",
    "    in_cnt = [0] * N\n",
    "    for i, edges in enumerate(G):\n",
    "        for j in edges:\n",
    "            in_cnt[j] += 1\n",
    "\n",
    "    res = []\n",
    "    q = deque(i for i in range(N) if in_cnt[i]==0)  # 入力辺がないノード\n",
    "    while q:\n",
    "        u = q.popleft()\n",
    "        res.append(u)\n",
    "        for v in G[u]:\n",
    "            in_cnt[v] -= 1\n",
    "            if in_cnt[v] == 0:\n",
    "                q.append(v)\n",
    "\n",
    "    return res"
   ]
  },
  {
   "cell_type": "code",
   "execution_count": 5,
   "metadata": {},
   "outputs": [
    {
     "data": {
      "text/plain": [
       "[0, 1, 3, 4, 6, 2, 5]"
      ]
     },
     "execution_count": 5,
     "metadata": {},
     "output_type": "execute_result"
    }
   ],
   "source": [
    "topological_sort(dag1)"
   ]
  }
 ],
 "metadata": {
  "interpreter": {
   "hash": "2f394aca7ca06fed1e6064aef884364492d7cdda3614a461e02e6407fc40ba69"
  },
  "kernelspec": {
   "display_name": "Python 3.9.9 64-bit ('base': conda)",
   "language": "python",
   "name": "python3"
  },
  "language_info": {
   "codemirror_mode": {
    "name": "ipython",
    "version": 3
   },
   "file_extension": ".py",
   "mimetype": "text/x-python",
   "name": "python",
   "nbconvert_exporter": "python",
   "pygments_lexer": "ipython3",
   "version": "3.9.9"
  },
  "orig_nbformat": 4
 },
 "nbformat": 4,
 "nbformat_minor": 2
}
