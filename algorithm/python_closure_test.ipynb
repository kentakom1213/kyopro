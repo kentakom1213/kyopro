{
 "cells": [
  {
   "cell_type": "markdown",
   "metadata": {},
   "source": [
    "# ライブラリをクロージャで書いてみる\n",
    "\n",
    "Pythonだとクラスより軽いと聞いたので..."
   ]
  },
  {
   "cell_type": "markdown",
   "metadata": {},
   "source": [
    "## 累積和\n",
    "ライブラリにするほどでもないんだけど..."
   ]
  },
  {
   "cell_type": "code",
   "execution_count": 19,
   "metadata": {},
   "outputs": [],
   "source": [
    "# クラスで記述\n",
    "\n",
    "class Sum_class:\n",
    "    \"\"\"\n",
    "    size      : int\n",
    "        元配列の大きさ\n",
    "    arr       : [int]\n",
    "        元配列\n",
    "    s         : [int]\n",
    "        累積和配列\n",
    "    \"\"\"\n",
    "\n",
    "    def __init__(self, arr):\n",
    "        self.size = len(arr)\n",
    "        self.arr = arr\n",
    "        self.s = [0] * (self.size + 1)\n",
    "        for i in range(self.size):\n",
    "            self.s[i+1] = self.s[i] + self.arr[i]\n",
    "    \n",
    "    def sum(self, x, y):\n",
    "        \"\"\"\n",
    "        x <= i < y を満たすiに対して、sum a_i を求める。\n",
    "        \"\"\"\n",
    "        return self.s[y] - self.s[x]"
   ]
  },
  {
   "cell_type": "code",
   "execution_count": 20,
   "metadata": {},
   "outputs": [],
   "source": [
    "# クロージャで記述\n",
    "\n",
    "def Sum_closure(arr):\n",
    "    n = len(arr)\n",
    "    s = [0] * (n+1)\n",
    "    for i in range(n):\n",
    "        s[i+1] = s[i] + arr[i]\n",
    "    \n",
    "    def sum_(x, y):\n",
    "        return s[y] - s[x]\n",
    "    \n",
    "    return sum_"
   ]
  },
  {
   "cell_type": "markdown",
   "metadata": {},
   "source": [
    "### テスト"
   ]
  },
  {
   "cell_type": "code",
   "execution_count": 14,
   "metadata": {},
   "outputs": [],
   "source": [
    "import random\n",
    "random.seed(0)\n",
    "\n",
    "def get_random_range(N):\n",
    "    x, y = random.randint(0, N), random.randint(0, N)\n",
    "    if x > y:\n",
    "        x, y = y, x\n",
    "    return (x, y)"
   ]
  },
  {
   "cell_type": "code",
   "execution_count": 15,
   "metadata": {},
   "outputs": [],
   "source": [
    "N = 100000\n",
    "Q = 100000\n",
    "\n",
    "arr = [random.randint(0, 100000) for _ in range(N)]\n",
    "queries = [get_random_range(N) for _ in range(Q)]"
   ]
  },
  {
   "cell_type": "code",
   "execution_count": 17,
   "metadata": {},
   "outputs": [
    {
     "name": "stdout",
     "output_type": "stream",
     "text": [
      "15.5 ms ± 1.19 ms per loop (mean ± std. dev. of 7 runs, 10 loops each)\n"
     ]
    }
   ],
   "source": [
    "%%timeit\n",
    "\n",
    "# 普通の累積和\n",
    "s1 = [0] * (N + 1)\n",
    "for i in range(N):\n",
    "    s1[i+1] = s1[i] + arr[i]\n",
    "\n",
    "for x, y in queries:\n",
    "    s1[y] - s1[x]"
   ]
  },
  {
   "cell_type": "code",
   "execution_count": 21,
   "metadata": {},
   "outputs": [
    {
     "name": "stdout",
     "output_type": "stream",
     "text": [
      "24.1 ms ± 883 µs per loop (mean ± std. dev. of 7 runs, 10 loops each)\n"
     ]
    }
   ],
   "source": [
    "%%timeit\n",
    "\n",
    "# class版累積和\n",
    "s2 = Sum_class(arr)\n",
    "\n",
    "for x, y in queries:\n",
    "    s2.sum(x, y)"
   ]
  },
  {
   "cell_type": "code",
   "execution_count": 24,
   "metadata": {},
   "outputs": [
    {
     "name": "stdout",
     "output_type": "stream",
     "text": [
      "17.7 ms ± 906 µs per loop (mean ± std. dev. of 7 runs, 10 loops each)\n"
     ]
    }
   ],
   "source": [
    "%%timeit\n",
    "\n",
    "# クロージャ\n",
    "s3 = Sum_closure(arr)\n",
    "\n",
    "for x, y in queries:\n",
    "    s3(x, y)"
   ]
  }
 ],
 "metadata": {
  "kernelspec": {
   "display_name": "Python 3.9.7 ('base')",
   "language": "python",
   "name": "python3"
  },
  "language_info": {
   "codemirror_mode": {
    "name": "ipython",
    "version": 3
   },
   "file_extension": ".py",
   "mimetype": "text/x-python",
   "name": "python",
   "nbconvert_exporter": "python",
   "pygments_lexer": "ipython3",
   "version": "3.9.7"
  },
  "orig_nbformat": 4,
  "vscode": {
   "interpreter": {
    "hash": "2f394aca7ca06fed1e6064aef884364492d7cdda3614a461e02e6407fc40ba69"
   }
  }
 },
 "nbformat": 4,
 "nbformat_minor": 2
}
