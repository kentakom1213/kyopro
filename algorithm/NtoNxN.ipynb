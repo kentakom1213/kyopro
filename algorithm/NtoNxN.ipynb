{
 "cells": [
  {
   "cell_type": "markdown",
   "metadata": {},
   "source": [
    "# 自然数nに対して1対1で対応するタプルを生成する"
   ]
  },
  {
   "cell_type": "code",
   "execution_count": 1,
   "metadata": {},
   "outputs": [],
   "source": [
    "\n",
    "N_MAX = 1e10\n",
    "\n",
    "def find_x(n):\n",
    "    \"\"\"\n",
    "    2分探索法を用いて\n",
    "    x*(x+1)/2 <= n < (x+1)*(x+2)/2 を満たすxを探す\n",
    "    \"\"\"\n",
    "    l, r = 0, N_MAX\n",
    "    while r - l > 1:\n",
    "        mid = (l + r) // 2\n",
    "        if mid * (mid+1) // 2 <= n:\n",
    "            l = mid\n",
    "        else:\n",
    "            r = mid\n",
    "    return int(l)\n"
   ]
  },
  {
   "cell_type": "code",
   "execution_count": 2,
   "metadata": {},
   "outputs": [],
   "source": [
    "def make_pair(n):\n",
    "    \"\"\"nに対応するタプルを生成\"\"\"\n",
    "    x = find_x(n)\n",
    "    m = n - x*(x+1)//2 + 1\n",
    "    k = (x+1)*(x+2)//2 - n\n",
    "    return (m, k)"
   ]
  },
  {
   "cell_type": "code",
   "execution_count": 5,
   "metadata": {},
   "outputs": [
    {
     "name": "stdout",
     "output_type": "stream",
     "text": [
      "1 (1, 1)\n",
      "2 (1, 2)\n",
      "3 (2, 1)\n",
      "4 (1, 3)\n",
      "5 (2, 2)\n",
      "6 (3, 1)\n",
      "7 (1, 4)\n",
      "8 (2, 3)\n",
      "9 (3, 2)\n",
      "10 (4, 1)\n",
      "11 (1, 5)\n",
      "12 (2, 4)\n",
      "13 (3, 3)\n",
      "14 (4, 2)\n",
      "15 (5, 1)\n",
      "16 (1, 6)\n",
      "17 (2, 5)\n",
      "18 (3, 4)\n",
      "19 (4, 3)\n",
      "20 (5, 2)\n",
      "21 (6, 1)\n",
      "22 (1, 7)\n",
      "23 (2, 6)\n",
      "24 (3, 5)\n",
      "25 (4, 4)\n",
      "26 (5, 3)\n",
      "27 (6, 2)\n",
      "28 (7, 1)\n",
      "29 (1, 8)\n",
      "30 (2, 7)\n"
     ]
    }
   ],
   "source": [
    "for i in range(1, 30+1):\n",
    "    p = make_pair(i-1)\n",
    "    print(i, p)"
   ]
  }
 ],
 "metadata": {
  "interpreter": {
   "hash": "2f394aca7ca06fed1e6064aef884364492d7cdda3614a461e02e6407fc40ba69"
  },
  "kernelspec": {
   "display_name": "Python 3.9.7 ('base')",
   "language": "python",
   "name": "python3"
  },
  "language_info": {
   "codemirror_mode": {
    "name": "ipython",
    "version": 3
   },
   "file_extension": ".py",
   "mimetype": "text/x-python",
   "name": "python",
   "nbconvert_exporter": "python",
   "pygments_lexer": "ipython3",
   "version": "3.9.7"
  },
  "orig_nbformat": 4
 },
 "nbformat": 4,
 "nbformat_minor": 2
}
