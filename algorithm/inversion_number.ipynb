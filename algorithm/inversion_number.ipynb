{
 "cells": [
  {
   "cell_type": "markdown",
   "metadata": {},
   "source": [
    "# 転倒数\n",
    "\n",
    "## 参考\n",
    "- [転倒 - Wikipedia](https://ja.wikipedia.org/wiki/%E8%BB%A2%E5%80%92_(%E6%95%B0%E5%AD%A6))\n",
    "- [転倒数 - いかたこのたこつぼ](https://ikatakos.com/pot/programming_algorithm/dynamic_programming/inversion)\n",
    "\n",
    "## 定義\n",
    "\n",
    "### 転倒\n",
    "\n",
    "> $A = (A_1, A_2, \\ldots, A_n)$ を相異なる $n$ 個の全順序づけられた文字の列とみなすとき、\n",
    "> $i\\lt j$ かつ $A_i\\gt A_j$ が成り立つとき、順序対 $(i,j)$ を $A$ の**転倒**という。\n",
    "\n",
    "### 転倒数\n",
    "\n",
    "その列が持つ転倒の総数\n",
    "\n",
    "## 求め方\n",
    "\n",
    "**自分より左にある、自分より大きな数の個数**を**BIT**を用いて求める。"
   ]
  },
  {
   "cell_type": "code",
   "execution_count": 2,
   "metadata": {},
   "outputs": [],
   "source": [
    "### BIT ###\n",
    "class BIT:\n",
    "    def __init__(self, N):\n",
    "        self.size = N\n",
    "        self.arr = [0] * (N+1)\n",
    "\n",
    "    def add(self, i, x):\n",
    "        while i <= self.size:\n",
    "            self.arr[i] += x\n",
    "            i += i & -i\n",
    "\n",
    "    def sum(self, i):\n",
    "        res = 0\n",
    "        while i:\n",
    "            res += self.arr[i]\n",
    "            i -= i & -i\n",
    "        return res\n"
   ]
  },
  {
   "cell_type": "code",
   "execution_count": 8,
   "metadata": {},
   "outputs": [
    {
     "name": "stdout",
     "output_type": "stream",
     "text": [
      "5\n"
     ]
    }
   ],
   "source": [
    "perm = [3, 10, 1, 8, 5]\n",
    "bit = BIT(16)\n",
    "ans = 0\n",
    "\n",
    "for i, p in enumerate(perm):\n",
    "    bit.add(p, 1)\n",
    "    ans += i + 1 - bit.sum(p)\n",
    "\n",
    "print(ans)"
   ]
  },
  {
   "cell_type": "markdown",
   "metadata": {},
   "source": [
    "### ライブラリ化"
   ]
  },
  {
   "cell_type": "code",
   "execution_count": 9,
   "metadata": {},
   "outputs": [],
   "source": [
    "def inverse_number(perm):\n",
    "    sup = max(perm)\n",
    "    bit = BIT(sup)\n",
    "    res = 0\n",
    "    for i, p in enumerate(perm):\n",
    "        bit.add(p, 1)\n",
    "        res += i + 1 - bit.sum(p)\n",
    "    return res"
   ]
  },
  {
   "cell_type": "code",
   "execution_count": 10,
   "metadata": {},
   "outputs": [
    {
     "data": {
      "text/plain": [
       "0"
      ]
     },
     "execution_count": 10,
     "metadata": {},
     "output_type": "execute_result"
    }
   ],
   "source": [
    "inverse_number([1,2,3,4,5])"
   ]
  },
  {
   "cell_type": "code",
   "execution_count": 11,
   "metadata": {},
   "outputs": [
    {
     "data": {
      "text/plain": [
       "2"
      ]
     },
     "execution_count": 11,
     "metadata": {},
     "output_type": "execute_result"
    }
   ],
   "source": [
    "inverse_number([1,3,2,5,4])"
   ]
  },
  {
   "cell_type": "code",
   "execution_count": 12,
   "metadata": {},
   "outputs": [
    {
     "data": {
      "text/plain": [
       "10"
      ]
     },
     "execution_count": 12,
     "metadata": {},
     "output_type": "execute_result"
    }
   ],
   "source": [
    "inverse_number([5,4,3,2,1])"
   ]
  }
 ],
 "metadata": {
  "kernelspec": {
   "display_name": "Python 3.9.13 ('.local': venv)",
   "language": "python",
   "name": "python3"
  },
  "language_info": {
   "codemirror_mode": {
    "name": "ipython",
    "version": 3
   },
   "file_extension": ".py",
   "mimetype": "text/x-python",
   "name": "python",
   "nbconvert_exporter": "python",
   "pygments_lexer": "ipython3",
   "version": "3.9.13"
  },
  "orig_nbformat": 4,
  "vscode": {
   "interpreter": {
    "hash": "2037f08d740e09aaf23a5b1fb540c4c384b57cd039efda05e1421df2b7d12afc"
   }
  }
 },
 "nbformat": 4,
 "nbformat_minor": 2
}
