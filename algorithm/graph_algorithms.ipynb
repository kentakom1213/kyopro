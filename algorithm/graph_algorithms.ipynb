{
 "cells": [
  {
   "cell_type": "markdown",
   "metadata": {},
   "source": [
    "# アルゴ式 グラフアルゴリズム"
   ]
  },
  {
   "cell_type": "code",
   "execution_count": 1,
   "metadata": {},
   "outputs": [],
   "source": [
    "#include <bits/stdc++.h>\n",
    "using namespace std;\n",
    "typedef long long ll;\n",
    "#define rep(i, n) for (int i = 0; i < (int)(n); i++)"
   ]
  },
  {
   "cell_type": "markdown",
   "metadata": {},
   "source": [
    "## 幅優先探索\n",
    "### [Q2-1. 頂点を塗る](https://algo-method.com/tasks/414)"
   ]
  },
  {
   "cell_type": "code",
   "execution_count": 2,
   "metadata": {},
   "outputs": [
    {
     "name": "stdout",
     "output_type": "stream",
     "text": [
      " 4 4 0 1 2 1 3 0 1 3\n"
     ]
    }
   ],
   "source": [
    "int N, M;\n",
    "cin >> N >> M;\n",
    "vector<vector<int>> G(N);\n",
    "rep(i, M) {\n",
    "    int a, b;\n",
    "    cin >> a >> b;\n",
    "    G[a].push_back(b);\n",
    "    G[b].push_back(a);\n",
    "}"
   ]
  },
  {
   "cell_type": "code",
   "execution_count": 3,
   "metadata": {},
   "outputs": [
    {
     "data": {
      "text/plain": [
       "{ { 1, 3 }, { 0, 2, 3 }, { 1 }, { 0, 1 } }"
      ]
     },
     "execution_count": 3,
     "metadata": {},
     "output_type": "execute_result"
    }
   ],
   "source": [
    "G"
   ]
  },
  {
   "cell_type": "code",
   "execution_count": 4,
   "metadata": {},
   "outputs": [
    {
     "data": {
      "text/plain": [
       "4"
      ]
     },
     "execution_count": 4,
     "metadata": {},
     "output_type": "execute_result"
    }
   ],
   "source": [
    "N"
   ]
  },
  {
   "cell_type": "code",
   "execution_count": 5,
   "metadata": {},
   "outputs": [],
   "source": [
    "queue<int> q;\n",
    "vector<int> already(N, 0);\n",
    "\n",
    "while (!q.empty()) {\n",
    "    int now = q.front();\n",
    "    q.pop();\n",
    "    already[now] = 1;\n",
    "    cout << now << \" \";\n",
    "    \n",
    "    if (already[now]) continue;\n",
    "    \n",
    "    for (auto next : G[now]) {\n",
    "        q.push(next);\n",
    "    }\n",
    "    \n",
    "    cout << endl;\n",
    "}"
   ]
  }
 ],
 "metadata": {
  "interpreter": {
   "hash": "2f394aca7ca06fed1e6064aef884364492d7cdda3614a461e02e6407fc40ba69"
  },
  "kernelspec": {
   "display_name": "C++17",
   "language": "C++17",
   "name": "python397jvsc74a57bd0049469cf3dd03d83d492bae44acfa2cf716a721f729f3508cce5c7223a7e780c"
  },
  "language_info": {
   "codemirror_mode": "text/x-c++src",
   "file_extension": ".cpp",
   "mimetype": "text/x-c++src",
   "name": "C++17",
   "version": "17"
  }
 },
 "nbformat": 4,
 "nbformat_minor": 4
}
