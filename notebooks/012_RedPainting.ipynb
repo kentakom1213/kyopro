{
 "cells": [
  {
   "cell_type": "markdown",
   "id": "c1c853f3-b859-442f-8d1f-60412fdd224b",
   "metadata": {},
   "source": [
    "# [034 - There are few types of elements（★4）](https://atcoder.jp/contests/typical90/tasks/typical90_ah)\n",
    "\n",
    "### 方針\n",
    "- 連続する部分列→尺取り法\n",
    "- 部分列に存在する種類をmapで保存\n",
    "- Kを超えない範囲で移動させることで O(N+K) でもとまる"
   ]
  },
  {
   "cell_type": "code",
   "execution_count": 77,
   "id": "3d53d909-cfc9-4e91-b7a6-1dd22aa0b5da",
   "metadata": {},
   "outputs": [],
   "source": [
    "#include <bits/stdc++.h>\n",
    "using namespace std;\n",
    "typedef long long ll;\n",
    "#define rep(i, n) for (int i = 0; i < (int)(n); i++)"
   ]
  },
  {
   "cell_type": "code",
   "execution_count": 71,
   "id": "ac4655ba-a9a2-487d-b9ed-7cc43ae37bcb",
   "metadata": {},
   "outputs": [
    {
     "name": "stdin",
     "output_type": "stream",
     "text": [
      " 10 2 1 2 3 4 4 3 2 1 2 3\n"
     ]
    },
    {
     "data": {
      "text/plain": [
       "{ 1, 2, 3, 4, 4, 3, 2, 1, 2, 3 }"
      ]
     },
     "execution_count": 71,
     "metadata": {},
     "output_type": "execute_result"
    }
   ],
   "source": [
    "int N, K;\n",
    "cin >> N >> K;\n",
    "vector<ll> A(N);\n",
    "rep(i, N) cin >> A[i];\n",
    "\n",
    "A"
   ]
  },
  {
   "cell_type": "code",
   "execution_count": 80,
   "id": "fbff5562-c2c6-4a46-83a9-c788834d3200",
   "metadata": {},
   "outputs": [
    {
     "data": {
      "text/plain": [
       "0"
      ]
     },
     "execution_count": 80,
     "metadata": {},
     "output_type": "execute_result"
    }
   ],
   "source": [
    "map<int, int> test;\n",
    "test[1] = 2;\n",
    "test[2] = 3;\n",
    "\n",
    "test.count(0)"
   ]
  },
  {
   "cell_type": "code",
   "execution_count": 105,
   "id": "5e89422e-a4cc-4e25-af28-24761602ee6c",
   "metadata": {},
   "outputs": [
    {
     "name": "stdout",
     "output_type": "stream",
     "text": [
      "l:0, r:2, types:2, seg:2\n",
      "l:1, r:3, types:2, seg:2\n",
      "l:2, r:4, types:2, seg:2\n",
      "l:3, r:5, types:2, seg:2\n",
      "l:4, r:6, types:2, seg:2\n",
      "l:5, r:7, types:3, seg:2\n",
      "l:6, r:8, types:3, seg:2\n",
      "l:7, r:9, types:3, seg:2\n",
      "l:8, r:10, types:4, seg:2\n"
     ]
    }
   ],
   "source": [
    "\n",
    "map<ll, ll> nums;\n",
    "ll types = 0;\n",
    "\n",
    "// 尺取り法\n",
    "int r = 0;\n",
    "for (int l = 0; l < N; l++) {\n",
    "    do {\n",
    "        r++;\n",
    "      \n",
    "        if (nums.count(A[r]) == 0) {\n",
    "            types++;\n",
    "        }\n",
    "        nums[A[r]]++;\n",
    "    } while (r < N && types < K);\n",
    "    \n",
    "    printf(\"l:%d, r:%d, types:%lld, seg:%d\\n\", l, r, types, r-l);\n",
    "    \n",
    "    // 左を減らす\n",
    "    if (nums.count(A[l]) == 0) {\n",
    "        types--;\n",
    "    } else {\n",
    "        nums[A[l]]--;\n",
    "    }\n",
    "    \n",
    "    if (r >= N) break;\n",
    "    if (l == r) {\n",
    "        r++;\n",
    "    }\n",
    "}"
   ]
  },
  {
   "cell_type": "code",
   "execution_count": null,
   "id": "de2d17e3-e344-4a31-bf7b-b987b4b3e44c",
   "metadata": {},
   "outputs": [],
   "source": []
  }
 ],
 "metadata": {
  "kernelspec": {
   "display_name": "C++17",
   "language": "C++17",
   "name": "xcpp17"
  },
  "language_info": {
   "codemirror_mode": "text/x-c++src",
   "file_extension": ".cpp",
   "mimetype": "text/x-c++src",
   "name": "c++",
   "version": "17"
  }
 },
 "nbformat": 4,
 "nbformat_minor": 5
}
