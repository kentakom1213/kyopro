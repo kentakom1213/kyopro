{
 "cells": [
  {
   "cell_type": "markdown",
   "source": [
    "# Union-Find木\n",
    "\n",
    "参考 \\\n",
    "[https://note.nkmk.me/python-union-find/](https://note.nkmk.me/python-union-find/)\n",
    "[https://amateur-engineer-blog.com/union-find/?utm_source=rss&utm_medium=rss&utm_campaign=union-find](https://amateur-engineer-blog.com/union-find/?utm_source=rss&utm_medium=rss&utm_campaign=union-find)"
   ],
   "metadata": {}
  },
  {
   "cell_type": "markdown",
   "source": [
    "## 実装\n",
    "note.nkmk.meから引用"
   ],
   "metadata": {}
  },
  {
   "cell_type": "code",
   "execution_count": 3,
   "source": [
    "from collections import defaultdict\n",
    "\n",
    "class UnionFind():\n",
    "    def __init__(self, n):\n",
    "        self.n = n\n",
    "        self.parents = [-1] * n\n",
    "\n",
    "    def find(self, x):\n",
    "        if self.parents[x] < 0:\n",
    "            return x\n",
    "        else:\n",
    "            # 親要素を再帰的に探索\n",
    "            self.parents[x] = self.find(self.parents[x])\n",
    "            return self.parents[x]\n",
    "\n",
    "    def union(self, x, y):\n",
    "        x = self.find(x)\n",
    "        y = self.find(y)\n",
    "\n",
    "        if x == y:\n",
    "            return\n",
    "\n",
    "        if self.parents[x] > self.parents[y]:\n",
    "            x, y = y, x\n",
    "\n",
    "        self.parents[x] += self.parents[y]\n",
    "        self.parents[y] = x\n",
    "\n",
    "    def size(self, x):\n",
    "        return -self.parents[self.find(x)]\n",
    "\n",
    "    def same(self, x, y):\n",
    "        return self.find(x) == self.find(y)\n",
    "\n",
    "    def members(self, x):\n",
    "        root = self.find(x)\n",
    "        return [i for i in range(self.n) if self.find(i) == root]\n",
    "\n",
    "    def roots(self):\n",
    "        return [i for i, x in enumerate(self.parents) if x < 0]\n",
    "\n",
    "    def group_count(self):\n",
    "        return len(self.roots())\n",
    "\n",
    "    def all_group_members(self):\n",
    "        group_members = defaultdict(list)\n",
    "        for member in range(self.n):\n",
    "            group_members[self.find(member)].append(member)\n",
    "        return group_members\n",
    "\n",
    "    def __str__(self):\n",
    "        return '\\n'.join(f'{r}: {m}' for r, m in self.all_group_members().items())"
   ],
   "outputs": [],
   "metadata": {}
  },
  {
   "cell_type": "code",
   "execution_count": 5,
   "source": [
    "uf = UnionFind(6)\n",
    "print(uf.parents)\n",
    "print(uf)"
   ],
   "outputs": [
    {
     "output_type": "stream",
     "name": "stdout",
     "text": [
      "[-1, -1, -1, -1, -1, -1]\n",
      "0: [0]\n",
      "1: [1]\n",
      "2: [2]\n",
      "3: [3]\n",
      "4: [4]\n",
      "5: [5]\n"
     ]
    }
   ],
   "metadata": {}
  },
  {
   "cell_type": "code",
   "execution_count": 6,
   "source": [
    "uf.union(0, 2)\n",
    "print(uf.parents)\n",
    "print(uf)"
   ],
   "outputs": [
    {
     "output_type": "stream",
     "name": "stdout",
     "text": [
      "[-2, -1, 0, -1, -1, -1]\n",
      "0: [0, 2]\n",
      "1: [1]\n",
      "3: [3]\n",
      "4: [4]\n",
      "5: [5]\n"
     ]
    }
   ],
   "metadata": {}
  },
  {
   "cell_type": "code",
   "execution_count": 7,
   "source": [
    "uf.union(1, 3)\n",
    "print(uf.parents)\n",
    "uf.union(4, 5)\n",
    "print(uf.parents)\n",
    "uf.union(1, 4)\n",
    "print(uf.parents)\n",
    "\n",
    "print(uf)"
   ],
   "outputs": [
    {
     "output_type": "stream",
     "name": "stdout",
     "text": [
      "[-2, -2, 0, 1, -1, -1]\n",
      "[-2, -2, 0, 1, -2, 4]\n",
      "[-2, -4, 0, 1, 1, 4]\n",
      "0: [0, 2]\n",
      "1: [1, 3, 4, 5]\n"
     ]
    }
   ],
   "metadata": {}
  },
  {
   "cell_type": "code",
   "execution_count": 8,
   "source": [
    "uf.union(0, 1)\n",
    "print(uf.parents)\n",
    "print(uf)"
   ],
   "outputs": [
    {
     "output_type": "stream",
     "name": "stdout",
     "text": [
      "[1, -6, 0, 1, 1, 1]\n",
      "1: [0, 1, 2, 3, 4, 5]\n"
     ]
    }
   ],
   "metadata": {}
  },
  {
   "cell_type": "markdown",
   "source": [
    "## 素朴な実装"
   ],
   "metadata": {}
  },
  {
   "cell_type": "code",
   "execution_count": 42,
   "source": [
    "class UnionFindBasic():\n",
    "    def __init__(self, n):\n",
    "        self.parents = list(range(n))\n",
    "\n",
    "    def find(self, x):\n",
    "        if self.parents[x] == x:\n",
    "            return x\n",
    "        else:\n",
    "            print(x, end=\" -> \")\n",
    "            return self.find(self.parents[x])\n",
    "\n",
    "    def union(self, x, y):\n",
    "        x = self.find(x)\n",
    "        y = self.find(y)\n",
    "\n",
    "        if x == y:\n",
    "            return\n",
    "\n",
    "        self.parents[y] = x"
   ],
   "outputs": [],
   "metadata": {}
  },
  {
   "cell_type": "code",
   "execution_count": 43,
   "source": [
    "ufb = UnionFindBasic(7)\n",
    "\n",
    "ufb.union(5, 6)\n",
    "ufb.union(4, 5)\n",
    "ufb.union(3, 4)\n",
    "ufb.union(2, 3)\n",
    "ufb.union(1, 2)\n",
    "print(ufb.parents)"
   ],
   "outputs": [
    {
     "output_type": "stream",
     "name": "stdout",
     "text": [
      "[0, 1, 1, 2, 3, 4, 5]\n"
     ]
    }
   ],
   "metadata": {}
  },
  {
   "cell_type": "code",
   "execution_count": 44,
   "source": [
    "print(ufb.find(5))\n",
    "print(ufb.find(5))"
   ],
   "outputs": [
    {
     "output_type": "stream",
     "name": "stdout",
     "text": [
      "5 -> 4 -> 3 -> 2 -> 1\n",
      "5 -> 4 -> 3 -> 2 -> 1\n"
     ]
    }
   ],
   "metadata": {}
  },
  {
   "cell_type": "markdown",
   "source": [
    "### 経路圧縮"
   ],
   "metadata": {}
  },
  {
   "cell_type": "code",
   "execution_count": 31,
   "source": [
    "class UnionFindPathCompression():\n",
    "    def __init__(self, n):\n",
    "        self.parents = list(range(n))\n",
    "\n",
    "    def find(self, x):\n",
    "        if self.parents[x] == x:\n",
    "            return x\n",
    "        else:\n",
    "            print(x, end=\" -> \")\n",
    "            self.parents[x] = self.find(self.parents[x]) # メモ化\n",
    "            return self.parents[x]\n",
    "\n",
    "    def union(self, x, y):\n",
    "        x = self.find(x)\n",
    "        y = self.find(y)\n",
    "\n",
    "        if x == y:\n",
    "            return\n",
    "\n",
    "        self.parents[y] = x"
   ],
   "outputs": [],
   "metadata": {}
  },
  {
   "cell_type": "code",
   "execution_count": 46,
   "source": [
    "uf_comp = UnionFindPathCompression(7)\n",
    "\n",
    "uf_comp.union(5, 6)\n",
    "uf_comp.union(4, 5)\n",
    "uf_comp.union(3, 4)\n",
    "uf_comp.union(2, 3)\n",
    "uf_comp.union(1, 2)\n",
    "print(uf_comp.parents)"
   ],
   "outputs": [
    {
     "output_type": "stream",
     "name": "stdout",
     "text": [
      "[0, 1, 1, 2, 3, 4, 5]\n"
     ]
    }
   ],
   "metadata": {}
  },
  {
   "cell_type": "code",
   "execution_count": 47,
   "source": [
    "print(uf_comp.find(5))\n",
    "print(uf_comp.find(5))\n",
    "# 2回目からの呼び出しが大幅に効率化"
   ],
   "outputs": [
    {
     "output_type": "stream",
     "name": "stdout",
     "text": [
      "5 -> 4 -> 3 -> 2 -> 1\n",
      "5 -> 1\n"
     ]
    }
   ],
   "metadata": {}
  },
  {
   "cell_type": "markdown",
   "source": [
    "### rankの導入\n",
    "\n",
    "> ランク（木の高さ）の情報を保持しておき、併合する際に低い方を高い方につなげる（低い方の根の親を高い方の根にする）。\n",
    "\n",
    "> 経路圧縮にランクを加えた実装は以下の通り。ランク情報を格納するリストであるrank属性を追加する。[0] * nで初期化する。"
   ],
   "metadata": {}
  },
  {
   "cell_type": "code",
   "execution_count": 65,
   "source": [
    "class UnionFindByRank():\n",
    "    def __init__(self, n):\n",
    "        self.parents = list(range(n))\n",
    "        self.rank = [0] * n\n",
    "\n",
    "    def find(self, x):\n",
    "        if self.parents[x] == x:\n",
    "            return x\n",
    "        else:\n",
    "            self.parents[x] = self.find(self.parents[x])\n",
    "            return self.parents[x]\n",
    "\n",
    "    def union(self, x, y):\n",
    "        x = self.find(x)\n",
    "        y = self.find(y)\n",
    "\n",
    "        if x == y:\n",
    "            return\n",
    "\n",
    "        if self.rank[x] < self.rank[y]:\n",
    "            self.parents[x] = y\n",
    "        else:\n",
    "            self.parents[y] = x\n",
    "            if self.rank[x] == self.rank[y]:\n",
    "                self.rank[x] += 1"
   ],
   "outputs": [],
   "metadata": {}
  }
 ],
 "metadata": {
  "orig_nbformat": 4,
  "language_info": {
   "name": "python",
   "version": "3.8.2",
   "mimetype": "text/x-python",
   "codemirror_mode": {
    "name": "ipython",
    "version": 3
   },
   "pygments_lexer": "ipython3",
   "nbconvert_exporter": "python",
   "file_extension": ".py"
  },
  "kernelspec": {
   "name": "python3",
   "display_name": "Python 3.8.2 64-bit"
  },
  "interpreter": {
   "hash": "31f2aee4e71d21fbe5cf8b01ff0e069b9275f58929596ceb00d14d90e3e16cd6"
  }
 },
 "nbformat": 4,
 "nbformat_minor": 2
}