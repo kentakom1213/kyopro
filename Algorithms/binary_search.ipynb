{
 "cells": [
  {
   "cell_type": "markdown",
   "source": [
    "# 二分探索の実装\n",
    "\n",
    "## 仕様\n",
    "`condition(x) = True`を満たす最大のxを `min <= x < max` の範囲で探索する。\n",
    "\n",
    "引数\n",
    "| 引数 | 型 | 意味 |\n",
    "| :-: | :-: | :-: |\n",
    "| condition | `callable` | 引数`x`が条件を満たす場合`True`、満たさない場合`False`を返す関数 |\n",
    "| min | `int` | 探索する範囲の最小値 |\n",
    "| max | `int` | 探索しない範囲の最小値 |\n",
    "<!-- | search_min = `False` | `bool` | conditionをみたす最小値を検索するかどうか | -->\n",
    "\n",
    "戻り値\n",
    "| 型 | 戻り値 |\n",
    "| :-: | :-: |\n",
    "| `int` | `condition(x) = True`を満たす最大の`x`、満たす`x`が存在しない場合`min` |\n",
    "<!-- | 状態 | 型 | 戻り値 |\n",
    "| :-: | :-: | :-: |\n",
    "| search_min = `False` | `int` | `condition(x) = True`を満たす最大の`x` |\n",
    "| search_min = `True` | `int` | `condition(x) = True`を満たす最小の`x` | -->\n"
   ],
   "metadata": {}
  },
  {
   "cell_type": "code",
   "execution_count": 35,
   "source": [
    "def binary_search(condition, min, max):\n",
    "    while max - min > 1:\n",
    "        mid = int((max + min) // 2)\n",
    "        if condition(mid):\n",
    "            min = mid\n",
    "        else:\n",
    "            max = mid\n",
    "    return min"
   ],
   "outputs": [],
   "metadata": {}
  },
  {
   "cell_type": "code",
   "execution_count": 58,
   "source": [
    "def binary_search_db(condition, min, max):\n",
    "    while max - min > 1:\n",
    "        mid = int((max + min) // 2)\n",
    "        print(min, mid, max)\n",
    "        if condition(mid):\n",
    "            min = mid + 1\n",
    "        else:\n",
    "            max = mid  # mid - 1\n",
    "    return min"
   ],
   "outputs": [],
   "metadata": {}
  },
  {
   "cell_type": "code",
   "execution_count": 54,
   "source": [
    "binary_search_db(lambda x: 2**20 < 1000, 0, 1000)"
   ],
   "outputs": [
    {
     "output_type": "stream",
     "name": "stdout",
     "text": [
      "0 500 1000\n",
      "0 250 500\n",
      "0 125 250\n",
      "0 62 125\n",
      "0 31 62\n",
      "0 15 31\n",
      "0 7 15\n",
      "0 3 7\n",
      "0 1 3\n"
     ]
    },
    {
     "output_type": "execute_result",
     "data": {
      "text/plain": [
       "0"
      ]
     },
     "metadata": {},
     "execution_count": 54
    }
   ],
   "metadata": {}
  },
  {
   "cell_type": "code",
   "execution_count": 55,
   "source": [
    "binary_search_db(lambda x: x**20 < 1e10, 0, 1e5)"
   ],
   "outputs": [
    {
     "output_type": "stream",
     "name": "stdout",
     "text": [
      "0 50000 100000.0\n",
      "0 25000 50000\n",
      "0 12500 25000\n",
      "0 6250 12500\n",
      "0 3125 6250\n",
      "0 1562 3125\n",
      "0 781 1562\n",
      "0 390 781\n",
      "0 195 390\n",
      "0 97 195\n",
      "0 48 97\n",
      "0 24 48\n",
      "0 12 24\n",
      "0 6 12\n",
      "0 3 6\n",
      "3 4 6\n"
     ]
    },
    {
     "output_type": "execute_result",
     "data": {
      "text/plain": [
       "3"
      ]
     },
     "metadata": {},
     "execution_count": 55
    }
   ],
   "metadata": {}
  },
  {
   "cell_type": "code",
   "execution_count": 51,
   "source": [
    "print(3 ** 20 < 1e10)\n",
    "print(4 ** 20 < 1e10)"
   ],
   "outputs": [
    {
     "output_type": "stream",
     "name": "stdout",
     "text": [
      "True\n",
      "False\n"
     ]
    }
   ],
   "metadata": {}
  },
  {
   "cell_type": "code",
   "execution_count": 38,
   "source": [
    "for b in range(2, 9):\n",
    "    max_a = binary_search(lambda x: x**b < 8, 1, 1e5)\n",
    "    print(max_a)"
   ],
   "outputs": [
    {
     "output_type": "stream",
     "name": "stdout",
     "text": [
      "2\n",
      "1\n",
      "1\n",
      "1\n",
      "1\n",
      "1\n",
      "1\n"
     ]
    }
   ],
   "metadata": {}
  },
  {
   "cell_type": "code",
   "execution_count": 26,
   "source": [
    "5//2"
   ],
   "outputs": [
    {
     "output_type": "execute_result",
     "data": {
      "text/plain": [
       "2"
      ]
     },
     "metadata": {},
     "execution_count": 26
    }
   ],
   "metadata": {}
  },
  {
   "cell_type": "code",
   "execution_count": 62,
   "source": [
    "N = 8\n",
    "b = 3\n",
    "\n",
    "binary_search_db(lambda x: x**b <= N, 1, 1e5)"
   ],
   "outputs": [
    {
     "output_type": "stream",
     "name": "stdout",
     "text": [
      "1 50000 100000.0\n",
      "1 25000 49999\n",
      "1 12500 24999\n",
      "1 6250 12499\n",
      "1 3125 6249\n",
      "1 1562 3124\n",
      "1 781 1561\n",
      "1 390 780\n",
      "1 195 389\n",
      "1 97 194\n",
      "1 48 96\n",
      "1 24 47\n",
      "1 12 23\n",
      "1 6 11\n",
      "1 3 5\n"
     ]
    },
    {
     "output_type": "execute_result",
     "data": {
      "text/plain": [
       "1"
      ]
     },
     "metadata": {},
     "execution_count": 62
    }
   ],
   "metadata": {}
  },
  {
   "cell_type": "code",
   "execution_count": 60,
   "source": [
    "binary_search_db(lambda x: False, 1, 100)"
   ],
   "outputs": [
    {
     "output_type": "stream",
     "name": "stdout",
     "text": [
      "1 50 100\n",
      "1 25 49\n",
      "1 12 24\n",
      "1 6 11\n",
      "1 3 5\n"
     ]
    },
    {
     "output_type": "execute_result",
     "data": {
      "text/plain": [
       "1"
      ]
     },
     "metadata": {},
     "execution_count": 60
    }
   ],
   "metadata": {}
  }
 ],
 "metadata": {
  "orig_nbformat": 4,
  "language_info": {
   "name": "python",
   "version": "3.9.6",
   "mimetype": "text/x-python",
   "codemirror_mode": {
    "name": "ipython",
    "version": 3
   },
   "pygments_lexer": "ipython3",
   "nbconvert_exporter": "python",
   "file_extension": ".py"
  },
  "kernelspec": {
   "name": "python3",
   "display_name": "Python 3.9.6 64-bit ('.kyopuro': venv)"
  },
  "interpreter": {
   "hash": "8da7d83cc153f31c71ae5eea46d38b0b8f8ef3a488da9342d55dcc8298fdc97d"
  }
 },
 "nbformat": 4,
 "nbformat_minor": 2
}