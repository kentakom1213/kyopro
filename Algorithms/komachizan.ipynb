{
 "cells": [
  {
   "cell_type": "markdown",
   "metadata": {},
   "source": [
    "# 小町算の解を探索したい\n",
    "[解きたい問題](https://twitter.com/furusatojuku/status/1458234116260827136?s=20)\n",
    "\n",
    "---\n",
    "## 問題\n",
    "N個の与えられた数をもとに`+, -, *, /`の四則演算だけを用いて数Kを作ることができるか判定する。\n",
    "今回は問題の条件に則ってN=4とする。\n",
    "\n",
    "### 制約\n",
    "```\n",
    "N == 4\n",
    "1 <= A_i <= 9 (1 <= i <= N)\n",
    "```\n",
    "\n",
    "### 入力\n",
    "```\n",
    "N K\n",
    "A_1 A_2 ... A_N\n",
    "```\n",
    "\n",
    "### 出力\n",
    "条件を満たす場合は`Yes`、満たさない場合は`No`を出力せよ。\n",
    "また、条件を満たす場合には式の1例をスペース区切りのRPN形式で出力せよ。\n",
    "\n",
    "### 例\n",
    "**Input**\n",
    "```\n",
    "4 10\n",
    "3 4 5 6\n",
    "```\n",
    "\n",
    "**Output**\n",
    "```\n",
    "Yes\n",
    "3 4 * 5 * 6 /\n",
    "```"
   ]
  },
  {
   "cell_type": "markdown",
   "metadata": {},
   "source": [
    "## 方針\n",
    "普通の式を扱おうとすると、カッコを処理する必要がありめんどくさい。\n",
    "逆ポーランド記法を用いることで、簡単に実装できるはず。\n",
    "\n",
    "1. N個の数の順列を生成 → N! : (4! = 24)\n",
    "1. N個の数を処理するため、N-1個の演算子を生成 → (N-1)^4 : ((4-1)^4 = 81)\n",
    "1. RPNで処理\n",
    "1. 結果がKである場合停止して出力\n",
    "1. 全探索が終了したらNoを出力\n",
    "\n",
    "合計のループ回数は、24*81 = 1944 余裕はある。"
   ]
  },
  {
   "cell_type": "code",
   "execution_count": 1,
   "metadata": {},
   "outputs": [],
   "source": [
    "from itertools import permutations, product\n",
    "from operator import add, sub, mul, truediv"
   ]
  },
  {
   "cell_type": "code",
   "execution_count": 2,
   "metadata": {},
   "outputs": [],
   "source": [
    "# RPNパーサ\n",
    "# [a, b, c, d], [op1, op2, op3]\n",
    "# -> [a, b, op3(d, c)], [op1, op2]\n",
    "# -> [a, op2(op3(d, c), b)], [op1]\n",
    "# -> [op1(op2(op3(d, c), b), a)]\n",
    "# -> op1(op2(op3(d, c), b), a)\n",
    "\n",
    "func = {\n",
    "    \"+\": add,\n",
    "    \"-\": sub,\n",
    "    \"*\": mul,\n",
    "    \"/\": truediv,\n",
    "}\n",
    "\n",
    "def parse_rpn(nums, ops) -> int:\n",
    "    \"\"\"\n",
    "    argments\n",
    "    ---------------------\n",
    "    nums : list[int]\n",
    "    ops  : list[callable]\n",
    "\n",
    "    returns\n",
    "    ---------------------\n",
    "    res  : int\n",
    "    \"\"\"\n",
    "\n",
    "    res = nums.pop()\n",
    "    while nums:\n",
    "        n = nums.pop()\n",
    "        op = ops.pop()\n",
    "        res = func[op](res, n)\n",
    "        \n",
    "    return res\n"
   ]
  },
  {
   "cell_type": "code",
   "execution_count": 3,
   "metadata": {},
   "outputs": [
    {
     "data": {
      "text/plain": [
       "10.0"
      ]
     },
     "execution_count": 3,
     "metadata": {},
     "output_type": "execute_result"
    }
   ],
   "source": [
    "n = [6, 5, 4, 3]\n",
    "op = [\"/\", \"*\", \"*\"]\n",
    "parse_rpn(n, op)"
   ]
  },
  {
   "cell_type": "code",
   "execution_count": 5,
   "metadata": {},
   "outputs": [
    {
     "name": "stdout",
     "output_type": "stream",
     "text": [
      "Yes\n",
      "4 3 + 2 + 1 +\n"
     ]
    }
   ],
   "source": [
    "\n",
    "N, K = map(int, input().split())\n",
    "A = list(map(int, input().split()))\n",
    "\n",
    "permN = map(list, permutations(A))  # 重複のある順列も列挙されてしまうが、N=4で固定なので無視する\n",
    "operators = [\"+\", \"-\", \"*\", \"/\"]\n",
    "op_combi = map(list, product(*[operators]*3))\n",
    "\n",
    "for nums, ops in product(permN, op_combi):\n",
    "    res = parse_rpn(nums[:], ops[:])\n",
    "    if res == K:\n",
    "        print(\"Yes\")\n",
    "        # 文字列を出力\n",
    "        out = str(nums.pop())\n",
    "        while nums:\n",
    "            out += \" \" + str(nums.pop())\n",
    "            out += \" \" + ops.pop()\n",
    "\n",
    "        print(out)\n",
    "        break\n",
    "else:\n",
    "    print(\"No\")"
   ]
  },
  {
   "cell_type": "markdown",
   "metadata": {},
   "source": [
    "## 失敗\n",
    "**Input**\n",
    "```\n",
    "4 10\n",
    "3 4 7 8\n",
    "```\n",
    "\n",
    "```\n",
    "-> No\n",
    "```\n",
    "\n",
    "答えである\n",
    "```\n",
    "3 7 4 / - 8\n",
    "```\n",
    "\n",
    "を認識できなかったのが問題"
   ]
  },
  {
   "cell_type": "markdown",
   "metadata": {},
   "source": [
    "## 再度挑戦\n",
    "演算子と数を混ぜた7個の順列を取る。\n",
    "合計のループ回数は、4^3 * 7! = 322560、結構きわどい"
   ]
  },
  {
   "cell_type": "code",
   "execution_count": 6,
   "metadata": {},
   "outputs": [],
   "source": [
    "# 改良版\n",
    "# [3, 7, 4, \"/\", \"-\", 8, \"*\"]\n",
    "# -> [\"*\", 8, \"-\", \"/\", 4, 7, 3]\n",
    "# 数はスタックに保存、演算子が来たらスタックから取り出して処理\n",
    "\n",
    "func = {\n",
    "    \"+\": add,\n",
    "    \"-\": sub,\n",
    "    \"*\": mul,\n",
    "    \"/\": truediv,\n",
    "}\n",
    "\n",
    "def parse_rpn2(f) -> int:\n",
    "    \"\"\"\n",
    "    argments\n",
    "    ---------------------\n",
    "    f    : list[int, str]\n",
    "\n",
    "    returns\n",
    "    ---------------------\n",
    "    res  : int\n",
    "    \"\"\"\n",
    "    f.reverse()\n",
    "    stack = []\n",
    "    while f:\n",
    "        try:\n",
    "            item = f.pop()\n",
    "            if isinstance(item, int):\n",
    "                stack.append(item)\n",
    "            else:\n",
    "                a, b = stack.pop(), stack.pop()\n",
    "                temp = func[item](b, a)\n",
    "                stack.append(temp)\n",
    "        except:  # うまくいかない場合は無視\n",
    "            return None\n",
    "        \n",
    "    return stack[0]"
   ]
  },
  {
   "cell_type": "code",
   "execution_count": 7,
   "metadata": {},
   "outputs": [
    {
     "data": {
      "text/plain": [
       "10.0"
      ]
     },
     "execution_count": 7,
     "metadata": {},
     "output_type": "execute_result"
    }
   ],
   "source": [
    "parse_rpn2([3, 7, 4, \"/\", \"-\", 8, \"*\"])"
   ]
  },
  {
   "cell_type": "code",
   "execution_count": 10,
   "metadata": {},
   "outputs": [
    {
     "name": "stdout",
     "output_type": "stream",
     "text": [
      "Yes\n",
      "4 1 3 / / 2 -\n"
     ]
    }
   ],
   "source": [
    "N, K = map(int, input().split())\n",
    "A = list(map(int, input().split()))\n",
    "\n",
    "# N, K = 4, 10\n",
    "# A = [3, 4, 7, 8]\n",
    "\n",
    "operators = [\"+\", \"-\", \"*\", \"/\"]\n",
    "op_combi = map(list, product(*[operators]*3))\n",
    "\n",
    "flag = False\n",
    "for ops in op_combi:\n",
    "    items = ops + A\n",
    "    for f in permutations(items):\n",
    "        res = parse_rpn2(list(f))\n",
    "        if res == K:\n",
    "            flag = True\n",
    "            ok = f[:]\n",
    "\n",
    "if flag:\n",
    "    print(\"Yes\")\n",
    "    print(\" \".join(map(str, ok)))\n",
    "else:\n",
    "    print(\"No\")"
   ]
  },
  {
   "cell_type": "markdown",
   "metadata": {},
   "source": [
    "## 成功\n",
    "↓最終的なコード"
   ]
  },
  {
   "cell_type": "code",
   "execution_count": 9,
   "metadata": {},
   "outputs": [
    {
     "name": "stdout",
     "output_type": "stream",
     "text": [
      "Yes\n",
      "8 3 7 4 / - *\n",
      "CPU times: user 2.78 s, sys: 0 ns, total: 2.78 s\n",
      "Wall time: 2.78 s\n"
     ]
    }
   ],
   "source": [
    "%%time\n",
    "\n",
    "func = {\n",
    "    \"+\": add,\n",
    "    \"-\": sub,\n",
    "    \"*\": mul,\n",
    "    \"/\": truediv,\n",
    "}\n",
    "\n",
    "def parse_rpn2(f) -> int:\n",
    "    f.reverse()\n",
    "    stack = []\n",
    "    while f:\n",
    "        try:\n",
    "            item = f.pop()\n",
    "            if isinstance(item, int):\n",
    "                stack.append(item)\n",
    "            else:\n",
    "                a, b = stack.pop(), stack.pop()\n",
    "                temp = func[item](b, a)\n",
    "                stack.append(temp)\n",
    "        except:  # うまくいかない場合は無視\n",
    "            return None\n",
    "    return stack[0]\n",
    "\n",
    "if __name__ == \"__main__\":  \n",
    "    # N, K = map(int, input().split())\n",
    "    # A = list(map(int, input().split()))\n",
    "    N, K = 4, 10\n",
    "    A = [3, 4, 7, 8]\n",
    "\n",
    "    operators = [\"+\", \"-\", \"*\", \"/\"]\n",
    "    op_combi = map(list, product(*[operators]*3))\n",
    "\n",
    "    flag = False\n",
    "    for ops in op_combi:\n",
    "        items = ops + A\n",
    "        for f in permutations(items):\n",
    "            res = parse_rpn2(list(f))\n",
    "            if res == K:\n",
    "                flag = True\n",
    "                ok = f[:]\n",
    "\n",
    "    if flag:\n",
    "        print(\"Yes\")\n",
    "        print(\" \".join(map(str, ok)))\n",
    "    else:\n",
    "        print(\"No\")"
   ]
  },
  {
   "cell_type": "markdown",
   "metadata": {},
   "source": [
    "↑AtCoderなら普通にTLEだけどまあいいでしょう。"
   ]
  }
 ],
 "metadata": {
  "interpreter": {
   "hash": "31f2aee4e71d21fbe5cf8b01ff0e069b9275f58929596ceb00d14d90e3e16cd6"
  },
  "kernelspec": {
   "display_name": "Python 3.7.3 64-bit",
   "language": "python",
   "name": "python3"
  },
  "language_info": {
   "codemirror_mode": {
    "name": "ipython",
    "version": 3
   },
   "file_extension": ".py",
   "mimetype": "text/x-python",
   "name": "python",
   "nbconvert_exporter": "python",
   "pygments_lexer": "ipython3",
   "version": "3.7.3"
  },
  "orig_nbformat": 4
 },
 "nbformat": 4,
 "nbformat_minor": 2
}
