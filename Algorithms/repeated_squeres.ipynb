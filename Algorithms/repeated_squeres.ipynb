{
 "cells": [
  {
   "cell_type": "markdown",
   "metadata": {},
   "source": [
    "# 高速累乗計算アルゴリズム\n",
    "繰り返し二乗法による累乗計算の高速化\n",
    "\n",
    "参考:\n",
    "[高速累乗計算(python3)](https://qiita.com/b1ueskydragon/items/0b8e0c382d782423c6d3)"
   ]
  },
  {
   "cell_type": "code",
   "execution_count": 9,
   "metadata": {},
   "outputs": [],
   "source": [
    "import sys\n",
    "sys.setrecursionlimit(50000)"
   ]
  },
  {
   "cell_type": "code",
   "execution_count": 10,
   "metadata": {},
   "outputs": [],
   "source": [
    "def show(func):\n",
    "    def wrapper(n, i):\n",
    "        print(n, i)\n",
    "        return func(n, i)\n",
    "    return wrapper"
   ]
  },
  {
   "cell_type": "markdown",
   "metadata": {},
   "source": [
    "### 普通に実装\n",
    "愚直な再帰\n",
    "O(n)"
   ]
  },
  {
   "cell_type": "code",
   "execution_count": 11,
   "metadata": {},
   "outputs": [],
   "source": [
    "@show\n",
    "def pow_repeat(n, i):\n",
    "    if i == 0:\n",
    "        return 1\n",
    "    else:\n",
    "        return n * pow_repeat(n, i-1)"
   ]
  },
  {
   "cell_type": "code",
   "execution_count": 12,
   "metadata": {},
   "outputs": [
    {
     "name": "stdout",
     "output_type": "stream",
     "text": [
      "2 20\n",
      "2 19\n",
      "2 18\n",
      "2 17\n",
      "2 16\n",
      "2 15\n",
      "2 14\n",
      "2 13\n",
      "2 12\n",
      "2 11\n",
      "2 10\n",
      "2 9\n",
      "2 8\n",
      "2 7\n",
      "2 6\n",
      "2 5\n",
      "2 4\n",
      "2 3\n",
      "2 2\n",
      "2 1\n",
      "2 0\n"
     ]
    },
    {
     "data": {
      "text/plain": [
       "1048576"
      ]
     },
     "execution_count": 12,
     "metadata": {},
     "output_type": "execute_result"
    }
   ],
   "source": [
    "pow_repeat(2, 20)"
   ]
  },
  {
   "cell_type": "markdown",
   "metadata": {},
   "source": [
    "### 掛け算を減らす\n",
    "iが偶数の場合にnを2乗して、i//2とする\n",
    "O(log(n))"
   ]
  },
  {
   "cell_type": "code",
   "execution_count": 13,
   "metadata": {},
   "outputs": [],
   "source": [
    "@show\n",
    "def pow_squere(n, i):\n",
    "    if i == 0:\n",
    "        return 1\n",
    "    elif not (i & 1):\n",
    "        return pow_squere(n**2, i//2)\n",
    "    else:\n",
    "        return n * pow_squere(n, i-1)"
   ]
  },
  {
   "cell_type": "code",
   "execution_count": 14,
   "metadata": {},
   "outputs": [
    {
     "name": "stdout",
     "output_type": "stream",
     "text": [
      "2 20\n",
      "4 10\n",
      "16 5\n",
      "16 4\n",
      "256 2\n",
      "65536 1\n",
      "65536 0\n"
     ]
    },
    {
     "data": {
      "text/plain": [
       "1048576"
      ]
     },
     "execution_count": 14,
     "metadata": {},
     "output_type": "execute_result"
    }
   ],
   "source": [
    "pow_squere(2, 20)"
   ]
  },
  {
   "cell_type": "markdown",
   "metadata": {},
   "source": [
    "### スタックメモリ領域を減らす\n",
    "指数を割り続ける方式"
   ]
  },
  {
   "cell_type": "code",
   "execution_count": 15,
   "metadata": {},
   "outputs": [],
   "source": [
    "def pow_sq_not_rec(n, i):\n",
    "    if i == 0:\n",
    "        return 1\n",
    "    K = 1\n",
    "    while i > 1:\n",
    "        print(K, n, i)\n",
    "        if (i & 1):\n",
    "            K *= n  # 奇数の場合に端数を一旦保存しておく\n",
    "            n **= 2\n",
    "            i = (i - 1) // 2\n",
    "        else:\n",
    "            n **= 2\n",
    "            i //= 2\n",
    "    \n",
    "    return K * n"
   ]
  },
  {
   "cell_type": "code",
   "execution_count": 16,
   "metadata": {},
   "outputs": [
    {
     "name": "stdout",
     "output_type": "stream",
     "text": [
      "1 2 10\n",
      "1 4 5\n",
      "4 16 2\n"
     ]
    },
    {
     "data": {
      "text/plain": [
       "1024"
      ]
     },
     "execution_count": 16,
     "metadata": {},
     "output_type": "execute_result"
    }
   ],
   "source": [
    "pow_sq_not_rec(2, 10)"
   ]
  },
  {
   "cell_type": "markdown",
   "metadata": {},
   "source": [
    "## 時間計測"
   ]
  },
  {
   "cell_type": "code",
   "execution_count": 17,
   "metadata": {},
   "outputs": [],
   "source": [
    "## 愚直な実装\n",
    "def pow_repeat(n, i):\n",
    "    if i == 0:\n",
    "        return 1\n",
    "    else:\n",
    "        return n * pow_repeat(n, i-1)\n",
    "\n",
    "## 高速化\n",
    "def pow_squere(n, i):\n",
    "    if i == 0:\n",
    "        return 1\n",
    "    elif not (i & 1):\n",
    "        return pow_squere(n**2, i//2)\n",
    "    else:\n",
    "        return n * pow_squere(n, i-1)\n",
    "\n",
    "## ループによる実装\n",
    "def pow_sq_not_rec(n, i):\n",
    "    if i == 0:\n",
    "        return 1\n",
    "    K = 1\n",
    "    while i > 1:\n",
    "        if (i & 1):\n",
    "            K *= n  # 奇数の場合に端数を一旦保存しておく\n",
    "            n **= 2\n",
    "            i = (i - 1) // 2\n",
    "        else:\n",
    "            n **= 2\n",
    "            i //= 2\n",
    "    \n",
    "    return K * n"
   ]
  },
  {
   "cell_type": "code",
   "execution_count": 18,
   "metadata": {},
   "outputs": [
    {
     "name": "stdout",
     "output_type": "stream",
     "text": [
      "160 µs ± 2.74 µs per loop (mean ± std. dev. of 7 runs, 10000 loops each)\n",
      "13.9 µs ± 23.5 ns per loop (mean ± std. dev. of 7 runs, 100000 loops each)\n",
      "10 µs ± 24.2 ns per loop (mean ± std. dev. of 7 runs, 100000 loops each)\n",
      "1.91 µs ± 30.5 ns per loop (mean ± std. dev. of 7 runs, 1000000 loops each)\n"
     ]
    }
   ],
   "source": [
    "%timeit pow_repeat(3, 200)\n",
    "%timeit pow_squere(3, 200)\n",
    "%timeit pow_sq_not_rec(3, 200)\n",
    "%timeit pow(3, 200)"
   ]
  },
  {
   "cell_type": "code",
   "execution_count": 19,
   "metadata": {},
   "outputs": [
    {
     "name": "stdout",
     "output_type": "stream",
     "text": [
      "75.9 µs ± 474 ns per loop (mean ± std. dev. of 7 runs, 10000 loops each)\n",
      "13.4 µs ± 333 ns per loop (mean ± std. dev. of 7 runs, 100000 loops each)\n",
      "8.53 µs ± 23.6 ns per loop (mean ± std. dev. of 7 runs, 100000 loops each)\n",
      "1.58 µs ± 23.3 ns per loop (mean ± std. dev. of 7 runs, 1000000 loops each)\n"
     ]
    }
   ],
   "source": [
    "%timeit pow_repeat(2, 101)\n",
    "%timeit pow_squere(2, 101)\n",
    "%timeit pow_sq_not_rec(2, 101)\n",
    "%timeit pow(2, 101)"
   ]
  },
  {
   "cell_type": "code",
   "execution_count": 20,
   "metadata": {},
   "outputs": [
    {
     "name": "stdout",
     "output_type": "stream",
     "text": [
      "215 µs ± 4.73 µs per loop (mean ± std. dev. of 7 runs, 1000 loops each)\n",
      "14.5 µs ± 187 ns per loop (mean ± std. dev. of 7 runs, 100000 loops each)\n",
      "11.8 µs ± 133 ns per loop (mean ± std. dev. of 7 runs, 100000 loops each)\n",
      "2.13 µs ± 10.6 ns per loop (mean ± std. dev. of 7 runs, 100000 loops each)\n"
     ]
    }
   ],
   "source": [
    "%timeit pow_repeat(7, 256)\n",
    "%timeit pow_squere(7, 256)\n",
    "%timeit pow_sq_not_rec(7, 256)\n",
    "%timeit pow(7, 256)"
   ]
  },
  {
   "cell_type": "markdown",
   "metadata": {},
   "source": [
    "## 結論\n",
    "O(log(n))のアルゴリズムは強い\n",
    "基本的にループの方が速い"
   ]
  },
  {
   "cell_type": "markdown",
   "metadata": {},
   "source": [
    "# POW_MOD\n",
    "整数のn累乗の剰余を高速に求める"
   ]
  },
  {
   "cell_type": "code",
   "execution_count": 23,
   "metadata": {},
   "outputs": [],
   "source": [
    "def pow_mod(n, i, p):\n",
    "    if i == 0:\n",
    "        return 1 % p\n",
    "    K = 1\n",
    "    while i > 1:\n",
    "        if (i & 1):\n",
    "            K = K * n % p  # 奇数の場合に端数を一旦保存しておく\n",
    "            n = n ** 2 % p\n",
    "            i = (i - 1) // 2\n",
    "        else:\n",
    "            n = n ** 2 % p\n",
    "            i //= 2\n",
    "    \n",
    "    return (K * n) % p"
   ]
  },
  {
   "cell_type": "code",
   "execution_count": 30,
   "metadata": {},
   "outputs": [],
   "source": [
    "from random import randint"
   ]
  },
  {
   "cell_type": "code",
   "execution_count": null,
   "metadata": {},
   "outputs": [],
   "source": [
    "for _ in range(1000):\n",
    "    n, i, p = randint(10, 30), randint(20, 40), randint(100, 9999)\n",
    "    "
   ]
  }
 ],
 "metadata": {
  "interpreter": {
   "hash": "31f2aee4e71d21fbe5cf8b01ff0e069b9275f58929596ceb00d14d90e3e16cd6"
  },
  "kernelspec": {
   "display_name": "Python 3.8.2 64-bit",
   "language": "python",
   "name": "python3"
  },
  "language_info": {
   "codemirror_mode": {
    "name": "ipython",
    "version": 3
   },
   "file_extension": ".py",
   "mimetype": "text/x-python",
   "name": "python",
   "nbconvert_exporter": "python",
   "pygments_lexer": "ipython3",
   "version": "3.7.3"
  },
  "orig_nbformat": 4
 },
 "nbformat": 4,
 "nbformat_minor": 2
}
