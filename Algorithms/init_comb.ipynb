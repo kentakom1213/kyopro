{
 "cells": [
  {
   "cell_type": "markdown",
   "source": [
    "# 二項係数を高速に求める"
   ],
   "metadata": {}
  },
  {
   "cell_type": "code",
   "execution_count": 4,
   "source": [
    "MAX = 210000  # 何を根拠に？\n",
    "MOD = 1000000007\n",
    "fac, finv, inv = [0]*MAX, [0]*MAX, [0]*MAX\n",
    "\n",
    "def COMinit():\n",
    "    fac[0] = fac[1] = 1\n",
    "    finv[0] = finv[1] = 1\n",
    "    inv[1] = 1\n",
    "    for i in range(2, MAX):\n",
    "        fac[i] = fac[i - 1] * i % MOD\n",
    "        inv[i] = MOD - inv[MOD % i] * (MOD // i) % MOD\n",
    "        finv[i] = finv[i - 1] * inv[i] % MOD\n",
    "\n",
    "def COM(n, k):\n",
    "    if n < k: return 0\n",
    "    if n < 0 or k < 0: return 0\n",
    "    return fac[n] * (finv[k] * finv[n - k] % MOD) % MOD"
   ],
   "outputs": [],
   "metadata": {}
  },
  {
   "cell_type": "code",
   "execution_count": 5,
   "source": [
    "COMinit()"
   ],
   "outputs": [],
   "metadata": {}
  },
  {
   "cell_type": "code",
   "execution_count": 6,
   "source": [
    "print(fac[:20])\n",
    "print(finv[:20])\n",
    "print(inv[:20])"
   ],
   "outputs": [
    {
     "output_type": "stream",
     "name": "stdout",
     "text": [
      "[1, 1, 2, 6, 24, 120, 720, 5040, 40320, 362880, 3628800, 39916800, 479001600, 227020758, 178290591, 674358851, 789741546, 425606191, 660911389, 557316307]\n",
      "[1, 1, 500000004, 166666668, 41666667, 808333339, 301388891, 900198419, 487524805, 831947206, 283194722, 571199524, 380933296, 490841026, 320774361, 821384963, 738836565, 514049213, 639669405, 402087866]\n",
      "[0, 1, 500000004, 333333336, 250000002, 400000003, 166666668, 142857144, 125000001, 111111112, 700000005, 818181824, 83333334, 153846155, 71428572, 466666670, 562500004, 352941179, 55555556, 157894738]\n"
     ]
    }
   ],
   "metadata": {}
  },
  {
   "cell_type": "code",
   "execution_count": 8,
   "source": [
    "COM(100, 20)"
   ],
   "outputs": [
    {
     "output_type": "execute_result",
     "data": {
      "text/plain": [
       "926116413"
      ]
     },
     "metadata": {},
     "execution_count": 8
    }
   ],
   "metadata": {}
  }
 ],
 "metadata": {
  "orig_nbformat": 4,
  "language_info": {
   "name": "python",
   "version": "3.9.6",
   "mimetype": "text/x-python",
   "codemirror_mode": {
    "name": "ipython",
    "version": 3
   },
   "pygments_lexer": "ipython3",
   "nbconvert_exporter": "python",
   "file_extension": ".py"
  },
  "kernelspec": {
   "name": "python3",
   "display_name": "Python 3.9.6 64-bit ('.kyopuro': venv)"
  },
  "interpreter": {
   "hash": "8da7d83cc153f31c71ae5eea46d38b0b8f8ef3a488da9342d55dcc8298fdc97d"
  }
 },
 "nbformat": 4,
 "nbformat_minor": 2
}