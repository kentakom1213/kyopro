{
 "cells": [
  {
   "cell_type": "code",
   "execution_count": 8,
   "metadata": {},
   "outputs": [],
   "source": [
    "import math"
   ]
  },
  {
   "cell_type": "code",
   "execution_count": 1,
   "metadata": {},
   "outputs": [],
   "source": [
    "# 偶奇判定\n",
    "def isOdd(n):\n",
    "    # return n % 2 == 0  # <- 遅い\n",
    "    return (n & 1)"
   ]
  },
  {
   "cell_type": "code",
   "execution_count": 3,
   "metadata": {},
   "outputs": [
    {
     "data": {
      "text/plain": [
       "1"
      ]
     },
     "execution_count": 3,
     "metadata": {},
     "output_type": "execute_result"
    }
   ],
   "source": [
    "isOdd(1)"
   ]
  },
  {
   "cell_type": "code",
   "execution_count": 5,
   "metadata": {},
   "outputs": [],
   "source": [
    "# 加法連鎖\n",
    "def mul_by_15(a):\n",
    "    b = (a + a) + a     # b = 3a\n",
    "    c = b + b           # c = 6a\n",
    "    return (c + c) + b  # 12a + 3a"
   ]
  },
  {
   "cell_type": "code",
   "execution_count": 6,
   "metadata": {},
   "outputs": [
    {
     "data": {
      "text/plain": [
       "300"
      ]
     },
     "execution_count": 6,
     "metadata": {},
     "output_type": "execute_result"
    }
   ],
   "source": [
    "mul_by_15(20)"
   ]
  },
  {
   "cell_type": "code",
   "execution_count": 6,
   "metadata": {},
   "outputs": [],
   "source": [
    "# 100の加法連鎖を求めよ\n",
    "\n",
    "# 8回の足し算\n",
    "def mul_by_100(a):\n",
    "    b = a + a\n",
    "    c = a + b  # c = 3a\n",
    "    c = c + c  # c = 6a\n",
    "    c = c + c  # c = 12a\n",
    "    c = c + c  # c = 24a\n",
    "    c = c + c  # c = 48a\n",
    "    return (c + c) + (b + b)\n",
    "    "
   ]
  },
  {
   "cell_type": "code",
   "execution_count": 7,
   "metadata": {},
   "outputs": [
    {
     "data": {
      "text/plain": [
       "200"
      ]
     },
     "execution_count": 7,
     "metadata": {},
     "output_type": "execute_result"
    }
   ],
   "source": [
    "mul_by_100(2)"
   ]
  },
  {
   "cell_type": "code",
   "execution_count": 1,
   "metadata": {},
   "outputs": [],
   "source": [
    "def factoring(n):\n",
    "    result = [n]\n",
    "    while result[-1] != 0:\n",
    "        f = result.pop()\n",
    "        for i in range(2, int(f ** 0.5 + 1)):\n",
    "            if f % i == 0:\n",
    "                result += [i, f//i]\n",
    "                break\n",
    "        else:\n",
    "            result += [f, 0]\n",
    "    return result[:-1]"
   ]
  },
  {
   "cell_type": "code",
   "execution_count": 5,
   "metadata": {},
   "outputs": [
    {
     "name": "stdout",
     "output_type": "stream",
     "text": [
      "[2, 2, 2, 2, 2, 3]\n"
     ]
    }
   ],
   "source": [
    "print(factoring(96))"
   ]
  }
 ],
 "metadata": {
  "interpreter": {
   "hash": "31f2aee4e71d21fbe5cf8b01ff0e069b9275f58929596ceb00d14d90e3e16cd6"
  },
  "kernelspec": {
   "display_name": "Python 3.8.2 64-bit",
   "name": "python3"
  },
  "language_info": {
   "codemirror_mode": {
    "name": "ipython",
    "version": 3
   },
   "file_extension": ".py",
   "mimetype": "text/x-python",
   "name": "python",
   "nbconvert_exporter": "python",
   "pygments_lexer": "ipython3",
   "version": "3.7.3"
  },
  "orig_nbformat": 4
 },
 "nbformat": 4,
 "nbformat_minor": 2
}
