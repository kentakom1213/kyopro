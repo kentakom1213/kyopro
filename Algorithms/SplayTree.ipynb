{
 "cells": [
  {
   "cell_type": "markdown",
   "metadata": {},
   "source": [
    "# Splay木(平衡二分探索木)\n",
    "## 概要\n",
    "木が平衡に保たれるため、高速にアクセスできる二分探索木\n",
    "### 計算量\n",
    "追加、削除、探索: $O(logN)$\n",
    "\n",
    "## 参考\n",
    "- [【木マスター養成講座】7-1. Splay木ってなに〜？説明編【競プロかつっぱ】](https://www.youtube.com/watch?v=M6LcINhgXeM)\n",
    "- [【木マスター養成講座】7-2. Splay木ってなに〜？実装編１【競プロかつっぱ】](https://www.youtube.com/watch?v=M6LcINhgXeM&t=0s)\n",
    "- https://onlinejudge.u-aizu.ac.jp/solutions/problem/ITP2_1_A/review/4078592/catupper/C++14"
   ]
  },
  {
   "cell_type": "markdown",
   "metadata": {},
   "source": [
    "## 方針\n",
    "\n",
    "### クラス設計\n",
    "Nodeに対応するclassを作る\n",
    "```\n",
    "class Node:\n",
    "    val\n",
    "    |- left, right, parent: 親と子のポインタ\n",
    "    |- size: 部分木のサイズ\n",
    "    |_ value: 値\n",
    "    func\n",
    "    |- rotate(): 回転\n",
    "    |- splay(): meを上に上げる\n",
    "    |_ update(): サイズの更新\n",
    "```\n",
    "\n",
    "### 回転\n",
    "\n",
    "```\n",
    "   pp-> o\n",
    "        |\n",
    "    p-> o\n",
    "       / \\\n",
    " me-> o   B\n",
    "     / \\\n",
    "    A   C\n",
    "\n",
    "       ↓\n",
    "\n",
    "  pp-> o\n",
    "       |\n",
    "  me-> o\n",
    "      / \\\n",
    "     A   o <-p\n",
    "        / \\\n",
    "       C   B\n",
    "\n",
    "```\n",
    "- 全部で6つの代入\n",
    "1. `pp.left = pp.right = me` ## ppがいるか確認\n",
    "1. `me.parent = pp`\n",
    "1. `me.right = p`\n",
    "1. `p.parent = me`\n",
    "1. `p.left = C`\n",
    "1. `C.parent = p` ## Cがいるか確認"
   ]
  },
  {
   "cell_type": "code",
   "execution_count": 4,
   "metadata": {},
   "outputs": [],
   "source": [
    "import sys\n",
    "def err(*args, **kwargs): print(*args, **kwargs, file=sys.stderr)"
   ]
  },
  {
   "cell_type": "code",
   "execution_count": 11,
   "metadata": {},
   "outputs": [],
   "source": [
    "class SplayNode:\n",
    "    \"\"\"スプレー木のノード\n",
    "    Attributes:\n",
    "        left, right, parent (SplayNode): 親と子のノード\n",
    "        size (int): 部分木のサイズ\n",
    "        value: 値\n",
    "    \"\"\"\n",
    "    def __init__(self, value):\n",
    "        self.left = self.right = None\n",
    "        self.parent = None\n",
    "        self.size = 1\n",
    "        self.value = value\n",
    "    \n",
    "    def rotate(self):\n",
    "        p = self.parent\n",
    "        pp = p.parent\n",
    "\n",
    "        if p.left == self:\n",
    "            c = self.right\n",
    "            self.right = p\n",
    "            p.left = c\n",
    "        else:\n",
    "            c = self.left\n",
    "            self.left = p\n",
    "            p.right = c\n",
    "\n",
    "        if pp and pp.left == p:\n",
    "            pp.left = self\n",
    "        if pp and pp.right == p:\n",
    "            pp.right = self\n",
    "        \n",
    "        self.parent = pp\n",
    "        p.parent = self\n",
    "        if c:\n",
    "            c.parent = p\n",
    "        \n",
    "        # 下から順にupdate\n",
    "        p.update()\n",
    "        self.update()\n",
    "\n",
    "    def state(self):\n",
    "        if not self.parent:\n",
    "            return 0\n",
    "        if self.parent.left == self:\n",
    "            return 1\n",
    "        if self.parent.right == self:\n",
    "            return -1\n",
    "        return 0\n",
    "\n",
    "    def update(self):\n",
    "        self.size = 1\n",
    "        if self.left:\n",
    "            self.size += self.left.size\n",
    "        if self.right:\n",
    "            self.size += self.right.size\n",
    "\n",
    "    def splay(self):\n",
    "        while self.state() != 0:\n",
    "            if self.parent.state() == 0:\n",
    "                self.rotate()\n",
    "            elif self.state() == self.parent.state():\n",
    "                self.parent.rotate()\n",
    "                self.rotate()\n",
    "            else:\n",
    "                self.rotate()\n",
    "                self.rotate()\n",
    "\n",
    "\n",
    "def get(ind, root):\n",
    "    while True:\n",
    "        lsize = root.left.size if root.left else 0\n",
    "        if ind < lsize:\n",
    "            root = root.left\n",
    "        if ind == lsize:\n",
    "            root.splay()\n",
    "            return root\n",
    "        if ind > lsize:\n",
    "            root = root.right\n",
    "            ind = ind - lsize - 1\n",
    "    "
   ]
  },
  {
   "cell_type": "code",
   "execution_count": 12,
   "metadata": {},
   "outputs": [],
   "source": [
    "# Q = int(input())\n",
    "# queries = [tuple(map(int, input().split())) for _ in range(Q)]\n",
    "\n",
    "Q = 8\n",
    "queries = [\n",
    "    (0, 1,),\n",
    "    (0, 2,),\n",
    "    (0, 3,),\n",
    "    (2,),\n",
    "    (0, 4,),\n",
    "    (1, 0,),\n",
    "    (1, 1,),\n",
    "    (1, 2,),\n",
    "]"
   ]
  },
  {
   "cell_type": "code",
   "execution_count": 14,
   "metadata": {},
   "outputs": [
    {
     "name": "stdout",
     "output_type": "stream",
     "text": [
      "1\n",
      "2\n",
      "4\n"
     ]
    },
    {
     "name": "stderr",
     "output_type": "stream",
     "text": [
      "0 1\n",
      "0 2\n",
      "0 3\n",
      "2\n",
      "0 4\n",
      "1 0\n",
      "1 1\n",
      "1 2\n"
     ]
    }
   ],
   "source": [
    "# AOJ\n",
    "# https://judge.u-aizu.ac.jp/onlinejudge/description.jsp?id=ITP2_1_A&lang=ja\n",
    "\n",
    "vecsize = 0\n",
    "\n",
    "# ノード作成\n",
    "node = [SplayNode(None) for _ in range(22000)]\n",
    "\n",
    "# ノードをつなげる\n",
    "for i in range(Q):\n",
    "    node[i].parent = node[i+1]\n",
    "    node[i+1].left = node[i]\n",
    "    node[i+1].update()\n",
    "\n",
    "root = node[Q]\n",
    "\n",
    "for q in queries:\n",
    "    err(*q)\n",
    "    if q[0] == 0:\n",
    "        root = get(vecsize, root)\n",
    "        vecsize += 1\n",
    "        root.value = q[1]\n",
    "    elif q[0] == 1:\n",
    "        root = get(q[1], root)\n",
    "        print(root.value)\n",
    "    else:\n",
    "        vecsize -= 1"
   ]
  },
  {
   "cell_type": "markdown",
   "metadata": {},
   "source": [
    "### Listで再実装"
   ]
  },
  {
   "cell_type": "code",
   "execution_count": 15,
   "metadata": {},
   "outputs": [],
   "source": [
    "def delay(arr, i):\n",
    "    yield arr[i]"
   ]
  },
  {
   "cell_type": "code",
   "execution_count": 35,
   "metadata": {},
   "outputs": [
    {
     "data": {
      "text/plain": [
       "[[None, None],\n",
       " [[None, None], None],\n",
       " [[[None, None], None], None],\n",
       " [[[[None, None], None], None], None],\n",
       " [[[[[None, None], None], None], None], None],\n",
       " [None, None],\n",
       " [None, None],\n",
       " [None, None],\n",
       " [None, None],\n",
       " [None, None]]"
      ]
     },
     "execution_count": 35,
     "metadata": {},
     "output_type": "execute_result"
    }
   ],
   "source": [
    "l = [[None, None] for _ in range(10)]\n",
    "l[1][0] = l[0]\n",
    "l[2][0] = l[1]\n",
    "l[3][0] = l[2]\n",
    "l[4][0] = l[3]\n",
    "\n",
    "l"
   ]
  },
  {
   "cell_type": "code",
   "execution_count": 36,
   "metadata": {},
   "outputs": [],
   "source": [
    "l = [[None, None] for _ in range(10)]\n",
    "\n",
    "l[1][0] = l[0]\n",
    "l[2][0] = l[1]\n",
    "l[3][0] = l[2]\n",
    "l[4][0] = l[3]\n",
    "\n",
    "l"
   ]
  },
  {
   "cell_type": "markdown",
   "metadata": {},
   "source": [
    "## リベンジ\n",
    "参考\n",
    "- http://www.nct9.ne.jp/m_hiroi/light/pyalgo20.html"
   ]
  },
  {
   "cell_type": "code",
   "execution_count": null,
   "metadata": {},
   "outputs": [],
   "source": []
  }
 ],
 "metadata": {
  "interpreter": {
   "hash": "2f394aca7ca06fed1e6064aef884364492d7cdda3614a461e02e6407fc40ba69"
  },
  "kernelspec": {
   "display_name": "Python 3.9.9 64-bit ('base': conda)",
   "language": "python",
   "name": "python3"
  },
  "language_info": {
   "codemirror_mode": {
    "name": "ipython",
    "version": 3
   },
   "file_extension": ".py",
   "mimetype": "text/x-python",
   "name": "python",
   "nbconvert_exporter": "python",
   "pygments_lexer": "ipython3",
   "version": "3.9.9"
  },
  "orig_nbformat": 4
 },
 "nbformat": 4,
 "nbformat_minor": 2
}
