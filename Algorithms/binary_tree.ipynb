{
 "cells": [
  {
   "cell_type": "markdown",
   "metadata": {},
   "source": [
    "# 二分木を実装しよう\n",
    "最初から平衡木なんか作るからだめなんだ\n",
    "\n",
    "### 参考\n",
    "- Pythonによるアルゴリズム入門 (酒井和哉)"
   ]
  },
  {
   "cell_type": "code",
   "execution_count": 34,
   "metadata": {},
   "outputs": [],
   "source": [
    "from graphviz import Digraph"
   ]
  },
  {
   "cell_type": "code",
   "execution_count": 35,
   "metadata": {},
   "outputs": [],
   "source": [
    "class Node:\n",
    "    def __init__(self, val):\n",
    "        self.val = val\n",
    "        self.left = None\n",
    "        self.right = None\n",
    "        self.parent = None\n",
    "    \n",
    "    def __repr__(self):\n",
    "        res = \"Node(val:{}, left:{}, right:{}, parent:{})\".format(\n",
    "            self.val,\n",
    "            self.left.val if self.left else None,\n",
    "            self.right.val if self.right else None,\n",
    "            self.parent.val if self.parent else None\n",
    "        )\n",
    "        return res"
   ]
  },
  {
   "cell_type": "code",
   "execution_count": 36,
   "metadata": {},
   "outputs": [
    {
     "data": {
      "text/plain": [
       "Node(val:5, left:None, right:None, parent:None)"
      ]
     },
     "execution_count": 36,
     "metadata": {},
     "output_type": "execute_result"
    }
   ],
   "source": [
    "Node(5)"
   ]
  },
  {
   "cell_type": "code",
   "execution_count": 42,
   "metadata": {},
   "outputs": [],
   "source": [
    "class BSTree:\n",
    "    def __init__(self):\n",
    "        self.root = None\n",
    "    \n",
    "    def insert(self, node):\n",
    "        \"\"\"要素の挿入を行う\n",
    "        Args:\n",
    "            node (Node): 追加する要素\n",
    "        \"\"\"\n",
    "        # 接点(parent)の探索\n",
    "        parent = None\n",
    "        ptr = self.root\n",
    "        while ptr != None:\n",
    "            parent = ptr\n",
    "            ptr = parent.left if node.val < parent.val else parent.right\n",
    "        \n",
    "        # 要素の挿入\n",
    "        node.parent = parent\n",
    "        if parent == None:\n",
    "            self.root = node\n",
    "        elif node.val < parent.val:\n",
    "            parent.left = node\n",
    "        else:\n",
    "            parent.right = node\n",
    "    \n",
    "    def delete(self, node):\n",
    "        \"\"\"要素の削除を行う\n",
    "\n",
    "        Args:\n",
    "            node (Node): 削除する要素\n",
    "        \"\"\"\n",
    "        if node.left == None:\n",
    "            self.transplant(node, node.right)\n",
    "        elif node.right == None:\n",
    "            self.transplant(node, node.left)\n",
    "        else:\n",
    "            y = self.search_min(node.right)\n",
    "\n",
    "            # yがnodeの直下にない場合、yをnodeの真下に持ってくる必要がある\n",
    "            if y.parent != node:\n",
    "                # 一旦yを切り離す\n",
    "                self.transplant(y, y.right)\n",
    "                # yの右側にnodeの右側を貼り付ける\n",
    "                y.right = node.right\n",
    "                y.right.parent = y\n",
    "\n",
    "            # yの左側にnodeの左側を貼り付ける\n",
    "            self.transplant(node, y)\n",
    "            y.left = node.left\n",
    "            y.left.parent = y\n",
    "    \n",
    "    def transplant(self, u, v):\n",
    "        \"\"\"ノードの付け替えを行う\n",
    "\n",
    "        Args:\n",
    "            u (Node): 削除されるノード\n",
    "            v (Node): 子となるノード\n",
    "        \"\"\"\n",
    "        if u.parent == None:\n",
    "            self.root = v\n",
    "        elif u.parent.left == u:\n",
    "            u.parent.left = v\n",
    "        else:\n",
    "            u.parent.right = v\n",
    "        if v != None:\n",
    "            v.parent = u.parent  # 親の更新\n",
    "        \n",
    "    @staticmethod\n",
    "    def search_min(node) -> Node:\n",
    "        \"\"\"木の最小値の探索を行う\n",
    "\n",
    "        Args:\n",
    "            node (Node): 部分木のroot\n",
    "        Returns:\n",
    "            Node: 木の中で最小の値\n",
    "        \"\"\"\n",
    "        while node.left:\n",
    "            node = node.left\n",
    "        \n",
    "        return node\n",
    "    \n",
    "    def search(self, key) -> Node:\n",
    "        \"\"\"木の要素を探索する\n",
    "        \n",
    "        Args:\n",
    "            key (Node): 探索する値\n",
    "        Returns:\n",
    "            Node: 見つかったノード\n",
    "        \"\"\"\n",
    "        return self.partial_search(self.root, key)\n",
    "    \n",
    "    def partial_search(self, node, key) -> Node:\n",
    "        \"\"\"部分木の要素を探索する\n",
    "        \n",
    "        Args:\n",
    "            root (Node): 部分木の根\n",
    "            key : 探索する値\n",
    "        Returns:\n",
    "            Node: 見つかったノード\n",
    "        \"\"\"\n",
    "        if node == None or node.val == key:\n",
    "            return node\n",
    "        elif key < node.val:\n",
    "            return self.partial_search(node.left, key)\n",
    "        else:\n",
    "            return self.partial_search(node.right, key)\n",
    "    \n",
    "    def traverse(self, node=None):\n",
    "        \"\"\"木を巡回し、小さい順に値を返すジェネレータ\n",
    "\n",
    "        Args:\n",
    "            node=None (Node): 開始ノード\n",
    "        Yields:\n",
    "            Node: 見つかったノード\n",
    "        \"\"\"\n",
    "        if node == None:\n",
    "            node = self.root\n",
    "        \n",
    "        if node.left:\n",
    "            yield from self.traverse(node.left)\n",
    "        \n",
    "        yield node\n",
    "\n",
    "        if node.right:\n",
    "            yield from self.traverse(node.right)\n",
    "    \n",
    "    def as_graph(self, format=\"png\"):\n",
    "        \"\"\"グラフを可視化\n",
    "        \n",
    "        Args:\n",
    "            format=\"png\" (str): graphvizの出力形式\n",
    "        Returns:\n",
    "            graphviz.Digraph\n",
    "        \"\"\"\n",
    "\n",
    "        graph = Digraph(format=format)\n",
    "        for node in self.traverse():\n",
    "            v = str(node.val)\n",
    "            graph.node(v)\n",
    "        \n",
    "        for node in self.traverse():\n",
    "            v = str(node.val)\n",
    "            if node.left:\n",
    "                l = str(node.left.val)\n",
    "                graph.edge(v, l)\n",
    "            if node.right:\n",
    "                r = str(node.right.val)\n",
    "                graph.edge(v, r)\n",
    "        \n",
    "        return graph"
   ]
  },
  {
   "cell_type": "markdown",
   "metadata": {},
   "source": [
    "## テスト"
   ]
  },
  {
   "cell_type": "code",
   "execution_count": 38,
   "metadata": {},
   "outputs": [
    {
     "name": "stdout",
     "output_type": "stream",
     "text": [
      "Node(val:10, left:5, right:20, parent:None)\n",
      "Node(val:5, left:None, right:8, parent:10)\n",
      "Node(val:8, left:None, right:None, parent:5)\n",
      "Node(val:20, left:None, right:None, parent:10)\n",
      "None\n",
      "Node(val:10, left:5, right:20, parent:None)\n",
      "None\n"
     ]
    }
   ],
   "source": [
    "tree = BSTree()\n",
    "\n",
    "tree.insert(Node(10))\n",
    "tree.insert(Node(5))\n",
    "tree.insert(Node(8))\n",
    "tree.insert(Node(20))\n",
    "\n",
    "# 存在する要素\n",
    "print(tree.search(10))\n",
    "print(tree.search(5))\n",
    "print(tree.search(8))\n",
    "print(tree.search(20))\n",
    "\n",
    "# 存在しない要素\n",
    "print(tree.search(100))\n",
    "\n",
    "# 削除\n",
    "x = tree.partial_search(tree.root, 10)\n",
    "print(x)\n",
    "\n",
    "tree.delete(x)\n",
    "\n",
    "print( tree.partial_search(tree.root, 10) )"
   ]
  },
  {
   "cell_type": "code",
   "execution_count": 46,
   "metadata": {},
   "outputs": [
    {
     "name": "stdout",
     "output_type": "stream",
     "text": [
      "Node(val:1, left:None, right:None, parent:5)\n",
      "Node(val:5, left:1, right:8, parent:10)\n",
      "Node(val:8, left:None, right:None, parent:5)\n",
      "Node(val:10, left:5, right:20, parent:None)\n",
      "Node(val:20, left:None, right:38, parent:10)\n",
      "Node(val:30, left:None, right:None, parent:38)\n",
      "Node(val:38, left:30, right:None, parent:20)\n"
     ]
    },
    {
     "data": {
      "text/plain": [
       "'images/BSTree.png'"
      ]
     },
     "execution_count": 46,
     "metadata": {},
     "output_type": "execute_result"
    }
   ],
   "source": [
    "tree = BSTree()\n",
    "\n",
    "tree.insert(Node(10))\n",
    "tree.insert(Node(5))\n",
    "tree.insert(Node(8))\n",
    "tree.insert(Node(20))\n",
    "tree.insert(Node(1))\n",
    "tree.insert(Node(38))\n",
    "tree.insert(Node(30))\n",
    "\n",
    "# 木の操作\n",
    "for node in tree.traverse():\n",
    "    print(node)\n",
    "\n",
    "# 可視化\n",
    "graph = tree.as_graph()\n",
    "graph.render(\"./images/BSTree\")"
   ]
  },
  {
   "cell_type": "markdown",
   "metadata": {},
   "source": [
    "### 結果\n",
    "![graph](./images/BSTree.png)"
   ]
  }
 ],
 "metadata": {
  "interpreter": {
   "hash": "2f394aca7ca06fed1e6064aef884364492d7cdda3614a461e02e6407fc40ba69"
  },
  "kernelspec": {
   "display_name": "Python 3.9.9 64-bit ('base': conda)",
   "language": "python",
   "name": "python3"
  },
  "language_info": {
   "codemirror_mode": {
    "name": "ipython",
    "version": 3
   },
   "file_extension": ".py",
   "mimetype": "text/x-python",
   "name": "python",
   "nbconvert_exporter": "python",
   "pygments_lexer": "ipython3",
   "version": "3.9.9"
  },
  "orig_nbformat": 4
 },
 "nbformat": 4,
 "nbformat_minor": 2
}
